{
 "nbformat": 4,
 "nbformat_minor": 0,
 "metadata": {
  "colab": {
   "name": "NLP2-homework",
   "provenance": []
  },
  "kernelspec": {
   "name": "python3",
   "language": "python",
   "display_name": "Python 3 (ipykernel)"
  },
  "language_info": {
   "name": "python"
  }
 },
 "cells": [
  {
   "cell_type": "code",
   "execution_count": 1,
   "outputs": [],
   "source": [
    "text = '<!DOCTYPE html PUBLIC \"-//W3C//DTD XHTML 1.0 Transitional//EN\" \"http://www.w3.org/TR/xhtml1/DTD/xhtml1-transitional.dtd\">'"
   ],
   "metadata": {
    "collapsed": false,
    "pycharm": {
     "name": "#%%\n"
    }
   }
  },
  {
   "cell_type": "markdown",
   "source": [
    "NLP2_1\n",
    "https://www.hackerrank.com/challenges/detect-the-email-addresses/problem?isFullScreen=true"
   ],
   "metadata": {
    "collapsed": false
   }
  },
  {
   "cell_type": "code",
   "execution_count": 2,
   "outputs": [
    {
     "name": "stdout",
     "output_type": "stream",
     "text": [
      "\n"
     ]
    }
   ],
   "source": [
    "# Enter your code here. Read input from STDIN. Print output to STDOUT\n",
    "import re\n",
    "\n",
    "result = set(re.findall('[0-9A-z_]{1,}@[0-9A-z_]{1,}\\.[0-9A-z_]{1,}', text))\n",
    "result = list(result)\n",
    "result.sort()\n",
    "print(';'.join(result))"
   ],
   "metadata": {
    "collapsed": false,
    "pycharm": {
     "name": "#%%\n"
    }
   }
  },
  {
   "cell_type": "markdown",
   "source": [
    "NLP2_2 https://www.hackerrank.com/challenges/detect-the-domain-name/problem?isFullScreen=true"
   ],
   "metadata": {
    "collapsed": false
   }
  },
  {
   "cell_type": "code",
   "execution_count": 3,
   "outputs": [
    {
     "name": "stdout",
     "output_type": "stream",
     "text": [
      "w3.org\n"
     ]
    }
   ],
   "source": [
    "# Enter your code here. Read input from STDIN. Print output to STDOUT\n",
    "import re\n",
    "\n",
    "ls = re.findall('https{0,1}://[a-z.0-9]{1,}[.][a-z.0-9]{1,}[/?\"]', text)\n",
    "ls = list(set([re.sub('[!w]{3}[.]|[/?\"]|(https{0,1}:)', '', x) for x in ls]))\n",
    "ls.sort()\n",
    "print(';'.join(ls))"
   ],
   "metadata": {
    "collapsed": false,
    "pycharm": {
     "name": "#%%\n"
    }
   }
  },
  {
   "cell_type": "markdown",
   "source": [
    "NLP2_3 Реализовать классификатор токсичных комментариев tfidf на базе датасета\n",
    "https://www.kaggle.com/datasets/blackmoon/russian-language-toxic-comments\n",
    "\n",
    "Дубликат файла: https://cloud.mail.ru/public/Z4L3/vB8GcgTtK\n"
   ],
   "metadata": {
    "collapsed": false
   }
  },
  {
   "cell_type": "code",
   "execution_count": 4,
   "outputs": [
    {
     "name": "stdout",
     "output_type": "stream",
     "text": [
      "C:\\Users\\16706093\\PycharmProjects\\School_DS\\NLP-3\\data\n"
     ]
    },
    {
     "data": {
      "text/plain": "                                             comment  toxic\n0               Верблюдов-то за что? Дебилы, бл...\\n      1\n1  Хохлы, это отдушина затюканого россиянина, мол...      1\n2                          Собаке - собачья смерть\\n      1\n3  Страницу обнови, дебил. Это тоже не оскорблени...      1\n4  тебя не убедил 6-страничный пдф в том, что Скр...      1\n5  Для каких стан является эталоном современная с...      1\n6  В шапке были ссылки на инфу по текущему фильму...      0\n7  УПАД Т! ТАМ НЕЛЬЗЯ СТРОИТЬ! ТЕХНОЛОГИЙ НЕТ! РА...      1\n8                      Ебать тебя разносит, шизик.\\n      1\n9                          Обосрался, сиди обтекай\\n      1",
      "text/html": "<div>\n<style scoped>\n    .dataframe tbody tr th:only-of-type {\n        vertical-align: middle;\n    }\n\n    .dataframe tbody tr th {\n        vertical-align: top;\n    }\n\n    .dataframe thead th {\n        text-align: right;\n    }\n</style>\n<table border=\"1\" class=\"dataframe\">\n  <thead>\n    <tr style=\"text-align: right;\">\n      <th></th>\n      <th>comment</th>\n      <th>toxic</th>\n    </tr>\n  </thead>\n  <tbody>\n    <tr>\n      <th>0</th>\n      <td>Верблюдов-то за что? Дебилы, бл...\\n</td>\n      <td>1</td>\n    </tr>\n    <tr>\n      <th>1</th>\n      <td>Хохлы, это отдушина затюканого россиянина, мол...</td>\n      <td>1</td>\n    </tr>\n    <tr>\n      <th>2</th>\n      <td>Собаке - собачья смерть\\n</td>\n      <td>1</td>\n    </tr>\n    <tr>\n      <th>3</th>\n      <td>Страницу обнови, дебил. Это тоже не оскорблени...</td>\n      <td>1</td>\n    </tr>\n    <tr>\n      <th>4</th>\n      <td>тебя не убедил 6-страничный пдф в том, что Скр...</td>\n      <td>1</td>\n    </tr>\n    <tr>\n      <th>5</th>\n      <td>Для каких стан является эталоном современная с...</td>\n      <td>1</td>\n    </tr>\n    <tr>\n      <th>6</th>\n      <td>В шапке были ссылки на инфу по текущему фильму...</td>\n      <td>0</td>\n    </tr>\n    <tr>\n      <th>7</th>\n      <td>УПАД Т! ТАМ НЕЛЬЗЯ СТРОИТЬ! ТЕХНОЛОГИЙ НЕТ! РА...</td>\n      <td>1</td>\n    </tr>\n    <tr>\n      <th>8</th>\n      <td>Ебать тебя разносит, шизик.\\n</td>\n      <td>1</td>\n    </tr>\n    <tr>\n      <th>9</th>\n      <td>Обосрался, сиди обтекай\\n</td>\n      <td>1</td>\n    </tr>\n  </tbody>\n</table>\n</div>"
     },
     "execution_count": 4,
     "metadata": {},
     "output_type": "execute_result"
    }
   ],
   "source": [
    "import os\n",
    "import pandas as pd\n",
    "\n",
    "print(os.getcwd() + '\\data')\n",
    "df = pd.read_csv(os.getcwd() + '\\data\\labeled.csv')\n",
    "df['toxic'] = df['toxic'].astype(int)\n",
    "df.head(10)"
   ],
   "metadata": {
    "collapsed": false,
    "pycharm": {
     "name": "#%%\n"
    }
   }
  },
  {
   "cell_type": "code",
   "execution_count": 5,
   "outputs": [],
   "source": [
    "from nltk.tokenize import WordPunctTokenizer\n",
    "from nltk.stem import snowball\n",
    "from nltk.corpus import stopwords\n",
    "from pymorphy2 import MorphAnalyzer\n",
    "from tqdm import tqdm\n",
    "tqdm.pandas()\n",
    "\n",
    "\n",
    "# ф-я проверки слова соответствию пунктуации и стоп-словам\n",
    "def clean_stopwords(ls_words=[]):\n",
    "    rus_stem = snowball.SnowballStemmer(language='russian')\n",
    "    morph = MorphAnalyzer()\n",
    "    ls_new = []\n",
    "    if len(ls_words) > 0:\n",
    "        for word in ls_words:\n",
    "            # приводим слово к нормальной форме\n",
    "            morphed = morph.parse(word)[0].normal_form\n",
    "            # stem_word = rus_stem.stem(morphed)\n",
    "            # отбираем слова, которые несут смысловую нагрузку\n",
    "            if morphed not in stopwords.words('russian') and morphed.isalpha():\n",
    "                ls_new.append(rus_stem.stem(morphed))\n",
    "    return ls_new\n",
    "\n",
    "def txt_transform(phrase=''):\n",
    "\n",
    "    # из комментария составляем список слов\n",
    "    ls_tokens = tokenizer.tokenize(phrase)\n",
    "    # возвращаем исходник фразы\n",
    "    return ' '.join(clean_stopwords(ls_tokens))\n",
    "\n",
    "# производим обработку исходных комментариев\n",
    "tokenizer = WordPunctTokenizer()\n",
    "\n",
    "# так как обработку всего DF занимает около часа, то было решено результат выгрузить в csv\n",
    "# и если файл присутствует, то не запускать заново его обработку\n",
    "# если файл отсутствует в папке, то мы его рассчитываем и записываем в csv\n",
    "if not os.path.exists(os.getcwd() + '\\data\\cleaned.csv'):\n",
    "    df['transformed_comments'] = df['comment'].progress_apply(txt_transform)\n",
    "    # подсчитываем слова\n",
    "    df['count_words'] = df['transformed_comments'].apply(lambda x: len(x.split(' ')))\n",
    "    # получаем длину самого длинного комментария\n",
    "    max_length = df['count_words'].sort_values(ascending=False).to_list()[0]\n",
    "    df.to_csv(os.getcwd() + '\\data\\cleaned.csv')\n",
    "# иначе читаем из файла\n",
    "else:\n",
    "    df = pd.read_csv(os.getcwd() + '\\data\\cleaned.csv', index_col=0)\n",
    "    df['transformed_comments'] = df['transformed_comments'].astype(str)\n",
    "    df['comment'] = df['comment'].astype(str)\n"
   ],
   "metadata": {
    "collapsed": false,
    "pycharm": {
     "name": "#%%\n"
    }
   }
  },
  {
   "cell_type": "code",
   "execution_count": 6,
   "outputs": [
    {
     "data": {
      "text/plain": "                                             comment  toxic  \\\n0               Верблюдов-то за что? Дебилы, бл...\\n      1   \n1  Хохлы, это отдушина затюканого россиянина, мол...      1   \n2                          Собаке - собачья смерть\\n      1   \n3  Страницу обнови, дебил. Это тоже не оскорблени...      1   \n4  тебя не убедил 6-страничный пдф в том, что Скр...      1   \n5  Для каких стан является эталоном современная с...      1   \n6  В шапке были ссылки на инфу по текущему фильму...      0   \n7  УПАД Т! ТАМ НЕЛЬЗЯ СТРОИТЬ! ТЕХНОЛОГИЙ НЕТ! РА...      1   \n8                      Ебать тебя разносит, шизик.\\n      1   \n9                          Обосрался, сиди обтекай\\n      1   \n\n                                transformed_comments  count_words  \n0                                     верблюд деб бл            3  \n1  хохол эт отдушин затюкан россиянин мол вон хох...           13  \n2                                  собак собач смерт            3  \n3  страниц обнов деб эт оскорблен доказа факт деб...           16  \n4  убед страничн пдф скрипал отрав росс анализиро...           10  \n5  стан явля эталон современ систем здравоохранен...           10  \n6  шапк ссылк инф текущ фильм марвест ссылк замен...           27  \n7  упад стро технолог разворова трещин пош л туп ...           12  \n8                                   еба разнос шизик            3  \n9                                обосра сидет обтека            3  ",
      "text/html": "<div>\n<style scoped>\n    .dataframe tbody tr th:only-of-type {\n        vertical-align: middle;\n    }\n\n    .dataframe tbody tr th {\n        vertical-align: top;\n    }\n\n    .dataframe thead th {\n        text-align: right;\n    }\n</style>\n<table border=\"1\" class=\"dataframe\">\n  <thead>\n    <tr style=\"text-align: right;\">\n      <th></th>\n      <th>comment</th>\n      <th>toxic</th>\n      <th>transformed_comments</th>\n      <th>count_words</th>\n    </tr>\n  </thead>\n  <tbody>\n    <tr>\n      <th>0</th>\n      <td>Верблюдов-то за что? Дебилы, бл...\\n</td>\n      <td>1</td>\n      <td>верблюд деб бл</td>\n      <td>3</td>\n    </tr>\n    <tr>\n      <th>1</th>\n      <td>Хохлы, это отдушина затюканого россиянина, мол...</td>\n      <td>1</td>\n      <td>хохол эт отдушин затюкан россиянин мол вон хох...</td>\n      <td>13</td>\n    </tr>\n    <tr>\n      <th>2</th>\n      <td>Собаке - собачья смерть\\n</td>\n      <td>1</td>\n      <td>собак собач смерт</td>\n      <td>3</td>\n    </tr>\n    <tr>\n      <th>3</th>\n      <td>Страницу обнови, дебил. Это тоже не оскорблени...</td>\n      <td>1</td>\n      <td>страниц обнов деб эт оскорблен доказа факт деб...</td>\n      <td>16</td>\n    </tr>\n    <tr>\n      <th>4</th>\n      <td>тебя не убедил 6-страничный пдф в том, что Скр...</td>\n      <td>1</td>\n      <td>убед страничн пдф скрипал отрав росс анализиро...</td>\n      <td>10</td>\n    </tr>\n    <tr>\n      <th>5</th>\n      <td>Для каких стан является эталоном современная с...</td>\n      <td>1</td>\n      <td>стан явля эталон современ систем здравоохранен...</td>\n      <td>10</td>\n    </tr>\n    <tr>\n      <th>6</th>\n      <td>В шапке были ссылки на инфу по текущему фильму...</td>\n      <td>0</td>\n      <td>шапк ссылк инф текущ фильм марвест ссылк замен...</td>\n      <td>27</td>\n    </tr>\n    <tr>\n      <th>7</th>\n      <td>УПАД Т! ТАМ НЕЛЬЗЯ СТРОИТЬ! ТЕХНОЛОГИЙ НЕТ! РА...</td>\n      <td>1</td>\n      <td>упад стро технолог разворова трещин пош л туп ...</td>\n      <td>12</td>\n    </tr>\n    <tr>\n      <th>8</th>\n      <td>Ебать тебя разносит, шизик.\\n</td>\n      <td>1</td>\n      <td>еба разнос шизик</td>\n      <td>3</td>\n    </tr>\n    <tr>\n      <th>9</th>\n      <td>Обосрался, сиди обтекай\\n</td>\n      <td>1</td>\n      <td>обосра сидет обтека</td>\n      <td>3</td>\n    </tr>\n  </tbody>\n</table>\n</div>"
     },
     "execution_count": 6,
     "metadata": {},
     "output_type": "execute_result"
    }
   ],
   "source": [
    "# ищем дублирующиеся строки, у которых признак токсичности при этом разный\n",
    "ls_different_duplicates_comments = df[df.duplicated(subset=['transformed_comments', 'toxic'])]['transformed_comments']\n",
    "# получаем по таким записям список индексов\n",
    "ls_dif_dup_com_index = df[df['transformed_comments'].isin(ls_different_duplicates_comments)].index.to_list()\n",
    "# удаляем все такие записи, которые вносят неопределенность\n",
    "df = df.drop(index=ls_dif_dup_com_index, axis=0)\n",
    "# из оставшихся записей оставляем только уникальные по трансформированным записям\n",
    "df = df.drop(index=df[df.duplicated(subset=['transformed_comments'])].index.to_list(), axis=0)\n",
    "\n",
    "df.head(10)"
   ],
   "metadata": {
    "collapsed": false,
    "pycharm": {
     "name": "#%%\n"
    }
   }
  },
  {
   "cell_type": "code",
   "execution_count": 7,
   "outputs": [
    {
     "data": {
      "text/plain": "[('эт', 4843),\n ('все', 2415),\n ('моч', 1599),\n ('год', 1489),\n ('котор', 1381),\n ('ве', 1311),\n ('прост', 1275),\n ('ещ', 1257),\n ('сво', 1080),\n ('человек', 1079)]"
     },
     "execution_count": 7,
     "metadata": {},
     "output_type": "execute_result"
    }
   ],
   "source": [
    "#\n",
    "from collections import Counter\n",
    "# формируем bag of words\n",
    "bag = Counter(sum(df['transformed_comments'].str.split(' ').to_list(),[]))\n",
    "# преобразуем в список\n",
    "bag = list(bag.items())\n",
    "# производим сортировку по значению из списка 2 (по порядку)\n",
    "bag.sort(key=lambda x: x[1], reverse=True)\n",
    "\n",
    "bag[:10]"
   ],
   "metadata": {
    "collapsed": false,
    "pycharm": {
     "name": "#%%\n"
    }
   }
  },
  {
   "cell_type": "code",
   "execution_count": 8,
   "outputs": [
    {
     "name": "stdout",
     "output_type": "stream",
     "text": [
      "Fitting 5 folds for each of 147 candidates, totalling 735 fits\n",
      "\n",
      "Подбор параметров осуществлен за: 00:03:19\n",
      "Лучше зачение метрики F1: 0.6969744340128974 наблюдается при следующих параметрах TF-IDF:\n",
      "analyzer='char_wb', max_df=0.75, ngram_range=(2, 2)\n"
     ]
    }
   ],
   "source": [
    "import numpy as np\n",
    "import time\n",
    "from itertools import combinations_with_replacement\n",
    "\n",
    "#формируем наборы параметров для подбора\n",
    "min_df = [1] + list(range(0, 31, 5))[1:]\n",
    "max_df = list(np.array(np.arange(70,101, 5))/100)\n",
    "ngram_range = [x for x in combinations_with_replacement(list(range(3))[1:], 2)]\n",
    "\n",
    "from sklearn.model_selection import GridSearchCV\n",
    "from sklearn.pipeline import Pipeline\n",
    "from sklearn.feature_extraction.text import TfidfVectorizer\n",
    "from sklearn.linear_model import LogisticRegression\n",
    "\n",
    "#объявляем TF-IDF и логистическую регрессию\n",
    "logical = LogisticRegression(max_iter=10000, C=3, solver='liblinear')\n",
    "vectorizer = TfidfVectorizer(analyzer='char_wb')\n",
    "# создаем pipeline для работы с GridSearchCV\n",
    "pipeline = Pipeline([('vect', vectorizer), ('clf', logical)])\n",
    "params = {'vect__min_df': min_df, 'vect__max_df': max_df, 'vect__ngram_range': ngram_range}\n",
    "\n",
    "grid_search_clf = GridSearchCV(pipeline, params, cv=5, verbose=1, n_jobs=-1, scoring='f1')\n",
    "\n",
    "#для расчета времени работы подбора параметров\n",
    "t_start = time.time()\n",
    "#обучаемся\n",
    "grid_search_clf.fit(df['transformed_comments'], df['toxic'])\n",
    "t_end = time.time()\n",
    "\n",
    "print('')\n",
    "print(f\"Подбор параметров осуществлен за: {time.strftime('%H:%M:%S', time.gmtime(t_end-t_start))}\")\n",
    "print(f\"Лучше зачение метрики F1: {grid_search_clf.best_score_} наблюдается при следующих параметрах TF-IDF:\")\n",
    "print(f\"{str(grid_search_clf.best_estimator_[0]).replace('TfidfVectorizer', '')[1:-1]}\")\n"
   ],
   "metadata": {
    "collapsed": false,
    "pycharm": {
     "name": "#%%\n"
    }
   }
  },
  {
   "cell_type": "code",
   "execution_count": 11,
   "outputs": [
    {
     "name": "stdout",
     "output_type": "stream",
     "text": [
      "Результат по F1-мере: 0.7175043327556327\n",
      "Результат по метрике recall: 0.6684607104413348\n",
      "Результат по метрике precision: 0.7743142144638404\n",
      "Результат метрики AUC-ROC: 0.7854958371808182\n",
      "\n",
      "              precision    recall  f1-score   support\n",
      "\n",
      "           0       0.84      0.90      0.87      1857\n",
      "           1       0.77      0.67      0.72       929\n",
      "\n",
      "    accuracy                           0.82      2786\n",
      "   macro avg       0.81      0.79      0.80      2786\n",
      "weighted avg       0.82      0.82      0.82      2786\n",
      "\n"
     ]
    },
    {
     "data": {
      "image/svg+xml": "<svg class=\"main-svg\" xmlns=\"http://www.w3.org/2000/svg\" xmlns:xlink=\"http://www.w3.org/1999/xlink\" width=\"500\" height=\"500\" style=\"\" viewBox=\"0 0 500 500\"><rect x=\"0\" y=\"0\" width=\"500\" height=\"500\" style=\"fill: rgb(255, 255, 255); fill-opacity: 1;\"/><defs id=\"defs-6de48b\"><g class=\"clips\"><clipPath id=\"clip6de48bxyplot\" class=\"plotclip\"><rect width=\"340\" height=\"320\"/></clipPath><clipPath class=\"axesclip\" id=\"clip6de48bx\"><rect x=\"80\" y=\"0\" width=\"340\" height=\"500\"/></clipPath><clipPath class=\"axesclip\" id=\"clip6de48by\"><rect x=\"0\" y=\"100\" width=\"500\" height=\"320\"/></clipPath><clipPath class=\"axesclip\" id=\"clip6de48bxy\"><rect x=\"80\" y=\"100\" width=\"340\" height=\"320\"/></clipPath></g><g class=\"gradients\"/><g class=\"patterns\"/></defs><g class=\"bglayer\"><rect class=\"bg\" x=\"80\" y=\"100\" width=\"340\" height=\"320\" style=\"fill: rgb(229, 236, 246); fill-opacity: 1; stroke-width: 0;\"/></g><g class=\"layer-below\"><g class=\"imagelayer\"/><g class=\"shapelayer\"/></g><g class=\"cartesianlayer\"><g class=\"subplot xy\"><g class=\"layer-subplot\"><g class=\"shapelayer\"/><g class=\"imagelayer\"/></g><g class=\"gridlayer\"><g class=\"x\"><path class=\"xgrid crisp\" transform=\"translate(250,0)\" d=\"M0,100v320\" style=\"stroke: rgb(255, 255, 255); stroke-opacity: 1; stroke-width: 1px;\"/><path class=\"xgrid crisp\" transform=\"translate(399.25,0)\" d=\"M0,100v320\" style=\"stroke: rgb(255, 255, 255); stroke-opacity: 1; stroke-width: 1px;\"/></g><g class=\"y\"><path class=\"ygrid crisp\" transform=\"translate(0,344.15)\" d=\"M80,0h340\" style=\"stroke: rgb(255, 255, 255); stroke-opacity: 1; stroke-width: 1px;\"/><path class=\"ygrid crisp\" transform=\"translate(0,288.05)\" d=\"M80,0h340\" style=\"stroke: rgb(255, 255, 255); stroke-opacity: 1; stroke-width: 1px;\"/><path class=\"ygrid crisp\" transform=\"translate(0,231.95)\" d=\"M80,0h340\" style=\"stroke: rgb(255, 255, 255); stroke-opacity: 1; stroke-width: 1px;\"/><path class=\"ygrid crisp\" transform=\"translate(0,175.85)\" d=\"M80,0h340\" style=\"stroke: rgb(255, 255, 255); stroke-opacity: 1; stroke-width: 1px;\"/><path class=\"ygrid crisp\" transform=\"translate(0,119.75)\" d=\"M80,0h340\" style=\"stroke: rgb(255, 255, 255); stroke-opacity: 1; stroke-width: 1px;\"/></g></g><g class=\"zerolinelayer\"><path class=\"xzl zl crisp\" transform=\"translate(100.75,0)\" d=\"M0,100v320\" style=\"stroke: rgb(255, 255, 255); stroke-opacity: 1; stroke-width: 2px;\"/><path class=\"yzl zl crisp\" transform=\"translate(0,400.25)\" d=\"M80,0h340\" style=\"stroke: rgb(255, 255, 255); stroke-opacity: 1; stroke-width: 2px;\"/></g><path class=\"xlines-below\"/><path class=\"ylines-below\"/><g class=\"overlines-below\"/><g class=\"xaxislayer-below\"/><g class=\"yaxislayer-below\"/><g class=\"overaxes-below\"/><g class=\"plot\" transform=\"translate(80,100)\" clip-path=\"url(#clip6de48bxyplot)\"><g class=\"scatterlayer mlayer\"><g class=\"trace scatter trace24667e\" style=\"stroke-miterlimit: 2; opacity: 1;\"><g class=\"fills\"/><g class=\"errorbars\"/><g class=\"lines\"><path class=\"js-line\" d=\"M20.75,300.25L21.39,244.09L21.55,244.09L22.2,231.41L22.36,231.41L23,223.26L23.32,223.26L23.96,216.92L24.29,216.92L24.93,206.65L25.09,206.65L25.73,197.59L25.89,197.59L26.54,190.04L26.7,190.04L27.34,182.8L27.5,182.8L28.14,177.06L28.3,177.06L28.95,172.53L29.11,172.53L29.59,168.61L29.91,168.61L30.56,165.28L30.72,165.28L31.36,162.57L31.52,162.57L32.16,159.55L32.48,159.55L33.13,155.02L33.29,155.02L33.93,153.51L34.09,153.51L34.73,152.3L34.9,152.3L35.54,146.26L35.7,146.26L36.18,145.05L36.5,145.05L37.15,142.34L37.31,142.34L37.63,139.32L38.27,139.32L38.91,134.79L39.07,134.79L39.56,133.28L40.04,133.28L40.52,131.16L40.84,131.16L40.84,130.56L41.81,130.56L42.13,126.94L42.61,126.94L43.25,122.71L43.41,122.71L43.74,121.5L44.38,121.5L45.02,117.88L46.63,117.88L47.27,116.37L47.43,116.37L48.08,114.86L48.56,114.86L49.04,113.05L49.84,113.05L50.49,111.54L50.81,111.54L51.45,110.03L51.61,110.03L52.26,107.31L53.22,107.31L53.86,105.2L54.18,105.2L54.83,103.99L55.15,103.99L55.63,103.08L55.95,103.08L56.6,101.88L57.08,101.88L57.56,99.76L57.88,99.76L57.88,99.46L59.33,99.46L59.97,97.05L60.13,97.05L60.29,96.14L61.1,96.14L61.42,93.72L61.9,93.72L62.22,92.82L62.7,92.82L62.86,91.91L63.99,91.91L64.47,91.01L64.79,91.01L65.28,89.8L65.76,89.8L66.4,88.89L67.04,88.89L67.53,88.29L68.17,88.29L68.81,86.48L68.97,86.48L69.29,84.97L69.94,84.97L70.42,83.46L71.06,83.46L71.71,82.55L71.87,82.55L71.87,82.25L73.96,82.25L74.6,81.04L74.92,81.04L75.08,80.14L75.72,80.14L76.21,78.93L76.69,78.93L77.17,76.51L77.49,76.51L77.49,76.21L78.62,76.21L78.62,75.91L80.55,75.91L81.03,74.7L81.67,74.7L81.99,73.8L82.48,73.8L82.96,72.89L83.92,72.89L84.08,72.29L84.89,72.29L85.37,71.68L85.69,71.68L86.33,70.48L86.49,70.48L87.14,68.97L87.3,68.97L87.3,68.66L88.42,68.66L88.42,68.06L89.23,68.06L89.23,67.76L90.35,67.76L90.83,66.85L92.28,66.85L92.28,66.55L93.57,66.55L94.21,65.04L94.37,65.04L94.37,64.74L95.5,64.74L95.98,64.13L96.62,64.13L97.1,62.32L98.07,62.32L98.55,60.51L98.87,60.51L98.87,60.21L99.84,60.21L99.84,59.91L100.96,59.91L101.28,59.3L102.25,59.3L102.57,58.4L103.05,58.4L103.37,57.79L104.5,57.79L104.5,57.49L105.3,57.49L105.78,56.28L106.91,56.28L106.91,55.98L108.36,55.98L108.36,55.68L111.57,55.68L111.89,55.08L113.5,55.08L113.66,54.47L116.07,54.47L116.23,53.87L118.32,53.87L118.96,52.66L119.29,52.66L119.45,52.06L120.09,52.06L120.57,51.45L121.38,51.45L122.02,50.85L122.18,50.85L122.82,49.64L123.14,49.64L123.63,49.04L125.23,49.04L125.72,47.53L126.04,47.53L126.04,47.23L127.16,47.23L127.8,46.62L127.97,46.62L128.29,45.72L129.41,45.72L129.41,45.41L130.38,45.41L130.86,43.91L131.5,43.91L131.5,43.6L133.75,43.6L133.75,43.3L134.56,43.3L134.56,42.4L136.16,42.4L136.81,41.49L137.77,41.49L137.77,41.19L139.06,41.19L139.54,40.28L141.31,40.28L141.31,39.98L142.43,39.98L142.43,39.68L143.24,39.68L143.24,39.38L145,39.38L145.49,38.77L146.77,38.77L146.77,38.47L148.38,38.47L148.7,37.26L149.18,37.26L149.83,36.66L153.36,36.66L153.52,35.75L154.97,35.75L154.97,35.45L160.44,35.45L160.92,34.54L161.72,34.54L161.72,33.94L163.81,33.94L164.29,33.04L164.62,33.04L164.94,32.43L165.58,32.43L165.58,32.13L166.87,32.13L166.87,31.83L169.76,31.83L169.76,31.53L172.49,31.53L172.49,31.22L174.58,31.22L174.58,30.92L176.67,30.92L176.67,30.32L177.47,30.32L177.96,29.71L180.37,29.71L180.37,29.41L181.17,29.41L181.17,29.11L181.98,29.11L182.62,28.51L191.62,28.51L191.62,28.2L199.01,28.2L199.01,27.9L199.82,27.9L200.46,27.3L201.75,27.3L201.75,27L203.19,27L203.19,26.69L213.8,26.69L213.8,26.39L218.14,26.39L218.3,25.79L223.45,25.79L223.45,25.49L227.47,25.49L227.47,25.18L229.23,25.18L229.23,24.88L234.06,24.88L234.7,23.98L234.86,23.98L234.86,23.68L238.56,23.68L238.56,23.37L241.13,23.37L241.13,23.07L243.54,23.07L243.54,22.77L244.99,22.77L244.99,22.47L250.45,22.47L250.45,22.17L256.56,22.17L256.56,21.86L263.31,21.86L263.31,21.56L264.12,21.56L264.76,20.96L270.54,20.96L270.54,20.66L278.42,20.66L278.42,20.35L297.07,20.35L297.07,20.05L305.75,20.05L305.75,19.75L319.25,19.75\" style=\"vector-effect: non-scaling-stroke; fill: none; stroke: rgb(99, 110, 250); stroke-opacity: 1; stroke-width: 2px; opacity: 1;\"/></g><g class=\"points\"/><g class=\"text\"/></g><g class=\"trace scatter trace4d5371\" style=\"stroke-miterlimit: 2; opacity: 1;\"><g class=\"fills\"/><g class=\"errorbars\"/><g class=\"lines\"><path class=\"js-line\" d=\"M20.75,300.25L319.25,19.75\" style=\"vector-effect: non-scaling-stroke; fill: none; stroke: rgb(239, 85, 59); stroke-opacity: 1; stroke-width: 2px; opacity: 1; stroke-dasharray: 9px, 9px;\"/></g><g class=\"points\"><path class=\"point\" transform=\"translate(20.75,300.25)\" d=\"M3,0A3,3 0 1,1 0,-3A3,3 0 0,1 3,0Z\" style=\"opacity: 1; stroke-width: 0px; fill: rgb(239, 85, 59); fill-opacity: 1;\"/><path class=\"point\" transform=\"translate(319.25,19.75)\" d=\"M3,0A3,3 0 1,1 0,-3A3,3 0 0,1 3,0Z\" style=\"opacity: 1; stroke-width: 0px; fill: rgb(239, 85, 59); fill-opacity: 1;\"/></g><g class=\"text\"/></g></g></g><g class=\"overplot\"/><path class=\"xlines-above crisp\" d=\"M0,0\" style=\"fill: none;\"/><path class=\"ylines-above crisp\" d=\"M0,0\" style=\"fill: none;\"/><g class=\"overlines-above\"/><g class=\"xaxislayer-above\"><g class=\"xtick\"><text text-anchor=\"middle\" x=\"0\" y=\"433\" transform=\"translate(100.75,0)\" style=\"font-family: 'Open Sans', verdana, arial, sans-serif; font-size: 12px; fill: rgb(42, 63, 95); fill-opacity: 1; white-space: pre; opacity: 1;\">0</text></g><g class=\"xtick\"><text text-anchor=\"middle\" x=\"0\" y=\"433\" style=\"font-family: 'Open Sans', verdana, arial, sans-serif; font-size: 12px; fill: rgb(42, 63, 95); fill-opacity: 1; white-space: pre; opacity: 1;\" transform=\"translate(250,0)\">0.5</text></g><g class=\"xtick\"><text text-anchor=\"middle\" x=\"0\" y=\"433\" style=\"font-family: 'Open Sans', verdana, arial, sans-serif; font-size: 12px; fill: rgb(42, 63, 95); fill-opacity: 1; white-space: pre; opacity: 1;\" transform=\"translate(399.25,0)\">1</text></g></g><g class=\"yaxislayer-above\"><g class=\"ytick\"><text text-anchor=\"end\" x=\"79\" y=\"4.199999999999999\" transform=\"translate(0,400.25)\" style=\"font-family: 'Open Sans', verdana, arial, sans-serif; font-size: 12px; fill: rgb(42, 63, 95); fill-opacity: 1; white-space: pre; opacity: 1;\">0</text></g><g class=\"ytick\"><text text-anchor=\"end\" x=\"79\" y=\"4.199999999999999\" style=\"font-family: 'Open Sans', verdana, arial, sans-serif; font-size: 12px; fill: rgb(42, 63, 95); fill-opacity: 1; white-space: pre; opacity: 1;\" transform=\"translate(0,344.15)\">0.2</text></g><g class=\"ytick\"><text text-anchor=\"end\" x=\"79\" y=\"4.199999999999999\" style=\"font-family: 'Open Sans', verdana, arial, sans-serif; font-size: 12px; fill: rgb(42, 63, 95); fill-opacity: 1; white-space: pre; opacity: 1;\" transform=\"translate(0,288.05)\">0.4</text></g><g class=\"ytick\"><text text-anchor=\"end\" x=\"79\" y=\"4.199999999999999\" style=\"font-family: 'Open Sans', verdana, arial, sans-serif; font-size: 12px; fill: rgb(42, 63, 95); fill-opacity: 1; white-space: pre; opacity: 1;\" transform=\"translate(0,231.95)\">0.6</text></g><g class=\"ytick\"><text text-anchor=\"end\" x=\"79\" y=\"4.199999999999999\" style=\"font-family: 'Open Sans', verdana, arial, sans-serif; font-size: 12px; fill: rgb(42, 63, 95); fill-opacity: 1; white-space: pre; opacity: 1;\" transform=\"translate(0,175.85)\">0.8</text></g><g class=\"ytick\"><text text-anchor=\"end\" x=\"79\" y=\"4.199999999999999\" style=\"font-family: 'Open Sans', verdana, arial, sans-serif; font-size: 12px; fill: rgb(42, 63, 95); fill-opacity: 1; white-space: pre; opacity: 1;\" transform=\"translate(0,119.75)\">1</text></g></g><g class=\"overaxes-above\"/></g></g><g class=\"polarlayer\"/><g class=\"smithlayer\"/><g class=\"ternarylayer\"/><g class=\"geolayer\"/><g class=\"funnelarealayer\"/><g class=\"pielayer\"/><g class=\"iciclelayer\"/><g class=\"treemaplayer\"/><g class=\"sunburstlayer\"/><g class=\"glimages\"/><defs id=\"topdefs-6de48b\"><g class=\"clips\"/></defs><g class=\"layer-above\"><g class=\"imagelayer\"/><g class=\"shapelayer\"/></g><g class=\"infolayer\"><g class=\"g-gtitle\"><text class=\"gtitle\" x=\"250\" y=\"50\" text-anchor=\"middle\" dy=\"0em\" style=\"font-family: 'Open Sans', verdana, arial, sans-serif; font-size: 17px; fill: rgb(42, 63, 95); opacity: 1; font-weight: normal; white-space: pre;\">Кривая ROC-AUC</text></g><g class=\"g-xtitle\"/><g class=\"g-ytitle\"/></g></svg>"
     },
     "metadata": {},
     "output_type": "display_data"
    }
   ],
   "source": [
    "\n",
    "# производим обучение на оптимальных параметрах\n",
    "from sklearn.metrics import classification_report, f1_score, roc_auc_score, precision_score, recall_score, roc_curve\n",
    "from sklearn.model_selection import train_test_split\n",
    "\n",
    "# разбиваем на тренировочную и тестовую выборки\n",
    "df_train, df_test = train_test_split(\n",
    "    df[['transformed_comments','toxic']]\n",
    "    , test_size=0.2\n",
    "    , train_size=0.8\n",
    "    , random_state=42)\n",
    "\n",
    "# объявляем TF-IDF с оптимальными параметрами\n",
    "vectorizer = grid_search_clf.best_estimator_[0]\n",
    "X_train = vectorizer.fit_transform(df_train['transformed_comments'])\n",
    "X_test = vectorizer.transform(df_test['transformed_comments'])\n",
    "y_train = df_train['toxic']\n",
    "y_test = df_test['toxic']\n",
    "\n",
    "# запускаем обучение\n",
    "logical.fit(X_train, y_train)\n",
    "y_pred = logical.predict(X_test)\n",
    "\n",
    "# производим оценки\n",
    "report = classification_report(y_true=y_test, y_pred=y_pred)\n",
    "f1 = f1_score(y_test, y_pred)\n",
    "precision = precision_score(y_test, y_pred)\n",
    "recall = recall_score(y_test, y_pred)\n",
    "roc_auc = roc_auc_score(y_true=y_test, y_score=y_pred)\n",
    "print(f'Результат по F1-мере: {f1}')\n",
    "print(f'Результат по метрике recall: {recall}')\n",
    "print(f'Результат по метрике precision: {precision}')\n",
    "print(f\"Результат метрики AUC-ROC: {roc_auc}\", end='\\n\\n')\n",
    "\n",
    "\n",
    "print(report)\n",
    "\n",
    "# рисуем кривую ROC-AUC\n",
    "from plotly import graph_objs as go\n",
    "fpr, tpr, thresholds = roc_curve(y_true=y_test,\n",
    "                                 y_score=np.array(pd.DataFrame(logical.predict_proba(X_test))[1].to_list()), pos_label=1)\n",
    "fig = go.Figure()\n",
    "fig.add_trace(go.Scatter(x=fpr, y=tpr, showlegend=False))\n",
    "fig.add_trace(go.Scatter(x=[0,1], y=[0,1], line={'dash': 'dash'}, showlegend=False))\n",
    "fig.update_layout(width=500, height=500, title='Кривая ROC-AUC', title_x=0.5)\n",
    "import plotly.io as pio\n",
    "pio.renderers.default = \"svg\"\n",
    "fig.show()"
   ],
   "metadata": {
    "collapsed": false,
    "pycharm": {
     "name": "#%%\n"
    }
   }
  }
 ]
}