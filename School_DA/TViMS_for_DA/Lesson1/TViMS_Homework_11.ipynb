{
 "cells": [
  {
   "cell_type": "markdown",
   "metadata": {
    "id": "pDrecLU-4QjS"
   },
   "source": [
    "\n",
    "# Практика"
   ]
  },
  {
   "cell_type": "markdown",
   "metadata": {
    "id": "gUvTNDlMaV-a"
   },
   "source": [
    "## Определение вероятности. События\n",
    "\n",
    "Требуется сгенерировать необходимые выборки и произвести по ним расчеты"
   ]
  },
  {
   "cell_type": "markdown",
   "metadata": {
    "id": "5V70InEBTgup"
   },
   "source": [
    "### Задача 1\n",
    "Брошено две монеты. Найти вероятность того, что монеты выпали разными сторонами"
   ]
  },
  {
   "cell_type": "code",
   "execution_count": 13,
   "metadata": {
    "id": "88Iw-SL3jYQV"
   },
   "outputs": [],
   "source": [
    "import numpy as np\n",
    "import pandas as pd\n",
    "from collections import Counter"
   ]
  },
  {
   "cell_type": "code",
   "execution_count": 14,
   "outputs": [
    {
     "name": "stdout",
     "output_type": "stream",
     "text": [
      "P = 0.516\n"
     ]
    }
   ],
   "source": [
    "n=1000\n",
    "\n",
    "exp_coin1 = pd.Series([np.random.choice(['Г','Р']) for x in range(n)], name='coin1')\n",
    "exp_coin2 = pd.Series([np.random.choice(['Г','Р']) for x in range(n)], name='coin2')\n",
    "\n",
    "exp = pd.concat([exp_coin1, exp_coin2], axis=1)\n",
    "\n",
    "print('P = ' + str(len(exp[exp.coin1 != exp.coin2])/n))"
   ],
   "metadata": {
    "collapsed": false,
    "pycharm": {
     "name": "#%%\n"
    }
   }
  },
  {
   "cell_type": "markdown",
   "metadata": {
    "id": "t0XOMos2Tl0e"
   },
   "source": [
    "### Задача 2\n",
    "Брошено три монеты. Описать множество всех элементарных событий. Найти вероятности следующих событий:\n",
    "\n",
    "\n",
    "1.   A = {не выпало ни одного герба}\n",
    "2.   B = {выпало четное число гербов}\n",
    "3.   C = {на третьей монете выпал герб}"
   ]
  },
  {
   "cell_type": "code",
   "execution_count": 15,
   "outputs": [
    {
     "name": "stdout",
     "output_type": "stream",
     "text": [
      "       0  1  2  3  4  5  6  7\n",
      "coin1  Г  Г  Г  Г  Р  Р  Р  Р\n",
      "coin2  Г  Г  Р  Р  Г  Г  Р  Р\n",
      "coin3  Г  Р  Г  Р  Г  Р  Г  Р\n",
      "P(A) = 0.112\n",
      "P(B) = 0.374\n",
      "P(C) = 0.498\n"
     ]
    }
   ],
   "source": [
    "n = 1000\n",
    "exp_coin3 = pd.Series([np.random.choice(['Г','Р']) for x in range(n)], name='coin3')\n",
    "exp = pd.concat([exp_coin1, exp_coin2, exp_coin3], axis=1)\n",
    "\n",
    "print(pd.DataFrame(exp.groupby(by=['coin1', 'coin2', 'coin3']).groups.keys(), columns=['coin1', 'coin2', 'coin3']).T)\n",
    "# с одной стороны, это не совсем корректно выводить группировкой по экспериментам, так как при\n",
    "# небольшом количестве экспериментов могут отсутствовать какие-либо варианты множества всех элементарных событий\n",
    "\n",
    "exp['ls_coins'] = exp[['coin1', 'coin2', 'coin3']].apply(lambda x: list(x), axis=1)\n",
    "p_a = len(exp[exp['ls_coins'].apply(lambda x: Counter(x).most_common(1) == [('Р', 3)])])/n\n",
    "p_b = len(exp[exp['ls_coins'].apply(lambda x: Counter(x).most_common(1) == [('Г', 2)])])/n\n",
    "p_c = len(exp[exp['coin3'] == 'Г'])/n\n",
    "\n",
    "print('P(A) = ' + str(p_a))\n",
    "print('P(B) = ' + str(p_b))\n",
    "print('P(C) = ' + str(p_c))\n",
    "\n"
   ],
   "metadata": {
    "collapsed": false,
    "pycharm": {
     "name": "#%%\n"
    }
   }
  },
  {
   "cell_type": "markdown",
   "source": [
    "Предлагается также решить задачи:\n"
   ],
   "metadata": {
    "collapsed": false
   }
  },
  {
   "cell_type": "markdown",
   "source": [
    "### Задача 3\n",
    "Из двух претендентов E и L на ответственную должность три члена комиссии должны отобрать одного. \n",
    "Каждый член комиссии должен указать либо одного достойного, либо забраковать обоих. \n",
    "Претендент считается выбранным, если он был признана достойным хотя бы двумя членами комиссии.\n",
    "Найти вероятность событий:\n",
    "\n",
    "A = {рекомендован L}, B = {рекомендован E}"
   ],
   "metadata": {
    "collapsed": false,
    "pycharm": {
     "name": "#%% md\n"
    }
   }
  },
  {
   "cell_type": "code",
   "execution_count": 16,
   "outputs": [
    {
     "name": "stdout",
     "output_type": "stream",
     "text": [
      "P(A) = 0.513\n",
      "P(B) = 0.0\n"
     ]
    }
   ],
   "source": [
    "n = 1000\n",
    "\n",
    "# 0 - обоих забраковали\n",
    "# 1 - претендент E\n",
    "# 2 - претендент L\n",
    "# com1, com2, com3 - член комиссии\n",
    "com1 = pd.Series([np.random.randint(0,2) for x in range(n)], name='com1')\n",
    "com2 = pd.Series([np.random.randint(0,2) for x in range(n)], name='com2')\n",
    "com3 = pd.Series([np.random.randint(0,2) for x in range(n)], name='com3')\n",
    "\n",
    "exp = pd.concat([com1, com2, com3], axis=1)\n",
    "exp\n",
    "# количество уникальных элементов (для получения вероятности нам нужно количество уникальных элементов < 3)\n",
    "exp['nonuniq'] = exp.nunique(axis=1)\n",
    "# считаем количество каждого элемента списка и выводим самое большое количество\n",
    "exp['max_count'] = exp.apply(lambda x: Counter(x.to_list()[0:3]).most_common(1)[0][0], axis=1)\n",
    "\n",
    "# для P(A) интересуют случаи, когда количество уникальных меньше трех и при этом\n",
    "# количество одинаковых элементов максимально\n",
    "p_a = len(exp[(exp['nonuniq'] < 3) & (exp['max_count'] == 1)])/n\n",
    "# для P(B) интересуют случаи, когда количество уникальных меньше трех и при этом\n",
    "# количество одинаковых элементов максимально\n",
    "p_b = len(exp[(exp['nonuniq'] < 3) & (exp['max_count'] == 2)])/n\n",
    "\n",
    "# Выводим результаты подсчета вероятности\n",
    "print('P(A) = ' + str(p_a))\n",
    "print('P(B) = ' + str(p_b))"
   ],
   "metadata": {
    "collapsed": false,
    "pycharm": {
     "name": "#%%\n"
    }
   }
  },
  {
   "cell_type": "markdown",
   "source": [
    "### Задача 4\n",
    "Брошено две игральных кости. Описать множество элементарных событий. Найти вероятности событий:\n",
    "\n",
    "A = {вышло две \"шестерки\"}\n",
    "\n",
    "B = {сумма выпавших очков не меньше 11}\n",
    "\n",
    "C = {не выпала ни одна \"шестерка\"}"
   ],
   "metadata": {
    "collapsed": false,
    "pycharm": {
     "name": "#%% md\n"
    }
   }
  },
  {
   "cell_type": "code",
   "execution_count": 17,
   "outputs": [
    {
     "name": "stdout",
     "output_type": "stream",
     "text": [
      "       0   1   2   3   4   5   6   7   8   9   ...  26  27  28  29  30  31  \\\n",
      "dice1   1   1   1   1   1   1   2   2   2   2  ...   5   5   5   5   6   6   \n",
      "dice2   1   2   3   4   5   6   1   2   3   4  ...   3   4   5   6   1   2   \n",
      "\n",
      "       32  33  34  35  \n",
      "dice1   6   6   6   6  \n",
      "dice2   3   4   5   6  \n",
      "\n",
      "[2 rows x 36 columns]\n",
      "P(A) = 0.036\n",
      "P(B) = 0.096\n",
      "P(C) = 0.6819999999999999\n"
     ]
    }
   ],
   "source": [
    "n = 1000\n",
    "dice1 = pd.Series([np.random.randint(1,7) for x in range(n)], name='dice1')\n",
    "dice2 = pd.Series([np.random.randint(1,7) for x in range(n)], name='dice2')\n",
    "\n",
    "exp_2_dice = pd.concat([dice1, dice2], axis=1)\n",
    "\n",
    "p_a = len(exp_2_dice[(exp_2_dice['dice1'] == exp_2_dice['dice2']) & (exp_2_dice['dice1'] == 6)])/n\n",
    "\n",
    "p_b = len(exp_2_dice[exp_2_dice.sum(axis=1) >= 11])/n\n",
    "\n",
    "p_c = 1-len(exp_2_dice[(exp_2_dice['dice1'] == 6) | (exp_2_dice['dice2'] == 6)])/n\n",
    "\n",
    "print(pd.DataFrame(exp_2_dice.groupby(by=['dice1', 'dice2']).groups.keys(), columns=['dice1', 'dice2']).T)\n",
    "print('P(A) = ' + str(p_a))\n",
    "print('P(B) = ' + str(p_b))\n",
    "print('P(C) = ' + str(p_c))"
   ],
   "metadata": {
    "collapsed": false,
    "pycharm": {
     "name": "#%%\n"
    }
   }
  },
  {
   "cell_type": "markdown",
   "metadata": {
    "pycharm": {
     "name": "#%% md\n"
    }
   },
   "source": [
    "## Вероятность суммы событий"
   ]
  },
  {
   "cell_type": "markdown",
   "metadata": {
    "id": "f-Bi0p8haclB",
    "pycharm": {
     "name": "#%% md\n"
    }
   },
   "source": [
    "### Задача 5\n",
    "Брошены две игральные кости. Найти вероятность события D = {выпала хотя бы одна шестёрка}\n"
   ]
  },
  {
   "cell_type": "code",
   "execution_count": 18,
   "outputs": [
    {
     "name": "stdout",
     "output_type": "stream",
     "text": [
      "P(D) = 0.318\n"
     ]
    }
   ],
   "source": [
    "p_d = len(exp_2_dice[(exp_2_dice['dice1'] == 6) | (exp_2_dice['dice2'] == 6)])/n\n",
    "print('P(D) = ' + str(p_d))"
   ],
   "metadata": {
    "collapsed": false,
    "pycharm": {
     "name": "#%%\n"
    }
   }
  },
  {
   "cell_type": "markdown",
   "source": [
    "Предлагается также решить задачи:\n",
    "\n",
    "### Задача 6\n",
    "В телефонном номере три последние цифры стерлись. Считая, что все возможные значения стершихся цифр\n",
    "равновероятны, найти вероятность событий:\n",
    "\n",
    "A = {Стерлись различные цифры},\n",
    "\n",
    "B = {Стерлись одинаковые цифры},\n",
    "\n",
    "C = {Среди стершихся цифр хотя бы две совпадают},\n",
    "\n",
    "D = {Среди стершихся цифр хотя бы две различны}\n"
   ],
   "metadata": {
    "collapsed": false
   }
  },
  {
   "cell_type": "code",
   "execution_count": 19,
   "outputs": [
    {
     "name": "stdout",
     "output_type": "stream",
     "text": [
      "P(A) = 0.720144\n",
      "P(B) = 0.009916\n",
      "P(C) = 0.279856\n",
      "P(D) = 0.990084\n"
     ]
    }
   ],
   "source": [
    "n = 1000000\n",
    "num_8 =  pd.Series([np.random.randint(0,10) for x in range(n)], name='num_8')\n",
    "num_9 =  pd.Series([np.random.randint(0,10) for x in range(n)], name='num_9')\n",
    "num_10 = pd.Series([np.random.randint(0,10) for x in range(n)], name='num_10')\n",
    "\n",
    "exp_phone = pd.concat([num_8, num_9, num_10], axis=1)\n",
    "\n",
    "p_a = len(exp_phone[exp_phone.nunique(axis=1) == 3])/n\n",
    "p_b = len(exp_phone[exp_phone.nunique(axis=1) == 1])/n\n",
    "p_c = len(exp_phone[exp_phone.nunique(axis=1) <= 2])/n\n",
    "p_d = len(exp_phone[exp_phone.nunique(axis=1) >= 2])/n\n",
    "\n",
    "print('P(A) = ' + str(p_a))\n",
    "print('P(B) = ' + str(p_b))\n",
    "print('P(C) = ' + str(p_c))\n",
    "print('P(D) = ' + str(p_d))"
   ],
   "metadata": {
    "collapsed": false,
    "pycharm": {
     "name": "#%%\n"
    }
   }
  },
  {
   "cell_type": "markdown",
   "source": [
    "## Случайные величины"
   ],
   "metadata": {
    "collapsed": false,
    "pycharm": {
     "name": "#%% md\n"
    }
   }
  },
  {
   "cell_type": "markdown",
   "metadata": {
    "id": "RnugkR8BalK_"
   },
   "source": [
    "### Задача 7\n",
    "В лотерее имеется 10 билетов, из которых один выигрышный. Размер выигрыша 10 ден. ед.; стоимость билета 1 ден ед.\n",
    "\n",
    "Найти закон распределения случайной величины X, равной чистому выигрышу участника лотереи,\n",
    "который вытаскивает билет первым."
   ]
  },
  {
   "cell_type": "code",
   "execution_count": 20,
   "outputs": [
    {
     "name": "stdout",
     "output_type": "stream",
     "text": [
      "                 0      1\n",
      "profit      -1.000  9.000\n",
      "probability  0.901  0.099\n"
     ]
    }
   ],
   "source": [
    "n = 1000\n",
    "profit = pd.Series([-1, 9], name='profit')\n",
    "probability = pd.DataFrame(np.random.randint(1,11,n), columns=['prob']).groupby(by='prob')[['prob']].count().apply(\n",
    "    lambda x: x/n)\n",
    "prob = probability.iloc[1::].sum().to_list()\n",
    "prob.extend(probability.iloc[0].to_list())\n",
    "prob = pd.Series(prob, name='probability')\n",
    "print(pd.concat([profit, prob], axis=1).T)\n",
    "# np.random.choice(profit, 15, p=prob)\n",
    "# prob\n"
   ],
   "metadata": {
    "collapsed": false,
    "pycharm": {
     "name": "#%%\n"
    }
   }
  },
  {
   "cell_type": "markdown",
   "source": [
    "Предлагается также решить задачу: \n",
    "\n",
    "### Задача 8\n",
    "Брошены две игральные кости.\n",
    "Найти закон распределения случайной величины $X$, равной сумме выпавших очков.\n",
    "Найти вероятности событий ${X <= 4}$, ${X > 4}$"
   ],
   "metadata": {
    "collapsed": false
   }
  },
  {
   "cell_type": "code",
   "execution_count": 21,
   "outputs": [
    {
     "name": "stdout",
     "output_type": "stream",
     "text": [
      "                0      1      2     3      4      5      6      7       8   \\\n",
      "dice_sum     2.000  3.000  4.000  5.00  6.000  7.000  8.000  9.000  10.000   \n",
      "probability  0.028  0.058  0.087  0.13  0.134  0.157  0.144  0.113   0.061   \n",
      "\n",
      "                 9       10  \n",
      "dice_sum     11.000  12.000  \n",
      "probability   0.043   0.045  \n",
      "P(X <= 4) = 0.173\n",
      "P(X > 4) = 0.827\n"
     ]
    }
   ],
   "source": [
    "n = 1000\n",
    "dice1 = pd.Series(np.random.randint(1, 7, n))\n",
    "dice2 = pd.Series(np.random.randint(1, 7, n))\n",
    "exp_8 = pd.concat([dice1, dice2], axis=1).rename(columns={0:'exp_dice_1', 1:'exp_dice_2'})\n",
    "\n",
    "exp_8_res = pd.DataFrame(exp_8.sum(axis=1), columns=['dice_sum'])\n",
    "\n",
    "distr_low = exp_8_res.groupby(by='dice_sum')[['dice_sum']].count().apply(lambda x: x/n).\\\n",
    "    rename(columns={'dice_sum': 'probability'}).reset_index()\n",
    "print(distr_low.T)\n",
    "\n",
    "p_x = distr_low[distr_low['dice_sum'] <= 4]['probability'].sum()\n",
    "\n",
    "print('P(X <= 4) = ' + str(p_x))\n",
    "print('P(X > 4) = ' + str(1-p_x))"
   ],
   "metadata": {
    "collapsed": false,
    "pycharm": {
     "name": "#%%\n"
    }
   }
  },
  {
   "cell_type": "code",
   "execution_count": 22,
   "outputs": [],
   "source": [
    "## Условные вероятности"
   ],
   "metadata": {
    "collapsed": false,
    "pycharm": {
     "name": "#%%\n"
    }
   }
  },
  {
   "cell_type": "markdown",
   "source": [
    "### Задача 9\n",
    "Из колоды (36 карт) вынимают последовательно без возвращения две карты.\n",
    "Найти вероятность того, что первой картой была шестерка, а второй — семерка.\n",
    "Найти условную вероятность того же события при условии, что обе карты бубновой масти.\n"
   ],
   "metadata": {
    "collapsed": false
   }
  },
  {
   "cell_type": "code",
   "execution_count": 23,
   "outputs": [
    {
     "name": "stdout",
     "output_type": "stream",
     "text": [
      "P(A) = 0.01146\n",
      "P(B) = 0.00071\n"
     ]
    }
   ],
   "source": [
    "# число экспериментов\n",
    "n = 100000\n",
    "# количество карт\n",
    "cards_count = 36\n",
    "# список всех карт\n",
    "cards_value = ['6', '7', '8', '9', '10', 'J', 'Q', 'K', 'A']\n",
    "# список мастей\n",
    "cards_suit = ['Heart', 'Diamond', 'Spade', 'Club']\n",
    "# формируем колоду\n",
    "cards = [[x, y] for x in cards_suit for y in cards_value]\n",
    "# формируем DataFrame со списком всех карт\n",
    "df_cards = pd.DataFrame(cards, columns=['cards_suit', 'cards_value']).reset_index()\n",
    "# генерируем список экспериментов из вытянутой первой карты (индекс карты) и списка (индексов) карт колоды\n",
    "# (пока включительно вытянутую)\n",
    "try1 = [[(np.random.randint(0,cards_count, 1))[0], list(range(36))] for x in list(range(n))]\n",
    "# удаляем из списка карт колоды каждого эксперимента первую вытянутую карту\n",
    "[[x, y.remove(x)] for [x, y] in [try1[0], try1[1]]]\n",
    "# из списка карт колоды каждого эксперимента с учетом вытащенной карты вытягиваем вторую карту\n",
    "# получаем список экспериментов из двух вытянутых карт (индексы двух вытянутых карт)\n",
    "df_res = pd.DataFrame([[y[0], np.random.choice(y[1])] for y in try1], columns=['try1', 'try2'])\n",
    "# производим соединение с DataFrame списка карт по индексам и получаем значение первой вытянутой карты\n",
    "df_res = df_res.join(df_cards.rename(columns={'index': 'try1'}), on='try1', rsuffix='_other', how='left')[['cards_value'\n",
    "    , 'cards_suit', 'try2']].rename(columns={'cards_value':'card_value_try1', 'cards_suit':'card_suit_try1'})\n",
    "# производим полученный выше DataFrame, чтобы узнать что за вторая карта была вытянута\n",
    "df_res = df_res.join(df_cards.rename(columns={'index': 'try2'}), on='try2', rsuffix='_other', how='left').rename(\n",
    "    columns={'cards_value':'card_value_try2', 'cards_suit':'card_suit_try2'}\n",
    ")\n",
    "# удаляем из DataFrame лишние столбцы\n",
    "df_res = df_res[['card_value_try1', 'card_suit_try1', 'card_value_try2', 'card_suit_try2',]]\n",
    "# считаем количество экспериментов, в которых вытянуты карты (6 и 7) и делим на общее количество экспериментов\n",
    "p_a = len(df_res[(df_res['card_value_try1'] == '6') & (df_res['card_value_try2'] == '7')])/n\n",
    "# считаем количество экспериментов, в которых вытянуты карты (6 и 7) одной масти буби и делим на общее количество\n",
    "# экспериментов\n",
    "p_b = len(df_res[(df_res['card_value_try1'] == '6') & (df_res['card_value_try2'] == '7')\n",
    "                 & (df_res['card_suit_try1'] == 'Diamond') & (df_res['card_suit_try2'] == 'Diamond')])/n\n",
    "print('P(A) = ' + str(p_a))\n",
    "print('P(B) = ' + str(p_b))"
   ],
   "metadata": {
    "collapsed": false,
    "pycharm": {
     "name": "#%%\n"
    }
   }
  },
  {
   "cell_type": "markdown",
   "source": [
    "Предлагается также решить задачу: \n",
    "\n",
    "### Задача 10\n",
    "Из урны, содержащей два белых и три черных шара, последовательно извлекают два шара; вынутые шары не возвращаются.\n",
    "Если первый шар оказался черным, то перед вторым извлечением в урну добавляют белый шар.\n",
    "В противном случае состав оставшихся шаров не меняют. Найти вероятности событий:\n",
    "\n",
    "$A$ = {извлечены два белых шара},\n",
    "\n",
    "$B$ = {извлечены два черных шара}\n",
    "\n",
    "Указание. Пусть событие $C_1$ = {первый шар белый}, событие $C_2$ = {второй шар белый}. Тогда $A = C_1C_2$, $B = \\overline C_1 \\overline C_2$ "
   ],
   "metadata": {
    "collapsed": false,
    "pycharm": {
     "name": "#%% md\n"
    }
   }
  },
  {
   "cell_type": "code",
   "execution_count": 24,
   "outputs": [
    {
     "name": "stdout",
     "output_type": "stream",
     "text": [
      "P(A) = 0.107\n",
      "P(B) = 0.219\n"
     ]
    }
   ],
   "source": [
    "# определяем количество экспериментов\n",
    "n = 1000\n",
    "# формируем список шаров в урне\n",
    "list_balls = ['White']*2 + ['Black']*3\n",
    "\n",
    "# формируем DataFrame, в каждой строке (эксперименте) которого перемешиваем шары в урне\n",
    "df_urna = pd.DataFrame([[sorted(list_balls, key=lambda y: np.random.random()) for i in range(n)]]\n",
    "                       ).T.rename(columns={0: 'urna'})\n",
    "# так как шары перемешаны, то фактически вытаскивая и удаляя первый шар (индекс = 0) мы имитируем\n",
    "# вытаскивания рандомного шара\n",
    "df_urna['try1'] = df_urna['urna'].apply(lambda x: x.pop(0))\n",
    "# если вытащили черный шар, то в урну добавляем белый шар\n",
    "df_urna[df_urna['try1'] == 'Black']['urna'].apply(lambda x: x.append('White'))\n",
    "# после этого снова перемешиваем все урны и снова вытаскиваем шар также имитируя случайный шар, который мы вытащим\n",
    "df_urna['urna_after_try1'] = df_urna['urna'].apply(lambda x: sorted(x, key=lambda y: np.random.random()))\n",
    "# так как шары перемешаны, то фактически вытаскивая и удаляя первый шар (индекс = 0) мы имитируем\n",
    "# вытаскивания рандомного шара\n",
    "df_urna['try2'] = df_urna['urna_after_try1'].apply(lambda x: x.pop(0))\n",
    "\n",
    "p_a = len(df_urna[(df_urna['try1'] == 'White') & (df_urna['try2'] == 'White')])/n\n",
    "p_b = len(df_urna[(df_urna['try1'] == 'Black') & (df_urna['try2'] == 'Black')])/n\n",
    "\n",
    "print('P(A) = ' + str(p_a))\n",
    "print('P(B) = ' + str(p_b))"
   ],
   "metadata": {
    "collapsed": false,
    "pycharm": {
     "name": "#%%\n"
    }
   }
  }
 ],
 "metadata": {
  "colab": {
   "collapsed_sections": [],
   "name": "Практика к занятию 11.ipynb",
   "provenance": []
  },
  "kernelspec": {
   "name": "pycharm-f169a146",
   "language": "python",
   "display_name": "PyCharm (School_DA)"
  },
  "language_info": {
   "codemirror_mode": {
    "name": "ipython",
    "version": 3
   },
   "file_extension": ".py",
   "mimetype": "text/x-python",
   "name": "python",
   "nbconvert_exporter": "python",
   "pygments_lexer": "ipython3",
   "version": "3.7.6"
  }
 },
 "nbformat": 4,
 "nbformat_minor": 1
}