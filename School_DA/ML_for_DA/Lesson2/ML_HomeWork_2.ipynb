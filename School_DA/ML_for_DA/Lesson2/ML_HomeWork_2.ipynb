{
 "cells": [
  {
   "cell_type": "markdown",
   "source": [
    "1. Предобработать данные (пропуски, замена текста, дубликаты и т.д)\n",
    "2. Использовать для классификации sklearn.ensemble.RandomForestClassifier\n",
    "3. Подобрать лучшие гиперпараметры (n_estimators, criterion, max_depth)\n",
    "4. Провести кроссвалидацию модели\n",
    "5. Оценить метрики бинарной классификации (Precision, recall, f1)\n",
    "6. Построить ROC-кривую для оценки качества классификатора"
   ],
   "metadata": {
    "collapsed": false,
    "pycharm": {
     "name": "#%% md\n"
    }
   }
  },
  {
   "cell_type": "code",
   "execution_count": 32,
   "outputs": [],
   "source": [
    "import pandas as pd\n",
    "import numpy as np\n",
    "from sklearn.ensemble import RandomForestClassifier\n",
    "from sklearn.model_selection import train_test_split, cross_val_score\n",
    "from sklearn.metrics import accuracy_score, precision_score, recall_score, f1_score, roc_auc_score, roc_curve,auc\n",
    "from sklearn.model_selection import GridSearchCV\n",
    "from plotly import graph_objects as go\n"
   ],
   "metadata": {
    "collapsed": false,
    "pycharm": {
     "name": "#%%\n"
    }
   }
  },
  {
   "cell_type": "code",
   "execution_count": 33,
   "outputs": [
    {
     "data": {
      "text/plain": "   PassengerId  Survived  Pclass  \\\n0            1         0       3   \n1            2         1       1   \n2            3         1       3   \n3            4         1       1   \n\n                                                Name     Sex   Age  SibSp  \\\n0                            Braund, Mr. Owen Harris    male  22.0      1   \n1  Cumings, Mrs. John Bradley (Florence Briggs Th...  female  38.0      1   \n2                             Heikkinen, Miss. Laina  female  26.0      0   \n3       Futrelle, Mrs. Jacques Heath (Lily May Peel)  female  35.0      1   \n\n   Parch            Ticket     Fare Cabin Embarked  \n0      0         A/5 21171   7.2500   NaN        S  \n1      0          PC 17599  71.2833   C85        C  \n2      0  STON/O2. 3101282   7.9250   NaN        S  \n3      0            113803  53.1000  C123        S  ",
      "text/html": "<div>\n<style scoped>\n    .dataframe tbody tr th:only-of-type {\n        vertical-align: middle;\n    }\n\n    .dataframe tbody tr th {\n        vertical-align: top;\n    }\n\n    .dataframe thead th {\n        text-align: right;\n    }\n</style>\n<table border=\"1\" class=\"dataframe\">\n  <thead>\n    <tr style=\"text-align: right;\">\n      <th></th>\n      <th>PassengerId</th>\n      <th>Survived</th>\n      <th>Pclass</th>\n      <th>Name</th>\n      <th>Sex</th>\n      <th>Age</th>\n      <th>SibSp</th>\n      <th>Parch</th>\n      <th>Ticket</th>\n      <th>Fare</th>\n      <th>Cabin</th>\n      <th>Embarked</th>\n    </tr>\n  </thead>\n  <tbody>\n    <tr>\n      <th>0</th>\n      <td>1</td>\n      <td>0</td>\n      <td>3</td>\n      <td>Braund, Mr. Owen Harris</td>\n      <td>male</td>\n      <td>22.0</td>\n      <td>1</td>\n      <td>0</td>\n      <td>A/5 21171</td>\n      <td>7.2500</td>\n      <td>NaN</td>\n      <td>S</td>\n    </tr>\n    <tr>\n      <th>1</th>\n      <td>2</td>\n      <td>1</td>\n      <td>1</td>\n      <td>Cumings, Mrs. John Bradley (Florence Briggs Th...</td>\n      <td>female</td>\n      <td>38.0</td>\n      <td>1</td>\n      <td>0</td>\n      <td>PC 17599</td>\n      <td>71.2833</td>\n      <td>C85</td>\n      <td>C</td>\n    </tr>\n    <tr>\n      <th>2</th>\n      <td>3</td>\n      <td>1</td>\n      <td>3</td>\n      <td>Heikkinen, Miss. Laina</td>\n      <td>female</td>\n      <td>26.0</td>\n      <td>0</td>\n      <td>0</td>\n      <td>STON/O2. 3101282</td>\n      <td>7.9250</td>\n      <td>NaN</td>\n      <td>S</td>\n    </tr>\n    <tr>\n      <th>3</th>\n      <td>4</td>\n      <td>1</td>\n      <td>1</td>\n      <td>Futrelle, Mrs. Jacques Heath (Lily May Peel)</td>\n      <td>female</td>\n      <td>35.0</td>\n      <td>1</td>\n      <td>0</td>\n      <td>113803</td>\n      <td>53.1000</td>\n      <td>C123</td>\n      <td>S</td>\n    </tr>\n  </tbody>\n</table>\n</div>"
     },
     "execution_count": 33,
     "metadata": {},
     "output_type": "execute_result"
    }
   ],
   "source": [
    "df_titanic = pd.read_csv('School_DA/ML_for_DA/Lesson2/titanicdf.csv')\n",
    "df_work = df_titanic.copy()\n",
    "df_titanic.head(4)"
   ],
   "metadata": {
    "collapsed": false,
    "pycharm": {
     "name": "#%%\n"
    }
   }
  },
  {
   "cell_type": "code",
   "execution_count": 34,
   "outputs": [
    {
     "name": "stdout",
     "output_type": "stream",
     "text": [
      "Survived\n",
      "0    549\n",
      "1    342\n",
      "Name: Survived, dtype: int64\n",
      "\n",
      "Pclass\n",
      "3    491\n",
      "1    216\n",
      "2    184\n",
      "Name: Pclass, dtype: int64\n",
      "\n",
      "Sex\n",
      "male      577\n",
      "female    314\n",
      "Name: Sex, dtype: int64\n",
      "\n",
      "SibSp\n",
      "0    608\n",
      "1    209\n",
      "2     28\n",
      "4     18\n",
      "3     16\n",
      "8      7\n",
      "5      5\n",
      "Name: SibSp, dtype: int64\n",
      "\n",
      "Parch\n",
      "0    678\n",
      "1    118\n",
      "2     80\n",
      "5      5\n",
      "3      5\n",
      "4      4\n",
      "6      1\n",
      "Name: Parch, dtype: int64\n",
      "\n",
      "Embarked\n",
      "S    644\n",
      "C    168\n",
      "Q     77\n",
      "Name: Embarked, dtype: int64\n",
      "\n"
     ]
    }
   ],
   "source": [
    "for i in (df_work.drop(columns=['PassengerId', 'Name', 'Ticket', 'Age', 'Fare', 'Cabin'])).columns:\n",
    "    print(i)\n",
    "    print(df_work[i].value_counts())\n",
    "    print('')\n"
   ],
   "metadata": {
    "collapsed": false,
    "pycharm": {
     "name": "#%%\n"
    }
   }
  },
  {
   "cell_type": "code",
   "execution_count": 35,
   "outputs": [],
   "source": [
    "# удаляем колонки, из которых точно не получим фичи, так как невозможно разбить на категории\n",
    "df_work = df_work.drop(columns=['PassengerId', 'Fare', 'Cabin', 'Embarked'])\n",
    "# переводим пол в булевое значение\n",
    "df_work['male'] = df_work.Sex.apply(lambda x: 1 if x == 'male' else 0)\n",
    "# удаляем колонку пола пассажира строкового типа, так как это уже более неактуально\n",
    "df_work = df_work.drop(columns=['Sex'])"
   ],
   "metadata": {
    "collapsed": false,
    "pycharm": {
     "name": "#%%\n"
    }
   }
  },
  {
   "cell_type": "code",
   "execution_count": 36,
   "outputs": [],
   "source": [
    "# df_work.Embarked.value_counts()/len(df_work)\n",
    "# разбиваем на категории класс пассажиров\n",
    "df_work = pd.get_dummies(data=df_work, columns=['Pclass'])"
   ],
   "metadata": {
    "collapsed": false,
    "pycharm": {
     "name": "#%%\n"
    }
   }
  },
  {
   "cell_type": "code",
   "execution_count": 37,
   "outputs": [],
   "source": [
    "# разбиваем на возрастные группы\n",
    "df_work['18-'] = df_work.Age.apply(lambda x: 1 if x < 18 else 0)\n",
    "df_work['18-35'] = df_work.Age.apply(lambda x: 1 if ((x >= 18) & (x < 36)) else 0)\n",
    "df_work['36-45'] = df_work.Age.apply(lambda x: 1 if ((x >= 36) & (x < 46)) else 0)\n",
    "df_work['46-60'] = df_work.Age.apply(lambda x: 1 if ((x >= 46) & (x < 60)) else 0)\n",
    "df_work['60+'] = df_work.Age.apply(lambda x: 1 if x >= 60 else 0)\n",
    "# удаляем колонку с возрастом пассажиров\n",
    "df_work = df_work.drop(columns='Age')"
   ],
   "metadata": {
    "collapsed": false,
    "pycharm": {
     "name": "#%%\n"
    }
   }
  },
  {
   "cell_type": "code",
   "execution_count": 38,
   "outputs": [
    {
     "data": {
      "text/plain": "     Survived                                               Name  SibSp  \\\n0           0                            Braund, Mr. Owen Harris      1   \n1           1  Cumings, Mrs. John Bradley (Florence Briggs Th...      1   \n2           1                             Heikkinen, Miss. Laina      0   \n3           1       Futrelle, Mrs. Jacques Heath (Lily May Peel)      1   \n4           0                        Futrelle, Mr. Jacques Heath      1   \n..        ...                                                ...    ...   \n886         0                             Sutehall, Mr. Henry Jr      0   \n887         0                              Montvila, Rev. Juozas      0   \n888         1                       Graham, Miss. Margaret Edith      0   \n889         1                              Behr, Mr. Karl Howell      0   \n890         0                                Dooley, Mr. Patrick      0   \n\n     Parch  male  Pclass_1  Pclass_2  Pclass_3  18-  18-35  36-45  46-60  60+  \\\n0        0     1         0         0         1    0      1      0      0    0   \n1        0     0         1         0         0    0      0      1      0    0   \n2        0     0         0         0         1    0      1      0      0    0   \n3        0     0         1         0         0    0      1      0      0    0   \n4        0     1         1         0         0    0      0      1      0    0   \n..     ...   ...       ...       ...       ...  ...    ...    ...    ...  ...   \n886      0     1         0         0         1    0      1      0      0    0   \n887      0     1         0         1         0    0      1      0      0    0   \n888      0     0         1         0         0    0      1      0      0    0   \n889      0     1         1         0         0    0      1      0      0    0   \n890      0     1         0         0         1    0      1      0      0    0   \n\n     ticket_group  \n0             163  \n1             382  \n2             310  \n3             117  \n4             117  \n..            ...  \n886           329  \n887           487  \n888           370  \n889           291  \n890           240  \n\n[891 rows x 14 columns]",
      "text/html": "<div>\n<style scoped>\n    .dataframe tbody tr th:only-of-type {\n        vertical-align: middle;\n    }\n\n    .dataframe tbody tr th {\n        vertical-align: top;\n    }\n\n    .dataframe thead th {\n        text-align: right;\n    }\n</style>\n<table border=\"1\" class=\"dataframe\">\n  <thead>\n    <tr style=\"text-align: right;\">\n      <th></th>\n      <th>Survived</th>\n      <th>Name</th>\n      <th>SibSp</th>\n      <th>Parch</th>\n      <th>male</th>\n      <th>Pclass_1</th>\n      <th>Pclass_2</th>\n      <th>Pclass_3</th>\n      <th>18-</th>\n      <th>18-35</th>\n      <th>36-45</th>\n      <th>46-60</th>\n      <th>60+</th>\n      <th>ticket_group</th>\n    </tr>\n  </thead>\n  <tbody>\n    <tr>\n      <th>0</th>\n      <td>0</td>\n      <td>Braund, Mr. Owen Harris</td>\n      <td>1</td>\n      <td>0</td>\n      <td>1</td>\n      <td>0</td>\n      <td>0</td>\n      <td>1</td>\n      <td>0</td>\n      <td>1</td>\n      <td>0</td>\n      <td>0</td>\n      <td>0</td>\n      <td>163</td>\n    </tr>\n    <tr>\n      <th>1</th>\n      <td>1</td>\n      <td>Cumings, Mrs. John Bradley (Florence Briggs Th...</td>\n      <td>1</td>\n      <td>0</td>\n      <td>0</td>\n      <td>1</td>\n      <td>0</td>\n      <td>0</td>\n      <td>0</td>\n      <td>0</td>\n      <td>1</td>\n      <td>0</td>\n      <td>0</td>\n      <td>382</td>\n    </tr>\n    <tr>\n      <th>2</th>\n      <td>1</td>\n      <td>Heikkinen, Miss. Laina</td>\n      <td>0</td>\n      <td>0</td>\n      <td>0</td>\n      <td>0</td>\n      <td>0</td>\n      <td>1</td>\n      <td>0</td>\n      <td>1</td>\n      <td>0</td>\n      <td>0</td>\n      <td>0</td>\n      <td>310</td>\n    </tr>\n    <tr>\n      <th>3</th>\n      <td>1</td>\n      <td>Futrelle, Mrs. Jacques Heath (Lily May Peel)</td>\n      <td>1</td>\n      <td>0</td>\n      <td>0</td>\n      <td>1</td>\n      <td>0</td>\n      <td>0</td>\n      <td>0</td>\n      <td>1</td>\n      <td>0</td>\n      <td>0</td>\n      <td>0</td>\n      <td>117</td>\n    </tr>\n    <tr>\n      <th>4</th>\n      <td>0</td>\n      <td>Futrelle, Mr. Jacques Heath</td>\n      <td>1</td>\n      <td>0</td>\n      <td>1</td>\n      <td>1</td>\n      <td>0</td>\n      <td>0</td>\n      <td>0</td>\n      <td>0</td>\n      <td>1</td>\n      <td>0</td>\n      <td>0</td>\n      <td>117</td>\n    </tr>\n    <tr>\n      <th>...</th>\n      <td>...</td>\n      <td>...</td>\n      <td>...</td>\n      <td>...</td>\n      <td>...</td>\n      <td>...</td>\n      <td>...</td>\n      <td>...</td>\n      <td>...</td>\n      <td>...</td>\n      <td>...</td>\n      <td>...</td>\n      <td>...</td>\n      <td>...</td>\n    </tr>\n    <tr>\n      <th>886</th>\n      <td>0</td>\n      <td>Sutehall, Mr. Henry Jr</td>\n      <td>0</td>\n      <td>0</td>\n      <td>1</td>\n      <td>0</td>\n      <td>0</td>\n      <td>1</td>\n      <td>0</td>\n      <td>1</td>\n      <td>0</td>\n      <td>0</td>\n      <td>0</td>\n      <td>329</td>\n    </tr>\n    <tr>\n      <th>887</th>\n      <td>0</td>\n      <td>Montvila, Rev. Juozas</td>\n      <td>0</td>\n      <td>0</td>\n      <td>1</td>\n      <td>0</td>\n      <td>1</td>\n      <td>0</td>\n      <td>0</td>\n      <td>1</td>\n      <td>0</td>\n      <td>0</td>\n      <td>0</td>\n      <td>487</td>\n    </tr>\n    <tr>\n      <th>888</th>\n      <td>1</td>\n      <td>Graham, Miss. Margaret Edith</td>\n      <td>0</td>\n      <td>0</td>\n      <td>0</td>\n      <td>1</td>\n      <td>0</td>\n      <td>0</td>\n      <td>0</td>\n      <td>1</td>\n      <td>0</td>\n      <td>0</td>\n      <td>0</td>\n      <td>370</td>\n    </tr>\n    <tr>\n      <th>889</th>\n      <td>1</td>\n      <td>Behr, Mr. Karl Howell</td>\n      <td>0</td>\n      <td>0</td>\n      <td>1</td>\n      <td>1</td>\n      <td>0</td>\n      <td>0</td>\n      <td>0</td>\n      <td>1</td>\n      <td>0</td>\n      <td>0</td>\n      <td>0</td>\n      <td>291</td>\n    </tr>\n    <tr>\n      <th>890</th>\n      <td>0</td>\n      <td>Dooley, Mr. Patrick</td>\n      <td>0</td>\n      <td>0</td>\n      <td>1</td>\n      <td>0</td>\n      <td>0</td>\n      <td>1</td>\n      <td>0</td>\n      <td>1</td>\n      <td>0</td>\n      <td>0</td>\n      <td>0</td>\n      <td>240</td>\n    </tr>\n  </tbody>\n</table>\n<p>891 rows × 14 columns</p>\n</div>"
     },
     "execution_count": 38,
     "metadata": {},
     "output_type": "execute_result"
    }
   ],
   "source": [
    "# заметил, что проводить анализ ФИО не самая лучшая идея, т.к. все семьи или друзья, покупали билеты разом и имеют один\n",
    "# и тот же номер билета, поэтому разбиваем билеты на группы таким образом, чтобы каждый билет принадлежал группе, если\n",
    "# один билет куплен на нескольких человек\n",
    "df_ticket = (df_titanic.groupby(by='Ticket')[['Ticket']].count()).rename(columns={'Ticket':'quantity_ticket'}).\\\n",
    "    reset_index()\n",
    "df_ticket = df_work.groupby(by='Ticket')[['Ticket']].count().rename(columns={'Ticket':'quantity_ticket'}).\\\n",
    "    sort_values(by='quantity_ticket', ascending=False).reset_index()\n",
    "df_ticket = df_ticket.reset_index().rename(columns={'index':'ticket_group'})\n",
    "# df_ticket.ticket_group = df_ticket.ticket_group.apply(lambda x: x+1)\n",
    "# df_ticket.ticket_group = pd.concat([df_ticket[df_ticket.quantity_ticket > 1]['ticket_group'],\n",
    "#                                     df_ticket[df_ticket.quantity_ticket == 1].quantity_ticket.apply(lambda x: 0)])\n",
    "df_ticket = df_ticket[['Ticket', 'ticket_group']]\n",
    "df_work = df_work.merge(df_ticket, on='Ticket')\n",
    "df_work = df_work.drop(columns='Ticket')\n",
    "df_work"
   ],
   "metadata": {
    "collapsed": false,
    "pycharm": {
     "name": "#%%\n"
    }
   }
  },
  {
   "cell_type": "code",
   "execution_count": 39,
   "outputs": [
    {
     "name": "stdout",
     "output_type": "stream",
     "text": [
      "Accuracy: 0.7847533632286996\n",
      "Precision: 0.6875\n",
      "Recall: 0.7857142857142857\n",
      "F1: 0.7333333333333334\n"
     ]
    }
   ],
   "source": [
    "# формируем тестовые и тренировочные выборки\n",
    "X_train, X_test, y_train, y_test = train_test_split(df_work.drop(['Survived', 'Name'], axis=1),\n",
    "                                                    df_work['Survived'],\n",
    "                                                    train_size=0.75,\n",
    "                                                    random_state=42)\n",
    "# объявляем классификатор\n",
    "clf = RandomForestClassifier()\n",
    "model = clf.fit(X_train, y_train)\n",
    "clas_predict = model.predict(X_test)\n",
    "print('Accuracy:',accuracy_score(y_test, clas_predict))\n",
    "print('Precision:',precision_score(y_test, clas_predict))\n",
    "print('Recall:',recall_score(y_test, clas_predict))\n",
    "print('F1:',f1_score(y_test, clas_predict))"
   ],
   "metadata": {
    "collapsed": false,
    "pycharm": {
     "name": "#%%\n"
    }
   }
  },
  {
   "cell_type": "code",
   "execution_count": 40,
   "outputs": [],
   "source": [
    "# подбираем параметры n_estimators, criterion, max_depth\n",
    "param_dict = {\n",
    "    'n_estimators': [100, 200, 300],\n",
    "    'max_depth' : [5, 6, 7],\n",
    "    'criterion' :['gini', 'entropy']\n",
    "}"
   ],
   "metadata": {
    "collapsed": false,
    "pycharm": {
     "name": "#%%\n"
    }
   }
  },
  {
   "cell_type": "code",
   "execution_count": 41,
   "outputs": [
    {
     "name": "stdout",
     "output_type": "stream",
     "text": [
      "GridSearchCV(cv=5, estimator=RandomForestClassifier(random_state=42),\n",
      "             param_grid={'criterion': ['gini', 'entropy'],\n",
      "                         'max_depth': [5, 6, 7],\n",
      "                         'n_estimators': [100, 200, 300]})\n"
     ]
    },
    {
     "data": {
      "text/plain": "{'criterion': 'entropy', 'max_depth': 6, 'n_estimators': 200}"
     },
     "execution_count": 41,
     "metadata": {},
     "output_type": "execute_result"
    }
   ],
   "source": [
    "# выводим лучшее сочетание параметров\n",
    "rfc = RandomForestClassifier(random_state=42)\n",
    "clf_gscv = GridSearchCV(estimator=rfc, param_grid=param_dict, cv=5)\n",
    "print(clf_gscv.fit(X_train, y_train))\n",
    "clf_gscv.best_params_"
   ],
   "metadata": {
    "collapsed": false,
    "pycharm": {
     "name": "#%%\n"
    }
   }
  },
  {
   "cell_type": "code",
   "execution_count": 42,
   "outputs": [
    {
     "name": "stdout",
     "output_type": "stream",
     "text": [
      "Accuracy: 0.8161434977578476\n",
      "Precision: 0.7590361445783133\n",
      "Recall: 0.75\n",
      "F1: 0.7544910179640718\n"
     ]
    }
   ],
   "source": [
    "# получаем показатели метрик качества с лучшими параметрами\n",
    "rfc_best = RandomForestClassifier(random_state=42, criterion='entropy', max_depth=6, n_estimators=200)\n",
    "rfc_best.fit(X_train, y_train)\n",
    "rfc_best_predict = rfc_best.predict(X_test)\n",
    "print('Accuracy:',accuracy_score(y_test, rfc_best_predict))\n",
    "print('Precision:',precision_score(y_test, rfc_best_predict))\n",
    "print('Recall:',recall_score(y_test, rfc_best_predict))\n",
    "print('F1:',f1_score(y_test, rfc_best_predict))"
   ],
   "metadata": {
    "collapsed": false,
    "pycharm": {
     "name": "#%%\n"
    }
   }
  },
  {
   "cell_type": "code",
   "execution_count": 46,
   "outputs": [
    {
     "name": "stdout",
     "output_type": "stream",
     "text": [
      "RandomForestClassifier: ROC AUC=0.867\n"
     ]
    }
   ],
   "source": [
    "# получаем показатель ROC AUC\n",
    "pred_prob = rfc_best.predict_proba(X_test)[:,1]\n",
    "false_positive_rate, true_positive_rate, treshold = roc_curve(y_test, pred_prob)\n",
    "tree_auc = roc_auc_score(y_test, pred_prob)\n",
    "print('RandomForestClassifier: ROC AUC=%.3f' % (tree_auc))\n"
   ],
   "metadata": {
    "collapsed": false,
    "pycharm": {
     "name": "#%%\n"
    }
   }
  },
  {
   "cell_type": "code",
   "execution_count": 67,
   "outputs": [
    {
     "data": {
      "application/vnd.plotly.v1+json": {
       "config": {
        "plotlyServerURL": "https://plot.ly"
       },
       "data": [
        {
         "name": "ROC AUC 0.87",
         "type": "scatter",
         "x": [
          0.0,
          0.0,
          0.0,
          0.0,
          0.0,
          0.014388489208633094,
          0.014388489208633094,
          0.02158273381294964,
          0.02158273381294964,
          0.02158273381294964,
          0.02158273381294964,
          0.02158273381294964,
          0.02158273381294964,
          0.050359712230215826,
          0.050359712230215826,
          0.06474820143884892,
          0.07913669064748201,
          0.07913669064748201,
          0.08633093525179857,
          0.08633093525179857,
          0.10071942446043165,
          0.10071942446043165,
          0.1079136690647482,
          0.1079136690647482,
          0.11510791366906475,
          0.11510791366906475,
          0.1223021582733813,
          0.1223021582733813,
          0.12949640287769784,
          0.1366906474820144,
          0.18705035971223022,
          0.18705035971223022,
          0.22302158273381295,
          0.22302158273381295,
          0.2805755395683453,
          0.2805755395683453,
          0.3669064748201439,
          0.3669064748201439,
          0.4028776978417266,
          0.4028776978417266,
          0.45323741007194246,
          0.45323741007194246,
          0.49640287769784175,
          0.49640287769784175,
          0.5035971223021583,
          0.5179856115107914,
          0.5179856115107914,
          0.5323741007194245,
          0.5323741007194245,
          0.5467625899280576,
          0.5539568345323741,
          0.5683453237410072,
          0.60431654676259,
          0.6187050359712231,
          0.6258992805755396,
          0.6330935251798561,
          0.6618705035971223,
          0.6762589928057554,
          0.6834532374100719,
          0.697841726618705,
          0.7266187050359713,
          0.7482014388489209,
          0.762589928057554,
          0.7697841726618705,
          0.7841726618705036,
          0.7913669064748201,
          0.8129496402877698,
          0.8273381294964028,
          0.8489208633093526,
          0.8848920863309353,
          0.8992805755395683,
          0.9424460431654677,
          0.9568345323741008,
          0.9856115107913669,
          1.0
         ],
         "y": [
          0.0,
          0.011904761904761904,
          0.20238095238095238,
          0.2261904761904762,
          0.2976190476190476,
          0.2976190476190476,
          0.3333333333333333,
          0.3333333333333333,
          0.34523809523809523,
          0.36904761904761907,
          0.44047619047619047,
          0.4880952380952381,
          0.5595238095238095,
          0.5595238095238095,
          0.5833333333333334,
          0.5833333333333334,
          0.5833333333333334,
          0.5952380952380952,
          0.5952380952380952,
          0.6071428571428571,
          0.6071428571428571,
          0.6547619047619048,
          0.6547619047619048,
          0.7023809523809523,
          0.7023809523809523,
          0.7261904761904762,
          0.7261904761904762,
          0.7380952380952381,
          0.7380952380952381,
          0.75,
          0.75,
          0.7738095238095238,
          0.7738095238095238,
          0.7976190476190477,
          0.7976190476190477,
          0.8333333333333334,
          0.8333333333333334,
          0.8452380952380952,
          0.8452380952380952,
          0.8571428571428571,
          0.8571428571428571,
          0.8928571428571429,
          0.8928571428571429,
          0.9047619047619048,
          0.9047619047619048,
          0.9047619047619048,
          0.9166666666666666,
          0.9166666666666666,
          0.9404761904761905,
          0.9404761904761905,
          0.9523809523809523,
          0.9523809523809523,
          0.9642857142857143,
          0.9642857142857143,
          0.9642857142857143,
          0.9761904761904762,
          0.9761904761904762,
          0.9880952380952381,
          0.9880952380952381,
          0.9880952380952381,
          0.9880952380952381,
          0.9880952380952381,
          0.9880952380952381,
          0.9880952380952381,
          0.9880952380952381,
          0.9880952380952381,
          0.9880952380952381,
          0.9880952380952381,
          1.0,
          1.0,
          1.0,
          1.0,
          1.0,
          1.0,
          1.0
         ]
        },
        {
         "line": {
          "dash": "dot"
         },
         "name": "Random Classifier",
         "type": "scatter",
         "x": [
          0.0,
          1.0
         ],
         "y": [
          0.0,
          1.0
         ]
        }
       ],
       "layout": {
        "template": {
         "data": {
          "bar": [
           {
            "error_x": {
             "color": "#2a3f5f"
            },
            "error_y": {
             "color": "#2a3f5f"
            },
            "marker": {
             "line": {
              "color": "#E5ECF6",
              "width": 0.5
             }
            },
            "type": "bar"
           }
          ],
          "barpolar": [
           {
            "marker": {
             "line": {
              "color": "#E5ECF6",
              "width": 0.5
             }
            },
            "type": "barpolar"
           }
          ],
          "carpet": [
           {
            "aaxis": {
             "endlinecolor": "#2a3f5f",
             "gridcolor": "white",
             "linecolor": "white",
             "minorgridcolor": "white",
             "startlinecolor": "#2a3f5f"
            },
            "baxis": {
             "endlinecolor": "#2a3f5f",
             "gridcolor": "white",
             "linecolor": "white",
             "minorgridcolor": "white",
             "startlinecolor": "#2a3f5f"
            },
            "type": "carpet"
           }
          ],
          "choropleth": [
           {
            "colorbar": {
             "outlinewidth": 0,
             "ticks": ""
            },
            "type": "choropleth"
           }
          ],
          "contour": [
           {
            "colorbar": {
             "outlinewidth": 0,
             "ticks": ""
            },
            "colorscale": [
             [
              0.0,
              "#0d0887"
             ],
             [
              0.1111111111111111,
              "#46039f"
             ],
             [
              0.2222222222222222,
              "#7201a8"
             ],
             [
              0.3333333333333333,
              "#9c179e"
             ],
             [
              0.4444444444444444,
              "#bd3786"
             ],
             [
              0.5555555555555556,
              "#d8576b"
             ],
             [
              0.6666666666666666,
              "#ed7953"
             ],
             [
              0.7777777777777778,
              "#fb9f3a"
             ],
             [
              0.8888888888888888,
              "#fdca26"
             ],
             [
              1.0,
              "#f0f921"
             ]
            ],
            "type": "contour"
           }
          ],
          "contourcarpet": [
           {
            "colorbar": {
             "outlinewidth": 0,
             "ticks": ""
            },
            "type": "contourcarpet"
           }
          ],
          "heatmap": [
           {
            "colorbar": {
             "outlinewidth": 0,
             "ticks": ""
            },
            "colorscale": [
             [
              0.0,
              "#0d0887"
             ],
             [
              0.1111111111111111,
              "#46039f"
             ],
             [
              0.2222222222222222,
              "#7201a8"
             ],
             [
              0.3333333333333333,
              "#9c179e"
             ],
             [
              0.4444444444444444,
              "#bd3786"
             ],
             [
              0.5555555555555556,
              "#d8576b"
             ],
             [
              0.6666666666666666,
              "#ed7953"
             ],
             [
              0.7777777777777778,
              "#fb9f3a"
             ],
             [
              0.8888888888888888,
              "#fdca26"
             ],
             [
              1.0,
              "#f0f921"
             ]
            ],
            "type": "heatmap"
           }
          ],
          "heatmapgl": [
           {
            "colorbar": {
             "outlinewidth": 0,
             "ticks": ""
            },
            "colorscale": [
             [
              0.0,
              "#0d0887"
             ],
             [
              0.1111111111111111,
              "#46039f"
             ],
             [
              0.2222222222222222,
              "#7201a8"
             ],
             [
              0.3333333333333333,
              "#9c179e"
             ],
             [
              0.4444444444444444,
              "#bd3786"
             ],
             [
              0.5555555555555556,
              "#d8576b"
             ],
             [
              0.6666666666666666,
              "#ed7953"
             ],
             [
              0.7777777777777778,
              "#fb9f3a"
             ],
             [
              0.8888888888888888,
              "#fdca26"
             ],
             [
              1.0,
              "#f0f921"
             ]
            ],
            "type": "heatmapgl"
           }
          ],
          "histogram": [
           {
            "marker": {
             "colorbar": {
              "outlinewidth": 0,
              "ticks": ""
             }
            },
            "type": "histogram"
           }
          ],
          "histogram2d": [
           {
            "colorbar": {
             "outlinewidth": 0,
             "ticks": ""
            },
            "colorscale": [
             [
              0.0,
              "#0d0887"
             ],
             [
              0.1111111111111111,
              "#46039f"
             ],
             [
              0.2222222222222222,
              "#7201a8"
             ],
             [
              0.3333333333333333,
              "#9c179e"
             ],
             [
              0.4444444444444444,
              "#bd3786"
             ],
             [
              0.5555555555555556,
              "#d8576b"
             ],
             [
              0.6666666666666666,
              "#ed7953"
             ],
             [
              0.7777777777777778,
              "#fb9f3a"
             ],
             [
              0.8888888888888888,
              "#fdca26"
             ],
             [
              1.0,
              "#f0f921"
             ]
            ],
            "type": "histogram2d"
           }
          ],
          "histogram2dcontour": [
           {
            "colorbar": {
             "outlinewidth": 0,
             "ticks": ""
            },
            "colorscale": [
             [
              0.0,
              "#0d0887"
             ],
             [
              0.1111111111111111,
              "#46039f"
             ],
             [
              0.2222222222222222,
              "#7201a8"
             ],
             [
              0.3333333333333333,
              "#9c179e"
             ],
             [
              0.4444444444444444,
              "#bd3786"
             ],
             [
              0.5555555555555556,
              "#d8576b"
             ],
             [
              0.6666666666666666,
              "#ed7953"
             ],
             [
              0.7777777777777778,
              "#fb9f3a"
             ],
             [
              0.8888888888888888,
              "#fdca26"
             ],
             [
              1.0,
              "#f0f921"
             ]
            ],
            "type": "histogram2dcontour"
           }
          ],
          "mesh3d": [
           {
            "colorbar": {
             "outlinewidth": 0,
             "ticks": ""
            },
            "type": "mesh3d"
           }
          ],
          "parcoords": [
           {
            "line": {
             "colorbar": {
              "outlinewidth": 0,
              "ticks": ""
             }
            },
            "type": "parcoords"
           }
          ],
          "pie": [
           {
            "automargin": true,
            "type": "pie"
           }
          ],
          "scatter": [
           {
            "marker": {
             "colorbar": {
              "outlinewidth": 0,
              "ticks": ""
             }
            },
            "type": "scatter"
           }
          ],
          "scatter3d": [
           {
            "line": {
             "colorbar": {
              "outlinewidth": 0,
              "ticks": ""
             }
            },
            "marker": {
             "colorbar": {
              "outlinewidth": 0,
              "ticks": ""
             }
            },
            "type": "scatter3d"
           }
          ],
          "scattercarpet": [
           {
            "marker": {
             "colorbar": {
              "outlinewidth": 0,
              "ticks": ""
             }
            },
            "type": "scattercarpet"
           }
          ],
          "scattergeo": [
           {
            "marker": {
             "colorbar": {
              "outlinewidth": 0,
              "ticks": ""
             }
            },
            "type": "scattergeo"
           }
          ],
          "scattergl": [
           {
            "marker": {
             "colorbar": {
              "outlinewidth": 0,
              "ticks": ""
             }
            },
            "type": "scattergl"
           }
          ],
          "scattermapbox": [
           {
            "marker": {
             "colorbar": {
              "outlinewidth": 0,
              "ticks": ""
             }
            },
            "type": "scattermapbox"
           }
          ],
          "scatterpolar": [
           {
            "marker": {
             "colorbar": {
              "outlinewidth": 0,
              "ticks": ""
             }
            },
            "type": "scatterpolar"
           }
          ],
          "scatterpolargl": [
           {
            "marker": {
             "colorbar": {
              "outlinewidth": 0,
              "ticks": ""
             }
            },
            "type": "scatterpolargl"
           }
          ],
          "scatterternary": [
           {
            "marker": {
             "colorbar": {
              "outlinewidth": 0,
              "ticks": ""
             }
            },
            "type": "scatterternary"
           }
          ],
          "surface": [
           {
            "colorbar": {
             "outlinewidth": 0,
             "ticks": ""
            },
            "colorscale": [
             [
              0.0,
              "#0d0887"
             ],
             [
              0.1111111111111111,
              "#46039f"
             ],
             [
              0.2222222222222222,
              "#7201a8"
             ],
             [
              0.3333333333333333,
              "#9c179e"
             ],
             [
              0.4444444444444444,
              "#bd3786"
             ],
             [
              0.5555555555555556,
              "#d8576b"
             ],
             [
              0.6666666666666666,
              "#ed7953"
             ],
             [
              0.7777777777777778,
              "#fb9f3a"
             ],
             [
              0.8888888888888888,
              "#fdca26"
             ],
             [
              1.0,
              "#f0f921"
             ]
            ],
            "type": "surface"
           }
          ],
          "table": [
           {
            "cells": {
             "fill": {
              "color": "#EBF0F8"
             },
             "line": {
              "color": "white"
             }
            },
            "header": {
             "fill": {
              "color": "#C8D4E3"
             },
             "line": {
              "color": "white"
             }
            },
            "type": "table"
           }
          ]
         },
         "layout": {
          "annotationdefaults": {
           "arrowcolor": "#2a3f5f",
           "arrowhead": 0,
           "arrowwidth": 1
          },
          "autotypenumbers": "strict",
          "coloraxis": {
           "colorbar": {
            "outlinewidth": 0,
            "ticks": ""
           }
          },
          "colorscale": {
           "diverging": [
            [
             0,
             "#8e0152"
            ],
            [
             0.1,
             "#c51b7d"
            ],
            [
             0.2,
             "#de77ae"
            ],
            [
             0.3,
             "#f1b6da"
            ],
            [
             0.4,
             "#fde0ef"
            ],
            [
             0.5,
             "#f7f7f7"
            ],
            [
             0.6,
             "#e6f5d0"
            ],
            [
             0.7,
             "#b8e186"
            ],
            [
             0.8,
             "#7fbc41"
            ],
            [
             0.9,
             "#4d9221"
            ],
            [
             1,
             "#276419"
            ]
           ],
           "sequential": [
            [
             0.0,
             "#0d0887"
            ],
            [
             0.1111111111111111,
             "#46039f"
            ],
            [
             0.2222222222222222,
             "#7201a8"
            ],
            [
             0.3333333333333333,
             "#9c179e"
            ],
            [
             0.4444444444444444,
             "#bd3786"
            ],
            [
             0.5555555555555556,
             "#d8576b"
            ],
            [
             0.6666666666666666,
             "#ed7953"
            ],
            [
             0.7777777777777778,
             "#fb9f3a"
            ],
            [
             0.8888888888888888,
             "#fdca26"
            ],
            [
             1.0,
             "#f0f921"
            ]
           ],
           "sequentialminus": [
            [
             0.0,
             "#0d0887"
            ],
            [
             0.1111111111111111,
             "#46039f"
            ],
            [
             0.2222222222222222,
             "#7201a8"
            ],
            [
             0.3333333333333333,
             "#9c179e"
            ],
            [
             0.4444444444444444,
             "#bd3786"
            ],
            [
             0.5555555555555556,
             "#d8576b"
            ],
            [
             0.6666666666666666,
             "#ed7953"
            ],
            [
             0.7777777777777778,
             "#fb9f3a"
            ],
            [
             0.8888888888888888,
             "#fdca26"
            ],
            [
             1.0,
             "#f0f921"
            ]
           ]
          },
          "colorway": [
           "#636efa",
           "#EF553B",
           "#00cc96",
           "#ab63fa",
           "#FFA15A",
           "#19d3f3",
           "#FF6692",
           "#B6E880",
           "#FF97FF",
           "#FECB52"
          ],
          "font": {
           "color": "#2a3f5f"
          },
          "geo": {
           "bgcolor": "white",
           "lakecolor": "white",
           "landcolor": "#E5ECF6",
           "showlakes": true,
           "showland": true,
           "subunitcolor": "white"
          },
          "hoverlabel": {
           "align": "left"
          },
          "hovermode": "closest",
          "mapbox": {
           "style": "light"
          },
          "paper_bgcolor": "white",
          "plot_bgcolor": "#E5ECF6",
          "polar": {
           "angularaxis": {
            "gridcolor": "white",
            "linecolor": "white",
            "ticks": ""
           },
           "bgcolor": "#E5ECF6",
           "radialaxis": {
            "gridcolor": "white",
            "linecolor": "white",
            "ticks": ""
           }
          },
          "scene": {
           "xaxis": {
            "backgroundcolor": "#E5ECF6",
            "gridcolor": "white",
            "gridwidth": 2,
            "linecolor": "white",
            "showbackground": true,
            "ticks": "",
            "zerolinecolor": "white"
           },
           "yaxis": {
            "backgroundcolor": "#E5ECF6",
            "gridcolor": "white",
            "gridwidth": 2,
            "linecolor": "white",
            "showbackground": true,
            "ticks": "",
            "zerolinecolor": "white"
           },
           "zaxis": {
            "backgroundcolor": "#E5ECF6",
            "gridcolor": "white",
            "gridwidth": 2,
            "linecolor": "white",
            "showbackground": true,
            "ticks": "",
            "zerolinecolor": "white"
           }
          },
          "shapedefaults": {
           "line": {
            "color": "#2a3f5f"
           }
          },
          "ternary": {
           "aaxis": {
            "gridcolor": "white",
            "linecolor": "white",
            "ticks": ""
           },
           "baxis": {
            "gridcolor": "white",
            "linecolor": "white",
            "ticks": ""
           },
           "bgcolor": "#E5ECF6",
           "caxis": {
            "gridcolor": "white",
            "linecolor": "white",
            "ticks": ""
           }
          },
          "title": {
           "x": 0.05
          },
          "xaxis": {
           "automargin": true,
           "gridcolor": "white",
           "linecolor": "white",
           "ticks": "",
           "title": {
            "standoff": 15
           },
           "zerolinecolor": "white",
           "zerolinewidth": 2
          },
          "yaxis": {
           "automargin": true,
           "gridcolor": "white",
           "linecolor": "white",
           "ticks": "",
           "title": {
            "standoff": 15
           },
           "zerolinecolor": "white",
           "zerolinewidth": 2
          }
         }
        },
        "xaxis": {
         "title": {
          "text": "False Positive Rate"
         }
        },
        "yaxis": {
         "title": {
          "text": "True Positive Rate"
         }
        }
       }
      },
      "text/html": "<div>                            <div id=\"e4c91b3b-a42b-4205-95bd-5b7e2b4373e2\" class=\"plotly-graph-div\" style=\"height:525px; width:100%;\"></div>            <script type=\"text/javascript\">                require([\"plotly\"], function(Plotly) {                    window.PLOTLYENV=window.PLOTLYENV || {};                                    if (document.getElementById(\"e4c91b3b-a42b-4205-95bd-5b7e2b4373e2\")) {                    Plotly.newPlot(                        \"e4c91b3b-a42b-4205-95bd-5b7e2b4373e2\",                        [{\"name\": \"ROC AUC 0.87\", \"type\": \"scatter\", \"x\": [0.0, 0.0, 0.0, 0.0, 0.0, 0.014388489208633094, 0.014388489208633094, 0.02158273381294964, 0.02158273381294964, 0.02158273381294964, 0.02158273381294964, 0.02158273381294964, 0.02158273381294964, 0.050359712230215826, 0.050359712230215826, 0.06474820143884892, 0.07913669064748201, 0.07913669064748201, 0.08633093525179857, 0.08633093525179857, 0.10071942446043165, 0.10071942446043165, 0.1079136690647482, 0.1079136690647482, 0.11510791366906475, 0.11510791366906475, 0.1223021582733813, 0.1223021582733813, 0.12949640287769784, 0.1366906474820144, 0.18705035971223022, 0.18705035971223022, 0.22302158273381295, 0.22302158273381295, 0.2805755395683453, 0.2805755395683453, 0.3669064748201439, 0.3669064748201439, 0.4028776978417266, 0.4028776978417266, 0.45323741007194246, 0.45323741007194246, 0.49640287769784175, 0.49640287769784175, 0.5035971223021583, 0.5179856115107914, 0.5179856115107914, 0.5323741007194245, 0.5323741007194245, 0.5467625899280576, 0.5539568345323741, 0.5683453237410072, 0.60431654676259, 0.6187050359712231, 0.6258992805755396, 0.6330935251798561, 0.6618705035971223, 0.6762589928057554, 0.6834532374100719, 0.697841726618705, 0.7266187050359713, 0.7482014388489209, 0.762589928057554, 0.7697841726618705, 0.7841726618705036, 0.7913669064748201, 0.8129496402877698, 0.8273381294964028, 0.8489208633093526, 0.8848920863309353, 0.8992805755395683, 0.9424460431654677, 0.9568345323741008, 0.9856115107913669, 1.0], \"y\": [0.0, 0.011904761904761904, 0.20238095238095238, 0.2261904761904762, 0.2976190476190476, 0.2976190476190476, 0.3333333333333333, 0.3333333333333333, 0.34523809523809523, 0.36904761904761907, 0.44047619047619047, 0.4880952380952381, 0.5595238095238095, 0.5595238095238095, 0.5833333333333334, 0.5833333333333334, 0.5833333333333334, 0.5952380952380952, 0.5952380952380952, 0.6071428571428571, 0.6071428571428571, 0.6547619047619048, 0.6547619047619048, 0.7023809523809523, 0.7023809523809523, 0.7261904761904762, 0.7261904761904762, 0.7380952380952381, 0.7380952380952381, 0.75, 0.75, 0.7738095238095238, 0.7738095238095238, 0.7976190476190477, 0.7976190476190477, 0.8333333333333334, 0.8333333333333334, 0.8452380952380952, 0.8452380952380952, 0.8571428571428571, 0.8571428571428571, 0.8928571428571429, 0.8928571428571429, 0.9047619047619048, 0.9047619047619048, 0.9047619047619048, 0.9166666666666666, 0.9166666666666666, 0.9404761904761905, 0.9404761904761905, 0.9523809523809523, 0.9523809523809523, 0.9642857142857143, 0.9642857142857143, 0.9642857142857143, 0.9761904761904762, 0.9761904761904762, 0.9880952380952381, 0.9880952380952381, 0.9880952380952381, 0.9880952380952381, 0.9880952380952381, 0.9880952380952381, 0.9880952380952381, 0.9880952380952381, 0.9880952380952381, 0.9880952380952381, 0.9880952380952381, 1.0, 1.0, 1.0, 1.0, 1.0, 1.0, 1.0]}, {\"line\": {\"dash\": \"dot\"}, \"name\": \"Random Classifier\", \"type\": \"scatter\", \"x\": [0.0, 1.0], \"y\": [0.0, 1.0]}],                        {\"template\": {\"data\": {\"bar\": [{\"error_x\": {\"color\": \"#2a3f5f\"}, \"error_y\": {\"color\": \"#2a3f5f\"}, \"marker\": {\"line\": {\"color\": \"#E5ECF6\", \"width\": 0.5}}, \"type\": \"bar\"}], \"barpolar\": [{\"marker\": {\"line\": {\"color\": \"#E5ECF6\", \"width\": 0.5}}, \"type\": \"barpolar\"}], \"carpet\": [{\"aaxis\": {\"endlinecolor\": \"#2a3f5f\", \"gridcolor\": \"white\", \"linecolor\": \"white\", \"minorgridcolor\": \"white\", \"startlinecolor\": \"#2a3f5f\"}, \"baxis\": {\"endlinecolor\": \"#2a3f5f\", \"gridcolor\": \"white\", \"linecolor\": \"white\", \"minorgridcolor\": \"white\", \"startlinecolor\": \"#2a3f5f\"}, \"type\": \"carpet\"}], \"choropleth\": [{\"colorbar\": {\"outlinewidth\": 0, \"ticks\": \"\"}, \"type\": \"choropleth\"}], \"contour\": [{\"colorbar\": {\"outlinewidth\": 0, \"ticks\": \"\"}, \"colorscale\": [[0.0, \"#0d0887\"], [0.1111111111111111, \"#46039f\"], [0.2222222222222222, \"#7201a8\"], [0.3333333333333333, \"#9c179e\"], [0.4444444444444444, \"#bd3786\"], [0.5555555555555556, \"#d8576b\"], [0.6666666666666666, \"#ed7953\"], [0.7777777777777778, \"#fb9f3a\"], [0.8888888888888888, \"#fdca26\"], [1.0, \"#f0f921\"]], \"type\": \"contour\"}], \"contourcarpet\": [{\"colorbar\": {\"outlinewidth\": 0, \"ticks\": \"\"}, \"type\": \"contourcarpet\"}], \"heatmap\": [{\"colorbar\": {\"outlinewidth\": 0, \"ticks\": \"\"}, \"colorscale\": [[0.0, \"#0d0887\"], [0.1111111111111111, \"#46039f\"], [0.2222222222222222, \"#7201a8\"], [0.3333333333333333, \"#9c179e\"], [0.4444444444444444, \"#bd3786\"], [0.5555555555555556, \"#d8576b\"], [0.6666666666666666, \"#ed7953\"], [0.7777777777777778, \"#fb9f3a\"], [0.8888888888888888, \"#fdca26\"], [1.0, \"#f0f921\"]], \"type\": \"heatmap\"}], \"heatmapgl\": [{\"colorbar\": {\"outlinewidth\": 0, \"ticks\": \"\"}, \"colorscale\": [[0.0, \"#0d0887\"], [0.1111111111111111, \"#46039f\"], [0.2222222222222222, \"#7201a8\"], [0.3333333333333333, \"#9c179e\"], [0.4444444444444444, \"#bd3786\"], [0.5555555555555556, \"#d8576b\"], [0.6666666666666666, \"#ed7953\"], [0.7777777777777778, \"#fb9f3a\"], [0.8888888888888888, \"#fdca26\"], [1.0, \"#f0f921\"]], \"type\": \"heatmapgl\"}], \"histogram\": [{\"marker\": {\"colorbar\": {\"outlinewidth\": 0, \"ticks\": \"\"}}, \"type\": \"histogram\"}], \"histogram2d\": [{\"colorbar\": {\"outlinewidth\": 0, \"ticks\": \"\"}, \"colorscale\": [[0.0, \"#0d0887\"], [0.1111111111111111, \"#46039f\"], [0.2222222222222222, \"#7201a8\"], [0.3333333333333333, \"#9c179e\"], [0.4444444444444444, \"#bd3786\"], [0.5555555555555556, \"#d8576b\"], [0.6666666666666666, \"#ed7953\"], [0.7777777777777778, \"#fb9f3a\"], [0.8888888888888888, \"#fdca26\"], [1.0, \"#f0f921\"]], \"type\": \"histogram2d\"}], \"histogram2dcontour\": [{\"colorbar\": {\"outlinewidth\": 0, \"ticks\": \"\"}, \"colorscale\": [[0.0, \"#0d0887\"], [0.1111111111111111, \"#46039f\"], [0.2222222222222222, \"#7201a8\"], [0.3333333333333333, \"#9c179e\"], [0.4444444444444444, \"#bd3786\"], [0.5555555555555556, \"#d8576b\"], [0.6666666666666666, \"#ed7953\"], [0.7777777777777778, \"#fb9f3a\"], [0.8888888888888888, \"#fdca26\"], [1.0, \"#f0f921\"]], \"type\": \"histogram2dcontour\"}], \"mesh3d\": [{\"colorbar\": {\"outlinewidth\": 0, \"ticks\": \"\"}, \"type\": \"mesh3d\"}], \"parcoords\": [{\"line\": {\"colorbar\": {\"outlinewidth\": 0, \"ticks\": \"\"}}, \"type\": \"parcoords\"}], \"pie\": [{\"automargin\": true, \"type\": \"pie\"}], \"scatter\": [{\"marker\": {\"colorbar\": {\"outlinewidth\": 0, \"ticks\": \"\"}}, \"type\": \"scatter\"}], \"scatter3d\": [{\"line\": {\"colorbar\": {\"outlinewidth\": 0, \"ticks\": \"\"}}, \"marker\": {\"colorbar\": {\"outlinewidth\": 0, \"ticks\": \"\"}}, \"type\": \"scatter3d\"}], \"scattercarpet\": [{\"marker\": {\"colorbar\": {\"outlinewidth\": 0, \"ticks\": \"\"}}, \"type\": \"scattercarpet\"}], \"scattergeo\": [{\"marker\": {\"colorbar\": {\"outlinewidth\": 0, \"ticks\": \"\"}}, \"type\": \"scattergeo\"}], \"scattergl\": [{\"marker\": {\"colorbar\": {\"outlinewidth\": 0, \"ticks\": \"\"}}, \"type\": \"scattergl\"}], \"scattermapbox\": [{\"marker\": {\"colorbar\": {\"outlinewidth\": 0, \"ticks\": \"\"}}, \"type\": \"scattermapbox\"}], \"scatterpolar\": [{\"marker\": {\"colorbar\": {\"outlinewidth\": 0, \"ticks\": \"\"}}, \"type\": \"scatterpolar\"}], \"scatterpolargl\": [{\"marker\": {\"colorbar\": {\"outlinewidth\": 0, \"ticks\": \"\"}}, \"type\": \"scatterpolargl\"}], \"scatterternary\": [{\"marker\": {\"colorbar\": {\"outlinewidth\": 0, \"ticks\": \"\"}}, \"type\": \"scatterternary\"}], \"surface\": [{\"colorbar\": {\"outlinewidth\": 0, \"ticks\": \"\"}, \"colorscale\": [[0.0, \"#0d0887\"], [0.1111111111111111, \"#46039f\"], [0.2222222222222222, \"#7201a8\"], [0.3333333333333333, \"#9c179e\"], [0.4444444444444444, \"#bd3786\"], [0.5555555555555556, \"#d8576b\"], [0.6666666666666666, \"#ed7953\"], [0.7777777777777778, \"#fb9f3a\"], [0.8888888888888888, \"#fdca26\"], [1.0, \"#f0f921\"]], \"type\": \"surface\"}], \"table\": [{\"cells\": {\"fill\": {\"color\": \"#EBF0F8\"}, \"line\": {\"color\": \"white\"}}, \"header\": {\"fill\": {\"color\": \"#C8D4E3\"}, \"line\": {\"color\": \"white\"}}, \"type\": \"table\"}]}, \"layout\": {\"annotationdefaults\": {\"arrowcolor\": \"#2a3f5f\", \"arrowhead\": 0, \"arrowwidth\": 1}, \"autotypenumbers\": \"strict\", \"coloraxis\": {\"colorbar\": {\"outlinewidth\": 0, \"ticks\": \"\"}}, \"colorscale\": {\"diverging\": [[0, \"#8e0152\"], [0.1, \"#c51b7d\"], [0.2, \"#de77ae\"], [0.3, \"#f1b6da\"], [0.4, \"#fde0ef\"], [0.5, \"#f7f7f7\"], [0.6, \"#e6f5d0\"], [0.7, \"#b8e186\"], [0.8, \"#7fbc41\"], [0.9, \"#4d9221\"], [1, \"#276419\"]], \"sequential\": [[0.0, \"#0d0887\"], [0.1111111111111111, \"#46039f\"], [0.2222222222222222, \"#7201a8\"], [0.3333333333333333, \"#9c179e\"], [0.4444444444444444, \"#bd3786\"], [0.5555555555555556, \"#d8576b\"], [0.6666666666666666, \"#ed7953\"], [0.7777777777777778, \"#fb9f3a\"], [0.8888888888888888, \"#fdca26\"], [1.0, \"#f0f921\"]], \"sequentialminus\": [[0.0, \"#0d0887\"], [0.1111111111111111, \"#46039f\"], [0.2222222222222222, \"#7201a8\"], [0.3333333333333333, \"#9c179e\"], [0.4444444444444444, \"#bd3786\"], [0.5555555555555556, \"#d8576b\"], [0.6666666666666666, \"#ed7953\"], [0.7777777777777778, \"#fb9f3a\"], [0.8888888888888888, \"#fdca26\"], [1.0, \"#f0f921\"]]}, \"colorway\": [\"#636efa\", \"#EF553B\", \"#00cc96\", \"#ab63fa\", \"#FFA15A\", \"#19d3f3\", \"#FF6692\", \"#B6E880\", \"#FF97FF\", \"#FECB52\"], \"font\": {\"color\": \"#2a3f5f\"}, \"geo\": {\"bgcolor\": \"white\", \"lakecolor\": \"white\", \"landcolor\": \"#E5ECF6\", \"showlakes\": true, \"showland\": true, \"subunitcolor\": \"white\"}, \"hoverlabel\": {\"align\": \"left\"}, \"hovermode\": \"closest\", \"mapbox\": {\"style\": \"light\"}, \"paper_bgcolor\": \"white\", \"plot_bgcolor\": \"#E5ECF6\", \"polar\": {\"angularaxis\": {\"gridcolor\": \"white\", \"linecolor\": \"white\", \"ticks\": \"\"}, \"bgcolor\": \"#E5ECF6\", \"radialaxis\": {\"gridcolor\": \"white\", \"linecolor\": \"white\", \"ticks\": \"\"}}, \"scene\": {\"xaxis\": {\"backgroundcolor\": \"#E5ECF6\", \"gridcolor\": \"white\", \"gridwidth\": 2, \"linecolor\": \"white\", \"showbackground\": true, \"ticks\": \"\", \"zerolinecolor\": \"white\"}, \"yaxis\": {\"backgroundcolor\": \"#E5ECF6\", \"gridcolor\": \"white\", \"gridwidth\": 2, \"linecolor\": \"white\", \"showbackground\": true, \"ticks\": \"\", \"zerolinecolor\": \"white\"}, \"zaxis\": {\"backgroundcolor\": \"#E5ECF6\", \"gridcolor\": \"white\", \"gridwidth\": 2, \"linecolor\": \"white\", \"showbackground\": true, \"ticks\": \"\", \"zerolinecolor\": \"white\"}}, \"shapedefaults\": {\"line\": {\"color\": \"#2a3f5f\"}}, \"ternary\": {\"aaxis\": {\"gridcolor\": \"white\", \"linecolor\": \"white\", \"ticks\": \"\"}, \"baxis\": {\"gridcolor\": \"white\", \"linecolor\": \"white\", \"ticks\": \"\"}, \"bgcolor\": \"#E5ECF6\", \"caxis\": {\"gridcolor\": \"white\", \"linecolor\": \"white\", \"ticks\": \"\"}}, \"title\": {\"x\": 0.05}, \"xaxis\": {\"automargin\": true, \"gridcolor\": \"white\", \"linecolor\": \"white\", \"ticks\": \"\", \"title\": {\"standoff\": 15}, \"zerolinecolor\": \"white\", \"zerolinewidth\": 2}, \"yaxis\": {\"automargin\": true, \"gridcolor\": \"white\", \"linecolor\": \"white\", \"ticks\": \"\", \"title\": {\"standoff\": 15}, \"zerolinecolor\": \"white\", \"zerolinewidth\": 2}}}, \"xaxis\": {\"title\": {\"text\": \"False Positive Rate\"}}, \"yaxis\": {\"title\": {\"text\": \"True Positive Rate\"}}},                        {\"responsive\": true}                    ).then(function(){\n                            \nvar gd = document.getElementById('e4c91b3b-a42b-4205-95bd-5b7e2b4373e2');\nvar x = new MutationObserver(function (mutations, observer) {{\n        var display = window.getComputedStyle(gd).display;\n        if (!display || display === 'none') {{\n            console.log([gd, 'removed!']);\n            Plotly.purge(gd);\n            observer.disconnect();\n        }}\n}});\n\n// Listen for the removal of the full notebook cells\nvar notebookContainer = gd.closest('#notebook-container');\nif (notebookContainer) {{\n    x.observe(notebookContainer, {childList: true});\n}}\n\n// Listen for the clearing of the current output cell\nvar outputEl = gd.closest('.output');\nif (outputEl) {{\n    x.observe(outputEl, {childList: true});\n}}\n\n                        })                };                });            </script>        </div>"
     },
     "metadata": {},
     "output_type": "display_data"
    }
   ],
   "source": [
    "# строим кривую ROC AUC\n",
    "roc_auc = auc(false_positive_rate, true_positive_rate)\n",
    "fig = go.Figure()\n",
    "fig.add_trace(go.Scatter(x=false_positive_rate.tolist(),\n",
    "                         y=true_positive_rate.tolist(),\n",
    "                         name='ROC AUC ' + str(round(tree_auc, 2)))\n",
    "                         )\n",
    "fig.add_trace(go.Scatter(x=np.linspace(0,1,2), y=np.linspace(0,1,2), line=dict(dash='dot'), name='Random Classifier'))\n",
    "fig.update_layout(xaxis_title='False Positive Rate', yaxis_title='True Positive Rate')\n",
    "fig.show()\n"
   ],
   "metadata": {
    "collapsed": false,
    "pycharm": {
     "name": "#%%\n"
    }
   }
  }
 ],
 "metadata": {
  "kernelspec": {
   "name": "pycharm-f169a146",
   "language": "python",
   "display_name": "PyCharm (School_DA)"
  },
  "language_info": {
   "codemirror_mode": {
    "name": "ipython",
    "version": 2
   },
   "file_extension": ".py",
   "mimetype": "text/x-python",
   "name": "python",
   "nbconvert_exporter": "python",
   "pygments_lexer": "ipython2",
   "version": "2.7.6"
  }
 },
 "nbformat": 4,
 "nbformat_minor": 0
}