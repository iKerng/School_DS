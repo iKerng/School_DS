{
 "cells": [
  {
   "cell_type": "code",
   "execution_count": 1,
   "metadata": {
    "collapsed": true
   },
   "outputs": [],
   "source": [
    "import sqlite3\n",
    "import pandas as pd\n",
    "import requests as rq\n",
    "import os"
   ]
  },
  {
   "cell_type": "code",
   "execution_count": 2,
   "metadata": {
    "pycharm": {
     "name": "#%%\n"
    }
   },
   "outputs": [
    {
     "name": "stdout",
     "output_type": "stream",
     "text": [
      "2.6.0\n",
      "1.1.5\n"
     ]
    }
   ],
   "source": [
    "print(sqlite3.version)\n",
    "print(pd.__version__)"
   ]
  },
  {
   "cell_type": "code",
   "execution_count": 3,
   "metadata": {
    "collapsed": true
   },
   "outputs": [],
   "source": [
    "con = sqlite3.connect(\":memory:\")\n",
    "cur = con.cursor()"
   ]
  },
  {
   "cell_type": "markdown",
   "metadata": {},
   "source": [
    "https://www.cs.toronto.edu/~delve/data/boston/bostonDetail.html"
   ]
  },
  {
   "cell_type": "code",
   "execution_count": 4,
   "metadata": {
    "collapsed": true
   },
   "outputs": [],
   "source": [
    "link = 'https://raw.githubusercontent.com/eric-bunch/boston_housing/master/boston.csv'\n",
    "file_path = os.getcwd() + '\\\\data\\\\boston.csv'"
   ]
  },
  {
   "cell_type": "code",
   "execution_count": 5,
   "metadata": {
    "collapsed": true,
    "pycharm": {
     "name": "#%%\n"
    }
   },
   "outputs": [],
   "source": [
    "if not os.path.exists(os.getcwd() + '\\\\data\\\\boston.csv'):\n",
    "    print('Файл отсутствует, скачиваем...')\n",
    "    with open(file_path, 'wb') as f:\n",
    "        f.write((rq.get(link)).content)\n",
    "        f.close"
   ]
  },
  {
   "cell_type": "code",
   "execution_count": 6,
   "metadata": {
    "collapsed": true
   },
   "outputs": [],
   "source": [
    "data = pd.read_csv(file_path)\n",
    "data.rename(columns = {'MDEV':'MEDV'}, inplace=True)"
   ]
  },
  {
   "cell_type": "code",
   "execution_count": 7,
   "metadata": {
    "collapsed": true
   },
   "outputs": [],
   "source": [
    "data.to_sql(\"boston\", con, index=False, if_exists=\"replace\")"
   ]
  },
  {
   "cell_type": "code",
   "execution_count": 8,
   "metadata": {
    "scrolled": true
   },
   "outputs": [
    {
     "data": {
      "text/plain": "      CRIM    ZN  INDUS  CHAS    NOX     RM   AGE     DIS  RAD    TAX  \\\n0  0.00632  18.0   2.31   0.0  0.538  6.575  65.2  4.0900  1.0  296.0   \n1  0.02731   0.0   7.07   0.0  0.469  6.421  78.9  4.9671  2.0  242.0   \n2  0.02729   0.0   7.07   0.0  0.469  7.185  61.1  4.9671  2.0  242.0   \n3  0.03237   0.0   2.18   0.0  0.458  6.998  45.8  6.0622  3.0  222.0   \n4  0.06905   0.0   2.18   0.0  0.458  7.147  54.2  6.0622  3.0  222.0   \n\n   PTRATIO       B  LSTAT  MEDV  \n0     15.3  396.90   4.98  24.0  \n1     17.8  396.90   9.14  21.6  \n2     17.8  392.83   4.03  34.7  \n3     18.7  394.63   2.94  33.4  \n4     18.7  396.90   5.33  36.2  ",
      "text/html": "<div>\n<style scoped>\n    .dataframe tbody tr th:only-of-type {\n        vertical-align: middle;\n    }\n\n    .dataframe tbody tr th {\n        vertical-align: top;\n    }\n\n    .dataframe thead th {\n        text-align: right;\n    }\n</style>\n<table border=\"1\" class=\"dataframe\">\n  <thead>\n    <tr style=\"text-align: right;\">\n      <th></th>\n      <th>CRIM</th>\n      <th>ZN</th>\n      <th>INDUS</th>\n      <th>CHAS</th>\n      <th>NOX</th>\n      <th>RM</th>\n      <th>AGE</th>\n      <th>DIS</th>\n      <th>RAD</th>\n      <th>TAX</th>\n      <th>PTRATIO</th>\n      <th>B</th>\n      <th>LSTAT</th>\n      <th>MEDV</th>\n    </tr>\n  </thead>\n  <tbody>\n    <tr>\n      <th>0</th>\n      <td>0.00632</td>\n      <td>18.0</td>\n      <td>2.31</td>\n      <td>0.0</td>\n      <td>0.538</td>\n      <td>6.575</td>\n      <td>65.2</td>\n      <td>4.0900</td>\n      <td>1.0</td>\n      <td>296.0</td>\n      <td>15.3</td>\n      <td>396.90</td>\n      <td>4.98</td>\n      <td>24.0</td>\n    </tr>\n    <tr>\n      <th>1</th>\n      <td>0.02731</td>\n      <td>0.0</td>\n      <td>7.07</td>\n      <td>0.0</td>\n      <td>0.469</td>\n      <td>6.421</td>\n      <td>78.9</td>\n      <td>4.9671</td>\n      <td>2.0</td>\n      <td>242.0</td>\n      <td>17.8</td>\n      <td>396.90</td>\n      <td>9.14</td>\n      <td>21.6</td>\n    </tr>\n    <tr>\n      <th>2</th>\n      <td>0.02729</td>\n      <td>0.0</td>\n      <td>7.07</td>\n      <td>0.0</td>\n      <td>0.469</td>\n      <td>7.185</td>\n      <td>61.1</td>\n      <td>4.9671</td>\n      <td>2.0</td>\n      <td>242.0</td>\n      <td>17.8</td>\n      <td>392.83</td>\n      <td>4.03</td>\n      <td>34.7</td>\n    </tr>\n    <tr>\n      <th>3</th>\n      <td>0.03237</td>\n      <td>0.0</td>\n      <td>2.18</td>\n      <td>0.0</td>\n      <td>0.458</td>\n      <td>6.998</td>\n      <td>45.8</td>\n      <td>6.0622</td>\n      <td>3.0</td>\n      <td>222.0</td>\n      <td>18.7</td>\n      <td>394.63</td>\n      <td>2.94</td>\n      <td>33.4</td>\n    </tr>\n    <tr>\n      <th>4</th>\n      <td>0.06905</td>\n      <td>0.0</td>\n      <td>2.18</td>\n      <td>0.0</td>\n      <td>0.458</td>\n      <td>7.147</td>\n      <td>54.2</td>\n      <td>6.0622</td>\n      <td>3.0</td>\n      <td>222.0</td>\n      <td>18.7</td>\n      <td>396.90</td>\n      <td>5.33</td>\n      <td>36.2</td>\n    </tr>\n  </tbody>\n</table>\n</div>"
     },
     "execution_count": 8,
     "metadata": {},
     "output_type": "execute_result"
    }
   ],
   "source": [
    "pd.read_sql(\n",
    "    \"\"\"\n",
    "    SELECT * FROM boston\n",
    "    limit 5\n",
    "    \"\"\",\n",
    "    con,\n",
    ")"
   ]
  },
  {
   "cell_type": "markdown",
   "metadata": {},
   "source": [
    "1. Выведите количество пустых значений по каждой из колонок (название колонки, кол-во пустых значений)"
   ]
  },
  {
   "cell_type": "code",
   "execution_count": 10,
   "metadata": {},
   "outputs": [
    {
     "data": {
      "text/plain": "   CRIM_NULLS  ZN_NULLS  INDUS_NULLS  CHAS_NULLS  NOX_NULLS  RM_NULLS  \\\n0           0         0            0           0          0         0   \n\n   AGE_NULLS  DIS_NULLS  RAD_NULLS  TAX_NULLS  PTRATIO_NULLS  B_NULLS  \\\n0          0          0          0          0              0        0   \n\n   LSTAT_NULLS  MEDV_NULLS  \n0            0           0  ",
      "text/html": "<div>\n<style scoped>\n    .dataframe tbody tr th:only-of-type {\n        vertical-align: middle;\n    }\n\n    .dataframe tbody tr th {\n        vertical-align: top;\n    }\n\n    .dataframe thead th {\n        text-align: right;\n    }\n</style>\n<table border=\"1\" class=\"dataframe\">\n  <thead>\n    <tr style=\"text-align: right;\">\n      <th></th>\n      <th>CRIM_NULLS</th>\n      <th>ZN_NULLS</th>\n      <th>INDUS_NULLS</th>\n      <th>CHAS_NULLS</th>\n      <th>NOX_NULLS</th>\n      <th>RM_NULLS</th>\n      <th>AGE_NULLS</th>\n      <th>DIS_NULLS</th>\n      <th>RAD_NULLS</th>\n      <th>TAX_NULLS</th>\n      <th>PTRATIO_NULLS</th>\n      <th>B_NULLS</th>\n      <th>LSTAT_NULLS</th>\n      <th>MEDV_NULLS</th>\n    </tr>\n  </thead>\n  <tbody>\n    <tr>\n      <th>0</th>\n      <td>0</td>\n      <td>0</td>\n      <td>0</td>\n      <td>0</td>\n      <td>0</td>\n      <td>0</td>\n      <td>0</td>\n      <td>0</td>\n      <td>0</td>\n      <td>0</td>\n      <td>0</td>\n      <td>0</td>\n      <td>0</td>\n      <td>0</td>\n    </tr>\n  </tbody>\n</table>\n</div>"
     },
     "execution_count": 10,
     "metadata": {},
     "output_type": "execute_result"
    }
   ],
   "source": [
    "pd.read_sql(\n",
    "    \"\"\"\n",
    "    SELECT\n",
    "          count(CRIM   ) filter (where CRIM    is null) over() as CRIM_NULLS\n",
    "        , count(ZN     ) filter (where ZN      is null) over() as ZN_NULLS\n",
    "        , count(INDUS  ) filter (where INDUS   is null) over() as INDUS_NULLS\n",
    "        , count(CHAS   ) filter (where CHAS    is null) over() as CHAS_NULLS\n",
    "        , count(NOX    ) filter (where NOX     is null) over() as NOX_NULLS\n",
    "        , count(RM     ) filter (where RM      is null) over() as RM_NULLS\n",
    "        , count(AGE    ) filter (where AGE     is null) over() as AGE_NULLS\n",
    "        , count(DIS    ) filter (where DIS     is null) over() as DIS_NULLS\n",
    "        , count(RAD    ) filter (where RAD     is null) over() as RAD_NULLS\n",
    "        , count(TAX    ) filter (where TAX     is null) over() as TAX_NULLS\n",
    "        , count(PTRATIO) filter (where PTRATIO is null) over() as PTRATIO_NULLS\n",
    "        , count(B      ) filter (where B       is null) over() as B_NULLS\n",
    "        , count(LSTAT  ) filter (where LSTAT   is null) over() as LSTAT_NULLS\n",
    "        , count(MEDV   ) filter (where MEDV    is null) over() as MEDV_NULLS\n",
    "    FROM BOSTON\n",
    "    limit 1\n",
    "    \"\"\",\n",
    "    con\n",
    ")"
   ]
  },
  {
   "cell_type": "markdown",
   "metadata": {},
   "source": [
    "2. Выведите количество уникальных значений по каждой из колонок (название колонки, кол-во уникальных значений)"
   ]
  },
  {
   "cell_type": "code",
   "execution_count": 11,
   "metadata": {
    "collapsed": true
   },
   "outputs": [
    {
     "data": {
      "text/plain": "   col_name  count_uniq_CRIM\n0       AGE              356\n1         B              357\n2      CHAS                2\n3      CRIM              504\n4       DIS              412\n5     INDUS               76\n6     LSTAT              455\n7      MEDV              229\n8       NOX               81\n9   PTRATIO               46\n10      RAD                9\n11       RM              446\n12      TAX               66\n13       ZN               26",
      "text/html": "<div>\n<style scoped>\n    .dataframe tbody tr th:only-of-type {\n        vertical-align: middle;\n    }\n\n    .dataframe tbody tr th {\n        vertical-align: top;\n    }\n\n    .dataframe thead th {\n        text-align: right;\n    }\n</style>\n<table border=\"1\" class=\"dataframe\">\n  <thead>\n    <tr style=\"text-align: right;\">\n      <th></th>\n      <th>col_name</th>\n      <th>count_uniq_CRIM</th>\n    </tr>\n  </thead>\n  <tbody>\n    <tr>\n      <th>0</th>\n      <td>AGE</td>\n      <td>356</td>\n    </tr>\n    <tr>\n      <th>1</th>\n      <td>B</td>\n      <td>357</td>\n    </tr>\n    <tr>\n      <th>2</th>\n      <td>CHAS</td>\n      <td>2</td>\n    </tr>\n    <tr>\n      <th>3</th>\n      <td>CRIM</td>\n      <td>504</td>\n    </tr>\n    <tr>\n      <th>4</th>\n      <td>DIS</td>\n      <td>412</td>\n    </tr>\n    <tr>\n      <th>5</th>\n      <td>INDUS</td>\n      <td>76</td>\n    </tr>\n    <tr>\n      <th>6</th>\n      <td>LSTAT</td>\n      <td>455</td>\n    </tr>\n    <tr>\n      <th>7</th>\n      <td>MEDV</td>\n      <td>229</td>\n    </tr>\n    <tr>\n      <th>8</th>\n      <td>NOX</td>\n      <td>81</td>\n    </tr>\n    <tr>\n      <th>9</th>\n      <td>PTRATIO</td>\n      <td>46</td>\n    </tr>\n    <tr>\n      <th>10</th>\n      <td>RAD</td>\n      <td>9</td>\n    </tr>\n    <tr>\n      <th>11</th>\n      <td>RM</td>\n      <td>446</td>\n    </tr>\n    <tr>\n      <th>12</th>\n      <td>TAX</td>\n      <td>66</td>\n    </tr>\n    <tr>\n      <th>13</th>\n      <td>ZN</td>\n      <td>26</td>\n    </tr>\n  </tbody>\n</table>\n</div>"
     },
     "execution_count": 11,
     "metadata": {},
     "output_type": "execute_result"
    }
   ],
   "source": [
    "pd.read_sql(\n",
    "    \"\"\"\n",
    "    SELECT 'CRIM' as \"col_name\" , (count(distinct CRIM)) as count_uniq_CRIM    FROM boston\n",
    "    union\n",
    "    SELECT 'ZN' , (count(distinct ZN)) as count_uniq_ZN      FROM boston\n",
    "    union\n",
    "    SELECT 'INDUS' , (count(distinct INDUS)) as count_uniq_INDUS   FROM boston\n",
    "    union\n",
    "    SELECT 'CHAS' , (count(distinct CHAS)) as count_uniq_CHAS    FROM boston\n",
    "    union\n",
    "    SELECT 'NOX' , (count(distinct NOX)) as count_uniq_NOX     FROM boston\n",
    "    union\n",
    "    SELECT 'RM' , (count(distinct RM)) as count_uniq_RM      FROM boston\n",
    "    union\n",
    "    SELECT 'AGE' , (count(distinct AGE)) as count_uniq_AGE     FROM boston\n",
    "    union\n",
    "    SELECT 'DIS' , (count(distinct DIS)) as count_uniq_DIS     FROM boston\n",
    "    union\n",
    "    SELECT 'RAD' , (count(distinct RAD)) as count_uniq_RAD     FROM boston\n",
    "    union\n",
    "    SELECT 'TAX' , (count(distinct TAX)) as count_uniq_TAX     FROM boston\n",
    "    union\n",
    "    SELECT 'PTRATIO' , (count(distinct PTRATIO)) as count_uniq_PTRATIO FROM boston\n",
    "    union\n",
    "    SELECT 'B' , (count(distinct B)) as count_uniq_B       FROM boston\n",
    "    union\n",
    "    SELECT 'LSTAT' , (count(distinct LSTAT)) as count_uniq_LSTAT   FROM boston\n",
    "    union\n",
    "    SELECT 'MEDV' , (count(distinct MEDV)) as count_uniq_MEDV    FROM boston\n",
    "    \"\"\",\n",
    "    con,\n",
    ")"
   ]
  },
  {
   "cell_type": "markdown",
   "metadata": {},
   "source": [
    "3. Выведите колонки, у которых медиана равна минимальному значению (название колонки).\n",
    "Напишите какой вывод можно сделать по данным в этих колонках"
   ]
  },
  {
   "cell_type": "code",
   "execution_count": 12,
   "metadata": {
    "collapsed": true
   },
   "outputs": [
    {
     "data": {
      "text/plain": "      cols\n0  ZN CHAS",
      "text/html": "<div>\n<style scoped>\n    .dataframe tbody tr th:only-of-type {\n        vertical-align: middle;\n    }\n\n    .dataframe tbody tr th {\n        vertical-align: top;\n    }\n\n    .dataframe thead th {\n        text-align: right;\n    }\n</style>\n<table border=\"1\" class=\"dataframe\">\n  <thead>\n    <tr style=\"text-align: right;\">\n      <th></th>\n      <th>cols</th>\n    </tr>\n  </thead>\n  <tbody>\n    <tr>\n      <th>0</th>\n      <td>ZN CHAS</td>\n    </tr>\n  </tbody>\n</table>\n</div>"
     },
     "execution_count": 12,
     "metadata": {},
     "output_type": "execute_result"
    }
   ],
   "source": [
    "pd.read_sql(\n",
    "    \"\"\"\n",
    "    with crim_group as (SELECT\n",
    "                              CRIM   , ntile(2) over (order by CRIM    asc) as CRIM_gr\n",
    "                            , ZN     , ntile(2) over (order by ZN      asc) as ZN_gr\n",
    "                            , INDUS  , ntile(2) over (order by INDUS   asc) as INDUS_gr\n",
    "                            , CHAS   , ntile(2) over (order by CHAS    asc) as CHAS_gr\n",
    "                            , NOX    , ntile(2) over (order by NOX     asc) as NOX_gr\n",
    "                            , RM     , ntile(2) over (order by RM      asc) as RM_gr\n",
    "                            , AGE    , ntile(2) over (order by AGE     asc) as AGE_gr\n",
    "                            , DIS    , ntile(2) over (order by DIS     asc) as DIS_gr\n",
    "                            , RAD    , ntile(2) over (order by RAD     asc) as RAD_gr\n",
    "                            , TAX    , ntile(2) over (order by TAX     asc) as TAX_gr\n",
    "                            , PTRATIO, ntile(2) over (order by PTRATIO asc) as PTRATIO_gr\n",
    "                            , B      , ntile(2) over (order by B       asc) as B_gr\n",
    "                            , LSTAT  , ntile(2) over (order by LSTAT   asc) as LSTAT_gr\n",
    "                            , MEDV   , ntile(2) over (order by MEDV    asc) as MEDV_gr\n",
    "                        FROM boston)\n",
    "    select\n",
    "        trim (case when (min(CRIM   ) over(order by CRIM    asc)) = (((max(CRIM   ) filter(where CRIM_gr    = 1) over ()) + (min(CRIM   ) filter(where CRIM_gr    = 2) over ()))/2.0) then 'CRIM ' else '' end\n",
    "        || case when (min(ZN     ) over(order by ZN      asc)) = (((max(ZN     ) filter(where ZN_gr      = 1) over ()) + (min(ZN     ) filter(where ZN_gr      = 2) over ()))/2.0) then 'ZN ' else '' end\n",
    "        || case when (min(INDUS  ) over(order by INDUS   asc)) = (((max(INDUS  ) filter(where INDUS_gr   = 1) over ()) + (min(INDUS  ) filter(where INDUS_gr   = 2) over ()))/2.0) then 'INDUS ' else '' end\n",
    "        || case when (min(CHAS   ) over(order by CHAS    asc)) = (((max(CHAS   ) filter(where CHAS_gr    = 1) over ()) + (min(CHAS   ) filter(where CHAS_gr    = 2) over ()))/2.0) then 'CHAS ' else '' end\n",
    "        || case when (min(NOX    ) over(order by NOX     asc)) = (((max(NOX    ) filter(where NOX_gr     = 1) over ()) + (min(NOX    ) filter(where NOX_gr     = 2) over ()))/2.0) then 'NOX ' else '' end\n",
    "        || case when (min(RM     ) over(order by RM      asc)) = (((max(RM     ) filter(where RM_gr      = 1) over ()) + (min(RM     ) filter(where RM_gr      = 2) over ()))/2.0) then 'RM ' else '' end\n",
    "        || case when (min(AGE    ) over(order by AGE     asc)) = (((max(AGE    ) filter(where AGE_gr     = 1) over ()) + (min(AGE    ) filter(where AGE_gr     = 2) over ()))/2.0) then 'AGE ' else '' end\n",
    "        || case when (min(DIS    ) over(order by DIS     asc)) = (((max(DIS    ) filter(where DIS_gr     = 1) over ()) + (min(DIS    ) filter(where DIS_gr     = 2) over ()))/2.0) then 'DIS ' else '' end\n",
    "        || case when (min(RAD    ) over(order by RAD     asc)) = (((max(RAD    ) filter(where RAD_gr     = 1) over ()) + (min(RAD    ) filter(where RAD_gr     = 2) over ()))/2.0) then 'RAD ' else '' end\n",
    "        || case when (min(TAX    ) over(order by TAX     asc)) = (((max(TAX    ) filter(where TAX_gr     = 1) over ()) + (min(TAX    ) filter(where TAX_gr     = 2) over ()))/2.0) then 'TAX ' else '' end\n",
    "        || case when (min(PTRATIO) over(order by PTRATIO asc)) = (((max(PTRATIO) filter(where PTRATIO_gr = 1) over ()) + (min(PTRATIO) filter(where PTRATIO_gr = 2) over ()))/2.0) then 'PTRATIO ' else '' end\n",
    "        || case when (min(B      ) over(order by B       asc)) = (((max(B      ) filter(where B_gr       = 1) over ()) + (min(B      ) filter(where B_gr       = 2) over ()))/2.0) then 'B ' else '' end\n",
    "        || case when (min(LSTAT  ) over(order by LSTAT   asc)) = (((max(LSTAT  ) filter(where LSTAT_gr   = 1) over ()) + (min(LSTAT  ) filter(where LSTAT_gr   = 2) over ()))/2.0) then 'LSTAT ' else '' end\n",
    "        || case when (min(MEDV   ) over(order by MEDV    asc)) = (((max(MEDV   ) filter(where MEDV_gr    = 1) over ()) + (min(MEDV   ) filter(where MEDV_gr    = 2) over ()))/2.0) then 'MEDV ' else '' end) as 'cols'\n",
    "    from\n",
    "        crim_group\n",
    "    limit 1\n",
    "    \"\"\",\n",
    "    con,\n",
    ")"
   ]
  },
  {
   "cell_type": "markdown",
   "metadata": {},
   "source": [
    "4. Выведите разницу между среднем количеством комнат(RM) в домах с самой дорогой стоимостью(MEDV) и 25 самыми дешевыми домами. \n",
    "Аналогично по 50, 100, 200, 300 самыми дешевыми домами. (кол-во домов(25,50,100,200,300), среднее кол-во комнат в них, среднее кол-во комнат в самых дорогих, разница).\n",
    "Напишите влияет ли кол-во комнат на стоимость и как сильно."
   ]
  },
  {
   "cell_type": "code",
   "execution_count": 13,
   "outputs": [
    {
     "data": {
      "text/plain": "     delta\n0  1.73616",
      "text/html": "<div>\n<style scoped>\n    .dataframe tbody tr th:only-of-type {\n        vertical-align: middle;\n    }\n\n    .dataframe tbody tr th {\n        vertical-align: top;\n    }\n\n    .dataframe thead th {\n        text-align: right;\n    }\n</style>\n<table border=\"1\" class=\"dataframe\">\n  <thead>\n    <tr style=\"text-align: right;\">\n      <th></th>\n      <th>delta</th>\n    </tr>\n  </thead>\n  <tbody>\n    <tr>\n      <th>0</th>\n      <td>1.73616</td>\n    </tr>\n  </tbody>\n</table>\n</div>"
     },
     "execution_count": 13,
     "metadata": {},
     "output_type": "execute_result"
    }
   ],
   "source": [
    "pd.read_sql(\n",
    "    \"\"\"\n",
    "    with avg_rm_min_25_medv as (select avg(rm) min_avg_rm from (SELECT rm, row_number() over (order by medv asc) as rn FROM boston limit 25))\n",
    "    , boston_max_medv as (select max(medv) over () as max_medv from boston limit 1)\n",
    "    select\n",
    "        avg(rm) - min_avg_rm as delta\n",
    "    from boston, avg_rm_min_25_medv, boston_max_medv\n",
    "    where medv = max_medv\n",
    "    \"\"\",\n",
    "    con,\n",
    ")"
   ],
   "metadata": {
    "collapsed": false,
    "pycharm": {
     "name": "#%%\n"
    }
   }
  },
  {
   "cell_type": "markdown",
   "metadata": {},
   "source": [
    "5. Выведите ранги значений колонки LSTAT(процент населения с более низким статусом) в домах с самой дорогой стоимостью (значение LSTAT, стоимость, ранг). Напишите какой вывод можно сделать по этим данным."
   ]
  },
  {
   "cell_type": "code",
   "execution_count": 14,
   "metadata": {
    "collapsed": true
   },
   "outputs": [
    {
     "data": {
      "text/plain": "    medv  lstat  lstat_rank\n0   50.0   1.73           1\n1   50.0   1.92           2\n2   50.0   2.88           6\n3   50.0   2.96           8\n4   50.0   2.97           9\n5   50.0   3.16          15\n6   50.0   3.26          17\n7   50.0   3.32          18\n8   50.0   3.70          26\n9   50.0   3.73          27\n10  50.0   4.45          41\n11  50.0   4.63          50\n12  50.0   5.12          67\n13  50.0   7.44         141\n14  50.0   8.88         181\n15  50.0   9.53         203",
      "text/html": "<div>\n<style scoped>\n    .dataframe tbody tr th:only-of-type {\n        vertical-align: middle;\n    }\n\n    .dataframe tbody tr th {\n        vertical-align: top;\n    }\n\n    .dataframe thead th {\n        text-align: right;\n    }\n</style>\n<table border=\"1\" class=\"dataframe\">\n  <thead>\n    <tr style=\"text-align: right;\">\n      <th></th>\n      <th>medv</th>\n      <th>lstat</th>\n      <th>lstat_rank</th>\n    </tr>\n  </thead>\n  <tbody>\n    <tr>\n      <th>0</th>\n      <td>50.0</td>\n      <td>1.73</td>\n      <td>1</td>\n    </tr>\n    <tr>\n      <th>1</th>\n      <td>50.0</td>\n      <td>1.92</td>\n      <td>2</td>\n    </tr>\n    <tr>\n      <th>2</th>\n      <td>50.0</td>\n      <td>2.88</td>\n      <td>6</td>\n    </tr>\n    <tr>\n      <th>3</th>\n      <td>50.0</td>\n      <td>2.96</td>\n      <td>8</td>\n    </tr>\n    <tr>\n      <th>4</th>\n      <td>50.0</td>\n      <td>2.97</td>\n      <td>9</td>\n    </tr>\n    <tr>\n      <th>5</th>\n      <td>50.0</td>\n      <td>3.16</td>\n      <td>15</td>\n    </tr>\n    <tr>\n      <th>6</th>\n      <td>50.0</td>\n      <td>3.26</td>\n      <td>17</td>\n    </tr>\n    <tr>\n      <th>7</th>\n      <td>50.0</td>\n      <td>3.32</td>\n      <td>18</td>\n    </tr>\n    <tr>\n      <th>8</th>\n      <td>50.0</td>\n      <td>3.70</td>\n      <td>26</td>\n    </tr>\n    <tr>\n      <th>9</th>\n      <td>50.0</td>\n      <td>3.73</td>\n      <td>27</td>\n    </tr>\n    <tr>\n      <th>10</th>\n      <td>50.0</td>\n      <td>4.45</td>\n      <td>41</td>\n    </tr>\n    <tr>\n      <th>11</th>\n      <td>50.0</td>\n      <td>4.63</td>\n      <td>50</td>\n    </tr>\n    <tr>\n      <th>12</th>\n      <td>50.0</td>\n      <td>5.12</td>\n      <td>67</td>\n    </tr>\n    <tr>\n      <th>13</th>\n      <td>50.0</td>\n      <td>7.44</td>\n      <td>141</td>\n    </tr>\n    <tr>\n      <th>14</th>\n      <td>50.0</td>\n      <td>8.88</td>\n      <td>181</td>\n    </tr>\n    <tr>\n      <th>15</th>\n      <td>50.0</td>\n      <td>9.53</td>\n      <td>203</td>\n    </tr>\n  </tbody>\n</table>\n</div>"
     },
     "execution_count": 14,
     "metadata": {},
     "output_type": "execute_result"
    }
   ],
   "source": [
    "pd.read_sql(\n",
    "    \"\"\"\n",
    "    select * from (SELECT\n",
    "        medv\n",
    "        , lstat\n",
    "        , rank() over (order by lstat asc) as lstat_rank\n",
    "    FROM boston)\n",
    "    where 1=1\n",
    "        and medv = (select max(medv) from boston)\n",
    "    --limit 5\n",
    "    \"\"\",\n",
    "    con,\n",
    ") "
   ]
  },
  {
   "cell_type": "markdown",
   "source": [
    "## Вывод.\n",
    "Процент более низкого статуса населения среди самого дорого жилья в общей статистике не превышает 10%"
   ],
   "metadata": {
    "collapsed": false
   }
  },
  {
   "cell_type": "markdown",
   "metadata": {},
   "source": [
    "6. Выведите среднюю стоимость домов граничащих с рекой(CHAS) и нет (граничит/не граничит, стоимость)"
   ]
  },
  {
   "cell_type": "code",
   "execution_count": 15,
   "metadata": {},
   "outputs": [
    {
     "data": {
      "text/plain": "   CHAS  avg_medv_by_chas\n0   0.0         22.093843\n1   1.0         28.440000",
      "text/html": "<div>\n<style scoped>\n    .dataframe tbody tr th:only-of-type {\n        vertical-align: middle;\n    }\n\n    .dataframe tbody tr th {\n        vertical-align: top;\n    }\n\n    .dataframe thead th {\n        text-align: right;\n    }\n</style>\n<table border=\"1\" class=\"dataframe\">\n  <thead>\n    <tr style=\"text-align: right;\">\n      <th></th>\n      <th>CHAS</th>\n      <th>avg_medv_by_chas</th>\n    </tr>\n  </thead>\n  <tbody>\n    <tr>\n      <th>0</th>\n      <td>0.0</td>\n      <td>22.093843</td>\n    </tr>\n    <tr>\n      <th>1</th>\n      <td>1.0</td>\n      <td>28.440000</td>\n    </tr>\n  </tbody>\n</table>\n</div>"
     },
     "execution_count": 15,
     "metadata": {},
     "output_type": "execute_result"
    }
   ],
   "source": [
    "pd.read_sql(\n",
    "    '''\n",
    "    SELECT distinct\n",
    "        chas\n",
    "        , avg(medv) over(partition by chas) as avg_medv_by_chas\n",
    "    FROM boston\n",
    "    ''',\n",
    "    con,\n",
    ")"
   ]
  },
  {
   "cell_type": "markdown",
   "metadata": {},
   "source": [
    "7. Выведите все колонки, у которых среднее значение выше, когда дом граничит с рекой (название колонки). Напишите какой вывод можно сделать по этим данным."
   ]
  },
  {
   "cell_type": "code",
   "execution_count": 16,
   "metadata": {
    "collapsed": true
   },
   "outputs": [
    {
     "data": {
      "text/plain": "                           cols\n0  AGE, B, INDUS, MEDV, NOX, RM",
      "text/html": "<div>\n<style scoped>\n    .dataframe tbody tr th:only-of-type {\n        vertical-align: middle;\n    }\n\n    .dataframe tbody tr th {\n        vertical-align: top;\n    }\n\n    .dataframe thead th {\n        text-align: right;\n    }\n</style>\n<table border=\"1\" class=\"dataframe\">\n  <thead>\n    <tr style=\"text-align: right;\">\n      <th></th>\n      <th>cols</th>\n    </tr>\n  </thead>\n  <tbody>\n    <tr>\n      <th>0</th>\n      <td>AGE, B, INDUS, MEDV, NOX, RM</td>\n    </tr>\n  </tbody>\n</table>\n</div>"
     },
     "execution_count": 16,
     "metadata": {},
     "output_type": "execute_result"
    }
   ],
   "source": [
    "pd.read_sql(\n",
    "    \"\"\"\n",
    "        SELECT group_concat(col_name, ', ') as cols from (\n",
    "            select 'CRIM' as col_name, (avg(CRIM) filter (where chas = 1.0) over()) - (avg(CRIM) filter (where chas = 0.0) over()) as avg_by_chas from boston union\n",
    "            select 'ZN' as col_name, (avg(ZN) filter (where chas = 1.0) over()) - (avg(ZN) filter (where chas = 0.0) over()) as avg_by_chas from boston union\n",
    "            select 'INDUS' as col_name, (avg(INDUS) filter (where chas = 1.0) over()) - (avg(INDUS) filter (where chas = 0.0) over()) as avg_by_chas from boston union\n",
    "            select 'NOX' as col_name, (avg(NOX) filter (where chas = 1.0) over()) - (avg(NOX) filter (where chas = 0.0) over()) as avg_by_chas from boston union\n",
    "            select 'RM' as col_name, (avg(RM) filter (where chas = 1.0) over()) - (avg(RM) filter (where chas = 0.0) over()) as avg_by_chas from boston union\n",
    "            select 'AGE' as col_name, (avg(AGE) filter (where chas = 1.0) over()) - (avg(AGE) filter (where chas = 0.0) over()) as avg_by_chas from boston union\n",
    "            select 'DIS' as col_name, (avg(DIS) filter (where chas = 1.0) over()) - (avg(DIS) filter (where chas = 0.0) over()) as avg_by_chas from boston union\n",
    "            select 'RAD' as col_name, (avg(RAD) filter (where chas = 1.0) over()) - (avg(RAD) filter (where chas = 0.0) over()) as avg_by_chas from boston union\n",
    "            select 'TAX' as col_name, (avg(TAX) filter (where chas = 1.0) over()) - (avg(TAX) filter (where chas = 0.0) over()) as avg_by_chas from boston union\n",
    "            select 'PTRATIO' as col_name, (avg(PTRATIO) filter (where chas = 1.0) over()) - (avg(PTRATIO) filter (where chas = 0.0) over()) as avg_by_chas from boston union\n",
    "            select 'B' as col_name, (avg(B) filter (where chas = 1.0) over()) - (avg(B) filter (where chas = 0.0) over()) as avg_by_chas from boston union\n",
    "            select 'LSTAT' as col_name, (avg(LSTAT) filter (where chas = 1.0) over()) - (avg(LSTAT) filter (where chas = 0.0) over()) as avg_by_chas from boston union\n",
    "            select 'MEDV' as col_name, (avg(MEDV) filter (where chas = 1.0) over()) - (avg(MEDV) filter (where chas = 0.0) over()) as avg_by_chas from boston\n",
    "            ) boston_avg\n",
    "        where\n",
    "            avg_by_chas > 0\n",
    "    \"\"\",\n",
    "    con,\n",
    ")"
   ]
  },
  {
   "cell_type": "markdown",
   "source": [
    "### Вывод:\n",
    "Доля жилых домов, построенных до 1940 года больше у тех, которые находятся возле реки, что вполне логично, так как застройка городов на ранних этапах производится по мере удаления от реки.\n",
    "При этом доля афроамериканцев, проживающих в домах возле реки больше.\n",
    "А также доля земли под нежилой сектор ближе к реке, а соответственно к центру города.\n",
    "Из-за этого и средняя стоимость жилья выше, так как центр. Из-за центра и выбросы углекислого газа выше.\n",
    "Выше так же отмечается среднее количество комнат в квартире."
   ],
   "metadata": {
    "collapsed": false
   }
  },
  {
   "cell_type": "markdown",
   "metadata": {},
   "source": [
    "8. Выведите значения долей промышленной застройки(INDUS), концентрации оксидов азота(NOX) и по их перцентилям - 10, 20 ... 100 ( перцетиль(10,20...100),значение INDUS, значение NOX). Напишите прослеживается ли между ними взаимосвязь"
   ]
  },
  {
   "cell_type": "code",
   "execution_count": 17,
   "metadata": {
    "collapsed": true
   },
   "outputs": [
    {
     "data": {
      "text/plain": "   percentile  nox_percentile  indus_percentile\n0          10         20.7923            102.82\n1          20         42.9341            288.73\n2          30         66.0597            556.29\n3          40         91.2107            886.35\n4          50        117.7367           1307.41\n5          60        145.7087           1855.62\n6          70        175.2807           2717.91\n7          80        206.9577           3622.91\n8          90        241.6607           4538.27\n9         100        280.6757           5635.21",
      "text/html": "<div>\n<style scoped>\n    .dataframe tbody tr th:only-of-type {\n        vertical-align: middle;\n    }\n\n    .dataframe tbody tr th {\n        vertical-align: top;\n    }\n\n    .dataframe thead th {\n        text-align: right;\n    }\n</style>\n<table border=\"1\" class=\"dataframe\">\n  <thead>\n    <tr style=\"text-align: right;\">\n      <th></th>\n      <th>percentile</th>\n      <th>nox_percentile</th>\n      <th>indus_percentile</th>\n    </tr>\n  </thead>\n  <tbody>\n    <tr>\n      <th>0</th>\n      <td>10</td>\n      <td>20.7923</td>\n      <td>102.82</td>\n    </tr>\n    <tr>\n      <th>1</th>\n      <td>20</td>\n      <td>42.9341</td>\n      <td>288.73</td>\n    </tr>\n    <tr>\n      <th>2</th>\n      <td>30</td>\n      <td>66.0597</td>\n      <td>556.29</td>\n    </tr>\n    <tr>\n      <th>3</th>\n      <td>40</td>\n      <td>91.2107</td>\n      <td>886.35</td>\n    </tr>\n    <tr>\n      <th>4</th>\n      <td>50</td>\n      <td>117.7367</td>\n      <td>1307.41</td>\n    </tr>\n    <tr>\n      <th>5</th>\n      <td>60</td>\n      <td>145.7087</td>\n      <td>1855.62</td>\n    </tr>\n    <tr>\n      <th>6</th>\n      <td>70</td>\n      <td>175.2807</td>\n      <td>2717.91</td>\n    </tr>\n    <tr>\n      <th>7</th>\n      <td>80</td>\n      <td>206.9577</td>\n      <td>3622.91</td>\n    </tr>\n    <tr>\n      <th>8</th>\n      <td>90</td>\n      <td>241.6607</td>\n      <td>4538.27</td>\n    </tr>\n    <tr>\n      <th>9</th>\n      <td>100</td>\n      <td>280.6757</td>\n      <td>5635.21</td>\n    </tr>\n  </tbody>\n</table>\n</div>"
     },
     "execution_count": 17,
     "metadata": {},
     "output_type": "execute_result"
    }
   ],
   "source": [
    "pd.read_sql(\n",
    "    \"\"\"\n",
    "    select a.*, b.indus_percentile from\n",
    "        (\n",
    "            with bost_ntile as (\n",
    "                        SELECT\n",
    "                            nox, ntile(10) over(order by nox)  as part_nox\n",
    "                        FROM\n",
    "                            boston\n",
    "                    )\n",
    "            select\n",
    "                part_nox*10 as percentile\n",
    "                , sum(sum(nox)) over(rows between unbounded preceding and current row) as nox_percentile\n",
    "            from\n",
    "                bost_ntile\n",
    "            group by part_nox\n",
    "        ) a join  (\n",
    "             with bost_ntile as (\n",
    "                        SELECT\n",
    "                            indus, ntile(10) over(order by indus)  as part_indus\n",
    "                        FROM\n",
    "                            boston\n",
    "                    )\n",
    "            select\n",
    "                part_indus*10 as percentile\n",
    "                , sum(sum(indus)) over(rows between unbounded preceding and current row) as indus_percentile\n",
    "            from\n",
    "                bost_ntile\n",
    "            group by part_indus\n",
    "        ) b on b.percentile = a.percentile\n",
    "    \"\"\",\n",
    "    con,\n",
    ")"
   ]
  },
  {
   "cell_type": "markdown",
   "source": [
    "## Вывод\n",
    "С ростом доли акров неторгового бизнеса растут и выбросы углекислого газа в атмосферу, но рост при этом разный, нет прямой пропорциональной зависимости."
   ],
   "metadata": {
    "collapsed": false
   }
  },
  {
   "cell_type": "raw",
   "metadata": {
    "pycharm": {
     "name": "#%% raw\n"
    }
   },
   "source": [
    "CRIM - уровень преступности на душу населения\n",
    "ZN - доля земель под жилую застройку зонирована под участки площадью более 25 000 кв. футов.\n",
    "INDUS - доля акров неторгового бизнеса на город.\n",
    "CHAS - 1, если граничит с рекой, 0 иначе\n",
    "NOX - концентрация оксидов азота (частей на 10 миллионов)\n",
    "RM - среднее количество комнат в квартире\n",
    "AGE - доля жилых домов, построенных до 1940 г.\n",
    "DIS - взвешенные расстояния до пяти центров занятости Бостона\n",
    "RAD - индекс доступности к радиальным магистралям\n",
    "TAX - полиная ставка налога на имущество за 10 000 долларов США\n",
    "PTRATIO - соотношене учеников и учителей по городам\n",
    "B - 1000(Bk - 0.63)^2, где Bk доля чернокожих людей по городам\n",
    "LSTAT - % более низкого статуса населения\n",
    "MEDV - Средняя стоимость домов в 1000 долларов."
   ]
  }
 ],
 "metadata": {
  "kernelspec": {
   "display_name": "PyCharm (School_DA)",
   "language": "python",
   "name": "pycharm-bd65638c"
  },
  "language_info": {
   "codemirror_mode": {
    "name": "ipython",
    "version": 3
   },
   "file_extension": ".py",
   "mimetype": "text/x-python",
   "name": "python",
   "nbconvert_exporter": "python",
   "pygments_lexer": "ipython3",
   "version": "3.6.1"
  }
 },
 "nbformat": 4,
 "nbformat_minor": 4
}