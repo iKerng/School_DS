{
 "cells": [
  {
   "cell_type": "markdown",
   "metadata": {},
   "source": [
    "# Задание\n",
    "* Собрать информацию о всех строящихся объектах на сайте \"наш.дом.рф\"\n",
    "* Cохранить ее в pandas dataframe\n",
    "* Cохранить pandas dataframe в excel\n",
    "* Cохранить pandas dataframe в pickle\n",
    "* Cохранить pandas dataframe в БД\n",
    "\n",
    "# Задание *\n",
    "* Написать скрипт, который скачивает фотографии всех строящихся объектов с сайта \"наш.дом.рф\"\n"
   ]
  },
  {
   "cell_type": "code",
   "execution_count": 1,
   "outputs": [],
   "source": [
    "import pandas as pd\n",
    "import requests as rq\n",
    "import tqdm\n",
    "import time\n",
    "import os\n",
    "import sqlite3 as sql"
   ],
   "metadata": {
    "collapsed": false,
    "pycharm": {
     "name": "#%%\n"
    }
   }
  },
  {
   "cell_type": "code",
   "execution_count": 2,
   "metadata": {
    "collapsed": true
   },
   "outputs": [],
   "source": [
    "page = 0\n",
    "limit = 10\n",
    "offset = 0\n",
    "id_object = 0\n",
    "http_rq_list_objects = f'https://xn--80az8a.xn--d1aqf.xn--p1ai/%D1%81%D0%B5%D1%80%D0%B2%D0%B8%D1%81%D1%8B/api/kn/object?offset={offset}&page={page}&limit={limit}&sortField=devId.devShortCleanNm&sortType=asc&objStatus=0'\n",
    "http_rq_object = 'https://наш.дом.рф/%D1%81%D0%B5%D1%80%D0%B2%D0%B8%D1%81%D1%8B/api/object/'"
   ]
  },
  {
   "cell_type": "code",
   "execution_count": 3,
   "metadata": {
    "pycharm": {
     "name": "#%%\n"
    }
   },
   "outputs": [],
   "source": [
    "req = rq.get(http_rq_list_objects)"
   ]
  },
  {
   "cell_type": "code",
   "execution_count": 4,
   "metadata": {
    "pycharm": {
     "name": "#%%\n"
    }
   },
   "outputs": [],
   "source": [
    "json_resp = req.json()"
   ]
  },
  {
   "cell_type": "code",
   "execution_count": 5,
   "metadata": {
    "pycharm": {
     "name": "#%%\n"
    }
   },
   "outputs": [
    {
     "name": "stdout",
     "output_type": "stream",
     "text": [
      "Всего записей: 10095\n",
      "Количество необходимых итераций: 11\n"
     ]
    }
   ],
   "source": [
    "total = req.json().get('data').get('total')\n",
    "print('Всего записей: ' + str(total))\n",
    "limit = 1000\n",
    "count_iter = total//limit\n",
    "if total%limit > 0: count_iter = count_iter + 1\n",
    "print('Количество необходимых итераций: ' + str(count_iter))"
   ]
  },
  {
   "cell_type": "code",
   "execution_count": 6,
   "metadata": {
    "pycharm": {
     "name": "#%%\n"
    }
   },
   "outputs": [
    {
     "name": "stdout",
     "output_type": "stream",
     "text": [
      "Получаем список объектов со страницы 1:     Объектов на этой странице 1000\n",
      "Получаем список объектов со страницы 2:     Объектов на этой странице 1000\n",
      "Получаем список объектов со страницы 3:     Объектов на этой странице 1000\n",
      "Получаем список объектов со страницы 4:     Объектов на этой странице 1000\n",
      "Получаем список объектов со страницы 5:     Объектов на этой странице 1000\n",
      "Получаем список объектов со страницы 6:     Объектов на этой странице 1000\n",
      "Получаем список объектов со страницы 7:     Объектов на этой странице 1000\n",
      "Получаем список объектов со страницы 8:     Объектов на этой странице 1000\n",
      "Получаем список объектов со страницы 9:     Объектов на этой странице 1000\n",
      "Получаем список объектов со страницы 10:     Объектов на этой странице 1000\n",
      "Получаем список объектов со страницы 11:     Объектов на этой странице 95\n"
     ]
    }
   ],
   "source": [
    "list_id_objects = []\n",
    "for page_iter in range(count_iter):\n",
    "    print('Получаем список объектов со страницы ' + str(page_iter+1), end=': ')\n",
    "    offset = len(list_id_objects)\n",
    "    http_rq_list_objects = f'https://xn--80az8a.xn--d1aqf.xn--p1ai/%D1%81%D0%B5%D1%80%D0%B2%D0%B8%D1%81%D1%8B/api/kn/object?page={page_iter}&offset={offset}&limit={limit}&sortField=devId.devShortCleanNm&sortType=asc&objStatus=0'\n",
    "    # print('    ' + http_rq_list_objects)\n",
    "    req_page_iter = rq.get(http_rq_list_objects)\n",
    "    json_req_page_iter = req_page_iter.json()\n",
    "    if json_req_page_iter.get('errcode') != str(0):\n",
    "        print(json_req_page_iter.get('errcode'))\n",
    "        break\n",
    "    count_objects = len(json_req_page_iter.get('data').get('list'))\n",
    "    print('    Объектов на этой странице ' + str(count_objects))\n",
    "    for iter_objects in range(count_objects):\n",
    "        list_id_objects.append((json_req_page_iter.get('data').get('list')[iter_objects]).get('objId'))\n",
    "list_id_objects = list(set(list_id_objects))"
   ]
  },
  {
   "cell_type": "code",
   "execution_count": 7,
   "metadata": {
    "pycharm": {
     "name": "#%%\n"
    }
   },
   "outputs": [
    {
     "name": "stderr",
     "output_type": "stream",
     "text": [
      " 11%|█         | 1071/10093 [08:09<1:08:40,  2.19it/s]\n"
     ]
    },
    {
     "ename": "ConnectionError",
     "evalue": "HTTPSConnectionPool(host='xn--80az8a.xn--d1aqf.xn--p1ai', port=443): Max retries exceeded with url: /%D1%81%D0%B5%D1%80%D0%B2%D0%B8%D1%81%D1%8B/api/object/36198 (Caused by NewConnectionError('<requests.packages.urllib3.connection.VerifiedHTTPSConnection object at 0x000002557FCA1048>: Failed to establish a new connection: [WinError 10060] Попытка установить соединение была безуспешной, т.к. от другого компьютера за требуемое время не получен нужный отклик, или было разорвано уже установленное соединение из-за неверного отклика уже подключенного компьютера',))",
     "output_type": "error",
     "traceback": [
      "\u001B[1;31m---------------------------------------------------------------------------\u001B[0m",
      "\u001B[1;31mTimeoutError\u001B[0m                              Traceback (most recent call last)",
      "\u001B[1;32mC:\\Program Files\\Anaconda3\\lib\\site-packages\\requests\\packages\\urllib3\\connection.py\u001B[0m in \u001B[0;36m_new_conn\u001B[1;34m(self)\u001B[0m\n\u001B[0;32m    140\u001B[0m             conn = connection.create_connection(\n\u001B[1;32m--> 141\u001B[1;33m                 (self.host, self.port), self.timeout, **extra_kw)\n\u001B[0m\u001B[0;32m    142\u001B[0m \u001B[1;33m\u001B[0m\u001B[0m\n",
      "\u001B[1;32mC:\\Program Files\\Anaconda3\\lib\\site-packages\\requests\\packages\\urllib3\\util\\connection.py\u001B[0m in \u001B[0;36mcreate_connection\u001B[1;34m(address, timeout, source_address, socket_options)\u001B[0m\n\u001B[0;32m     82\u001B[0m     \u001B[1;32mif\u001B[0m \u001B[0merr\u001B[0m \u001B[1;32mis\u001B[0m \u001B[1;32mnot\u001B[0m \u001B[1;32mNone\u001B[0m\u001B[1;33m:\u001B[0m\u001B[1;33m\u001B[0m\u001B[0m\n\u001B[1;32m---> 83\u001B[1;33m         \u001B[1;32mraise\u001B[0m \u001B[0merr\u001B[0m\u001B[1;33m\u001B[0m\u001B[0m\n\u001B[0m\u001B[0;32m     84\u001B[0m \u001B[1;33m\u001B[0m\u001B[0m\n",
      "\u001B[1;32mC:\\Program Files\\Anaconda3\\lib\\site-packages\\requests\\packages\\urllib3\\util\\connection.py\u001B[0m in \u001B[0;36mcreate_connection\u001B[1;34m(address, timeout, source_address, socket_options)\u001B[0m\n\u001B[0;32m     72\u001B[0m                 \u001B[0msock\u001B[0m\u001B[1;33m.\u001B[0m\u001B[0mbind\u001B[0m\u001B[1;33m(\u001B[0m\u001B[0msource_address\u001B[0m\u001B[1;33m)\u001B[0m\u001B[1;33m\u001B[0m\u001B[0m\n\u001B[1;32m---> 73\u001B[1;33m             \u001B[0msock\u001B[0m\u001B[1;33m.\u001B[0m\u001B[0mconnect\u001B[0m\u001B[1;33m(\u001B[0m\u001B[0msa\u001B[0m\u001B[1;33m)\u001B[0m\u001B[1;33m\u001B[0m\u001B[0m\n\u001B[0m\u001B[0;32m     74\u001B[0m             \u001B[1;32mreturn\u001B[0m \u001B[0msock\u001B[0m\u001B[1;33m\u001B[0m\u001B[0m\n",
      "\u001B[1;31mTimeoutError\u001B[0m: [WinError 10060] Попытка установить соединение была безуспешной, т.к. от другого компьютера за требуемое время не получен нужный отклик, или было разорвано уже установленное соединение из-за неверного отклика уже подключенного компьютера",
      "\nDuring handling of the above exception, another exception occurred:\n",
      "\u001B[1;31mNewConnectionError\u001B[0m                        Traceback (most recent call last)",
      "\u001B[1;32mC:\\Program Files\\Anaconda3\\lib\\site-packages\\requests\\packages\\urllib3\\connectionpool.py\u001B[0m in \u001B[0;36murlopen\u001B[1;34m(self, method, url, body, headers, retries, redirect, assert_same_host, timeout, pool_timeout, release_conn, chunked, body_pos, **response_kw)\u001B[0m\n\u001B[0;32m    599\u001B[0m                                                   \u001B[0mbody\u001B[0m\u001B[1;33m=\u001B[0m\u001B[0mbody\u001B[0m\u001B[1;33m,\u001B[0m \u001B[0mheaders\u001B[0m\u001B[1;33m=\u001B[0m\u001B[0mheaders\u001B[0m\u001B[1;33m,\u001B[0m\u001B[1;33m\u001B[0m\u001B[0m\n\u001B[1;32m--> 600\u001B[1;33m                                                   chunked=chunked)\n\u001B[0m\u001B[0;32m    601\u001B[0m \u001B[1;33m\u001B[0m\u001B[0m\n",
      "\u001B[1;32mC:\\Program Files\\Anaconda3\\lib\\site-packages\\requests\\packages\\urllib3\\connectionpool.py\u001B[0m in \u001B[0;36m_make_request\u001B[1;34m(self, conn, method, url, timeout, chunked, **httplib_request_kw)\u001B[0m\n\u001B[0;32m    344\u001B[0m         \u001B[1;32mtry\u001B[0m\u001B[1;33m:\u001B[0m\u001B[1;33m\u001B[0m\u001B[0m\n\u001B[1;32m--> 345\u001B[1;33m             \u001B[0mself\u001B[0m\u001B[1;33m.\u001B[0m\u001B[0m_validate_conn\u001B[0m\u001B[1;33m(\u001B[0m\u001B[0mconn\u001B[0m\u001B[1;33m)\u001B[0m\u001B[1;33m\u001B[0m\u001B[0m\n\u001B[0m\u001B[0;32m    346\u001B[0m         \u001B[1;32mexcept\u001B[0m \u001B[1;33m(\u001B[0m\u001B[0mSocketTimeout\u001B[0m\u001B[1;33m,\u001B[0m \u001B[0mBaseSSLError\u001B[0m\u001B[1;33m)\u001B[0m \u001B[1;32mas\u001B[0m \u001B[0me\u001B[0m\u001B[1;33m:\u001B[0m\u001B[1;33m\u001B[0m\u001B[0m\n",
      "\u001B[1;32mC:\\Program Files\\Anaconda3\\lib\\site-packages\\requests\\packages\\urllib3\\connectionpool.py\u001B[0m in \u001B[0;36m_validate_conn\u001B[1;34m(self, conn)\u001B[0m\n\u001B[0;32m    843\u001B[0m         \u001B[1;32mif\u001B[0m \u001B[1;32mnot\u001B[0m \u001B[0mgetattr\u001B[0m\u001B[1;33m(\u001B[0m\u001B[0mconn\u001B[0m\u001B[1;33m,\u001B[0m \u001B[1;34m'sock'\u001B[0m\u001B[1;33m,\u001B[0m \u001B[1;32mNone\u001B[0m\u001B[1;33m)\u001B[0m\u001B[1;33m:\u001B[0m  \u001B[1;31m# AppEngine might not have  `.sock`\u001B[0m\u001B[1;33m\u001B[0m\u001B[0m\n\u001B[1;32m--> 844\u001B[1;33m             \u001B[0mconn\u001B[0m\u001B[1;33m.\u001B[0m\u001B[0mconnect\u001B[0m\u001B[1;33m(\u001B[0m\u001B[1;33m)\u001B[0m\u001B[1;33m\u001B[0m\u001B[0m\n\u001B[0m\u001B[0;32m    845\u001B[0m \u001B[1;33m\u001B[0m\u001B[0m\n",
      "\u001B[1;32mC:\\Program Files\\Anaconda3\\lib\\site-packages\\requests\\packages\\urllib3\\connection.py\u001B[0m in \u001B[0;36mconnect\u001B[1;34m(self)\u001B[0m\n\u001B[0;32m    283\u001B[0m         \u001B[1;31m# Add certificate verification\u001B[0m\u001B[1;33m\u001B[0m\u001B[1;33m\u001B[0m\u001B[0m\n\u001B[1;32m--> 284\u001B[1;33m         \u001B[0mconn\u001B[0m \u001B[1;33m=\u001B[0m \u001B[0mself\u001B[0m\u001B[1;33m.\u001B[0m\u001B[0m_new_conn\u001B[0m\u001B[1;33m(\u001B[0m\u001B[1;33m)\u001B[0m\u001B[1;33m\u001B[0m\u001B[0m\n\u001B[0m\u001B[0;32m    285\u001B[0m \u001B[1;33m\u001B[0m\u001B[0m\n",
      "\u001B[1;32mC:\\Program Files\\Anaconda3\\lib\\site-packages\\requests\\packages\\urllib3\\connection.py\u001B[0m in \u001B[0;36m_new_conn\u001B[1;34m(self)\u001B[0m\n\u001B[0;32m    149\u001B[0m             raise NewConnectionError(\n\u001B[1;32m--> 150\u001B[1;33m                 self, \"Failed to establish a new connection: %s\" % e)\n\u001B[0m\u001B[0;32m    151\u001B[0m \u001B[1;33m\u001B[0m\u001B[0m\n",
      "\u001B[1;31mNewConnectionError\u001B[0m: <requests.packages.urllib3.connection.VerifiedHTTPSConnection object at 0x000002557FCA1048>: Failed to establish a new connection: [WinError 10060] Попытка установить соединение была безуспешной, т.к. от другого компьютера за требуемое время не получен нужный отклик, или было разорвано уже установленное соединение из-за неверного отклика уже подключенного компьютера",
      "\nDuring handling of the above exception, another exception occurred:\n",
      "\u001B[1;31mMaxRetryError\u001B[0m                             Traceback (most recent call last)",
      "\u001B[1;32mC:\\Program Files\\Anaconda3\\lib\\site-packages\\requests\\adapters.py\u001B[0m in \u001B[0;36msend\u001B[1;34m(self, request, stream, timeout, verify, cert, proxies)\u001B[0m\n\u001B[0;32m    437\u001B[0m                     \u001B[0mretries\u001B[0m\u001B[1;33m=\u001B[0m\u001B[0mself\u001B[0m\u001B[1;33m.\u001B[0m\u001B[0mmax_retries\u001B[0m\u001B[1;33m,\u001B[0m\u001B[1;33m\u001B[0m\u001B[0m\n\u001B[1;32m--> 438\u001B[1;33m                     \u001B[0mtimeout\u001B[0m\u001B[1;33m=\u001B[0m\u001B[0mtimeout\u001B[0m\u001B[1;33m\u001B[0m\u001B[0m\n\u001B[0m\u001B[0;32m    439\u001B[0m                 )\n",
      "\u001B[1;32mC:\\Program Files\\Anaconda3\\lib\\site-packages\\requests\\packages\\urllib3\\connectionpool.py\u001B[0m in \u001B[0;36murlopen\u001B[1;34m(self, method, url, body, headers, retries, redirect, assert_same_host, timeout, pool_timeout, release_conn, chunked, body_pos, **response_kw)\u001B[0m\n\u001B[0;32m    648\u001B[0m             retries = retries.increment(method, url, error=e, _pool=self,\n\u001B[1;32m--> 649\u001B[1;33m                                         _stacktrace=sys.exc_info()[2])\n\u001B[0m\u001B[0;32m    650\u001B[0m             \u001B[0mretries\u001B[0m\u001B[1;33m.\u001B[0m\u001B[0msleep\u001B[0m\u001B[1;33m(\u001B[0m\u001B[1;33m)\u001B[0m\u001B[1;33m\u001B[0m\u001B[0m\n",
      "\u001B[1;32mC:\\Program Files\\Anaconda3\\lib\\site-packages\\requests\\packages\\urllib3\\util\\retry.py\u001B[0m in \u001B[0;36mincrement\u001B[1;34m(self, method, url, response, error, _pool, _stacktrace)\u001B[0m\n\u001B[0;32m    387\u001B[0m         \u001B[1;32mif\u001B[0m \u001B[0mnew_retry\u001B[0m\u001B[1;33m.\u001B[0m\u001B[0mis_exhausted\u001B[0m\u001B[1;33m(\u001B[0m\u001B[1;33m)\u001B[0m\u001B[1;33m:\u001B[0m\u001B[1;33m\u001B[0m\u001B[0m\n\u001B[1;32m--> 388\u001B[1;33m             \u001B[1;32mraise\u001B[0m \u001B[0mMaxRetryError\u001B[0m\u001B[1;33m(\u001B[0m\u001B[0m_pool\u001B[0m\u001B[1;33m,\u001B[0m \u001B[0murl\u001B[0m\u001B[1;33m,\u001B[0m \u001B[0merror\u001B[0m \u001B[1;32mor\u001B[0m \u001B[0mResponseError\u001B[0m\u001B[1;33m(\u001B[0m\u001B[0mcause\u001B[0m\u001B[1;33m)\u001B[0m\u001B[1;33m)\u001B[0m\u001B[1;33m\u001B[0m\u001B[0m\n\u001B[0m\u001B[0;32m    389\u001B[0m \u001B[1;33m\u001B[0m\u001B[0m\n",
      "\u001B[1;31mMaxRetryError\u001B[0m: HTTPSConnectionPool(host='xn--80az8a.xn--d1aqf.xn--p1ai', port=443): Max retries exceeded with url: /%D1%81%D0%B5%D1%80%D0%B2%D0%B8%D1%81%D1%8B/api/object/36198 (Caused by NewConnectionError('<requests.packages.urllib3.connection.VerifiedHTTPSConnection object at 0x000002557FCA1048>: Failed to establish a new connection: [WinError 10060] Попытка установить соединение была безуспешной, т.к. от другого компьютера за требуемое время не получен нужный отклик, или было разорвано уже установленное соединение из-за неверного отклика уже подключенного компьютера',))",
      "\nDuring handling of the above exception, another exception occurred:\n",
      "\u001B[1;31mConnectionError\u001B[0m                           Traceback (most recent call last)",
      "\u001B[1;32m<ipython-input-7-1ba000519f7b>\u001B[0m in \u001B[0;36m<module>\u001B[1;34m()\u001B[0m\n\u001B[0;32m      2\u001B[0m \u001B[1;32mfor\u001B[0m \u001B[0miter_id_object\u001B[0m \u001B[1;32min\u001B[0m \u001B[0mtqdm\u001B[0m\u001B[1;33m.\u001B[0m\u001B[0mtrange\u001B[0m\u001B[1;33m(\u001B[0m\u001B[0mlen\u001B[0m\u001B[1;33m(\u001B[0m\u001B[0mlist_id_objects\u001B[0m\u001B[1;33m)\u001B[0m\u001B[1;33m)\u001B[0m\u001B[1;33m:\u001B[0m\u001B[1;33m\u001B[0m\u001B[0m\n\u001B[0;32m      3\u001B[0m     \u001B[0mtime\u001B[0m\u001B[1;33m.\u001B[0m\u001B[0msleep\u001B[0m\u001B[1;33m(\u001B[0m\u001B[1;36m1\u001B[0m\u001B[1;33m/\u001B[0m\u001B[1;36m4\u001B[0m\u001B[1;33m)\u001B[0m\u001B[1;33m\u001B[0m\u001B[0m\n\u001B[1;32m----> 4\u001B[1;33m     \u001B[0mrq_obj\u001B[0m \u001B[1;33m=\u001B[0m \u001B[0mrq\u001B[0m\u001B[1;33m.\u001B[0m\u001B[0mget\u001B[0m\u001B[1;33m(\u001B[0m\u001B[0mhttp_rq_object\u001B[0m \u001B[1;33m+\u001B[0m \u001B[0mstr\u001B[0m\u001B[1;33m(\u001B[0m\u001B[0mlist_id_objects\u001B[0m\u001B[1;33m[\u001B[0m\u001B[0miter_id_object\u001B[0m\u001B[1;33m]\u001B[0m\u001B[1;33m)\u001B[0m\u001B[1;33m)\u001B[0m\u001B[1;33m\u001B[0m\u001B[0m\n\u001B[0m\u001B[0;32m      5\u001B[0m     \u001B[1;32mif\u001B[0m \u001B[0mrq_obj\u001B[0m\u001B[1;33m.\u001B[0m\u001B[0mstatus_code\u001B[0m \u001B[1;33m!=\u001B[0m \u001B[1;36m200\u001B[0m\u001B[1;33m:\u001B[0m\u001B[1;33m\u001B[0m\u001B[0m\n\u001B[0;32m      6\u001B[0m         \u001B[0mprint\u001B[0m\u001B[1;33m(\u001B[0m\u001B[1;34m'Возникла ошибка с кодом ['\u001B[0m \u001B[1;33m+\u001B[0m \u001B[0mstr\u001B[0m\u001B[1;33m(\u001B[0m\u001B[0mrq_obj\u001B[0m\u001B[1;33m.\u001B[0m\u001B[0mstatus_code\u001B[0m\u001B[1;33m)\u001B[0m \u001B[1;33m+\u001B[0m \u001B[1;34m']. Описание ошибки: ['\u001B[0m \u001B[1;33m+\u001B[0m \u001B[0mstr\u001B[0m\u001B[1;33m(\u001B[0m\u001B[0mrq_obj\u001B[0m\u001B[1;33m.\u001B[0m\u001B[0mjson\u001B[0m\u001B[1;33m(\u001B[0m\u001B[1;33m)\u001B[0m\u001B[1;33m.\u001B[0m\u001B[0mget\u001B[0m\u001B[1;33m(\u001B[0m\u001B[1;34m'errcode'\u001B[0m\u001B[1;33m)\u001B[0m\u001B[1;33m)\u001B[0m \u001B[1;33m+\u001B[0m \u001B[1;34m']'\u001B[0m\u001B[1;33m)\u001B[0m\u001B[1;33m\u001B[0m\u001B[0m\n",
      "\u001B[1;32mC:\\Program Files\\Anaconda3\\lib\\site-packages\\requests\\api.py\u001B[0m in \u001B[0;36mget\u001B[1;34m(url, params, **kwargs)\u001B[0m\n\u001B[0;32m     70\u001B[0m \u001B[1;33m\u001B[0m\u001B[0m\n\u001B[0;32m     71\u001B[0m     \u001B[0mkwargs\u001B[0m\u001B[1;33m.\u001B[0m\u001B[0msetdefault\u001B[0m\u001B[1;33m(\u001B[0m\u001B[1;34m'allow_redirects'\u001B[0m\u001B[1;33m,\u001B[0m \u001B[1;32mTrue\u001B[0m\u001B[1;33m)\u001B[0m\u001B[1;33m\u001B[0m\u001B[0m\n\u001B[1;32m---> 72\u001B[1;33m     \u001B[1;32mreturn\u001B[0m \u001B[0mrequest\u001B[0m\u001B[1;33m(\u001B[0m\u001B[1;34m'get'\u001B[0m\u001B[1;33m,\u001B[0m \u001B[0murl\u001B[0m\u001B[1;33m,\u001B[0m \u001B[0mparams\u001B[0m\u001B[1;33m=\u001B[0m\u001B[0mparams\u001B[0m\u001B[1;33m,\u001B[0m \u001B[1;33m**\u001B[0m\u001B[0mkwargs\u001B[0m\u001B[1;33m)\u001B[0m\u001B[1;33m\u001B[0m\u001B[0m\n\u001B[0m\u001B[0;32m     73\u001B[0m \u001B[1;33m\u001B[0m\u001B[0m\n\u001B[0;32m     74\u001B[0m \u001B[1;33m\u001B[0m\u001B[0m\n",
      "\u001B[1;32mC:\\Program Files\\Anaconda3\\lib\\site-packages\\requests\\api.py\u001B[0m in \u001B[0;36mrequest\u001B[1;34m(method, url, **kwargs)\u001B[0m\n\u001B[0;32m     56\u001B[0m     \u001B[1;31m# cases, and look like a memory leak in others.\u001B[0m\u001B[1;33m\u001B[0m\u001B[1;33m\u001B[0m\u001B[0m\n\u001B[0;32m     57\u001B[0m     \u001B[1;32mwith\u001B[0m \u001B[0msessions\u001B[0m\u001B[1;33m.\u001B[0m\u001B[0mSession\u001B[0m\u001B[1;33m(\u001B[0m\u001B[1;33m)\u001B[0m \u001B[1;32mas\u001B[0m \u001B[0msession\u001B[0m\u001B[1;33m:\u001B[0m\u001B[1;33m\u001B[0m\u001B[0m\n\u001B[1;32m---> 58\u001B[1;33m         \u001B[1;32mreturn\u001B[0m \u001B[0msession\u001B[0m\u001B[1;33m.\u001B[0m\u001B[0mrequest\u001B[0m\u001B[1;33m(\u001B[0m\u001B[0mmethod\u001B[0m\u001B[1;33m=\u001B[0m\u001B[0mmethod\u001B[0m\u001B[1;33m,\u001B[0m \u001B[0murl\u001B[0m\u001B[1;33m=\u001B[0m\u001B[0murl\u001B[0m\u001B[1;33m,\u001B[0m \u001B[1;33m**\u001B[0m\u001B[0mkwargs\u001B[0m\u001B[1;33m)\u001B[0m\u001B[1;33m\u001B[0m\u001B[0m\n\u001B[0m\u001B[0;32m     59\u001B[0m \u001B[1;33m\u001B[0m\u001B[0m\n\u001B[0;32m     60\u001B[0m \u001B[1;33m\u001B[0m\u001B[0m\n",
      "\u001B[1;32mC:\\Program Files\\Anaconda3\\lib\\site-packages\\requests\\sessions.py\u001B[0m in \u001B[0;36mrequest\u001B[1;34m(self, method, url, params, data, headers, cookies, files, auth, timeout, allow_redirects, proxies, hooks, stream, verify, cert, json)\u001B[0m\n\u001B[0;32m    516\u001B[0m         }\n\u001B[0;32m    517\u001B[0m         \u001B[0msend_kwargs\u001B[0m\u001B[1;33m.\u001B[0m\u001B[0mupdate\u001B[0m\u001B[1;33m(\u001B[0m\u001B[0msettings\u001B[0m\u001B[1;33m)\u001B[0m\u001B[1;33m\u001B[0m\u001B[0m\n\u001B[1;32m--> 518\u001B[1;33m         \u001B[0mresp\u001B[0m \u001B[1;33m=\u001B[0m \u001B[0mself\u001B[0m\u001B[1;33m.\u001B[0m\u001B[0msend\u001B[0m\u001B[1;33m(\u001B[0m\u001B[0mprep\u001B[0m\u001B[1;33m,\u001B[0m \u001B[1;33m**\u001B[0m\u001B[0msend_kwargs\u001B[0m\u001B[1;33m)\u001B[0m\u001B[1;33m\u001B[0m\u001B[0m\n\u001B[0m\u001B[0;32m    519\u001B[0m \u001B[1;33m\u001B[0m\u001B[0m\n\u001B[0;32m    520\u001B[0m         \u001B[1;32mreturn\u001B[0m \u001B[0mresp\u001B[0m\u001B[1;33m\u001B[0m\u001B[0m\n",
      "\u001B[1;32mC:\\Program Files\\Anaconda3\\lib\\site-packages\\requests\\sessions.py\u001B[0m in \u001B[0;36msend\u001B[1;34m(self, request, **kwargs)\u001B[0m\n\u001B[0;32m    637\u001B[0m \u001B[1;33m\u001B[0m\u001B[0m\n\u001B[0;32m    638\u001B[0m         \u001B[1;31m# Send the request\u001B[0m\u001B[1;33m\u001B[0m\u001B[1;33m\u001B[0m\u001B[0m\n\u001B[1;32m--> 639\u001B[1;33m         \u001B[0mr\u001B[0m \u001B[1;33m=\u001B[0m \u001B[0madapter\u001B[0m\u001B[1;33m.\u001B[0m\u001B[0msend\u001B[0m\u001B[1;33m(\u001B[0m\u001B[0mrequest\u001B[0m\u001B[1;33m,\u001B[0m \u001B[1;33m**\u001B[0m\u001B[0mkwargs\u001B[0m\u001B[1;33m)\u001B[0m\u001B[1;33m\u001B[0m\u001B[0m\n\u001B[0m\u001B[0;32m    640\u001B[0m \u001B[1;33m\u001B[0m\u001B[0m\n\u001B[0;32m    641\u001B[0m         \u001B[1;31m# Total elapsed time of the request (approximately)\u001B[0m\u001B[1;33m\u001B[0m\u001B[1;33m\u001B[0m\u001B[0m\n",
      "\u001B[1;32mC:\\Program Files\\Anaconda3\\lib\\site-packages\\requests\\adapters.py\u001B[0m in \u001B[0;36msend\u001B[1;34m(self, request, stream, timeout, verify, cert, proxies)\u001B[0m\n\u001B[0;32m    500\u001B[0m                 \u001B[1;32mraise\u001B[0m \u001B[0mProxyError\u001B[0m\u001B[1;33m(\u001B[0m\u001B[0me\u001B[0m\u001B[1;33m,\u001B[0m \u001B[0mrequest\u001B[0m\u001B[1;33m=\u001B[0m\u001B[0mrequest\u001B[0m\u001B[1;33m)\u001B[0m\u001B[1;33m\u001B[0m\u001B[0m\n\u001B[0;32m    501\u001B[0m \u001B[1;33m\u001B[0m\u001B[0m\n\u001B[1;32m--> 502\u001B[1;33m             \u001B[1;32mraise\u001B[0m \u001B[0mConnectionError\u001B[0m\u001B[1;33m(\u001B[0m\u001B[0me\u001B[0m\u001B[1;33m,\u001B[0m \u001B[0mrequest\u001B[0m\u001B[1;33m=\u001B[0m\u001B[0mrequest\u001B[0m\u001B[1;33m)\u001B[0m\u001B[1;33m\u001B[0m\u001B[0m\n\u001B[0m\u001B[0;32m    503\u001B[0m \u001B[1;33m\u001B[0m\u001B[0m\n\u001B[0;32m    504\u001B[0m         \u001B[1;32mexcept\u001B[0m \u001B[0mClosedPoolError\u001B[0m \u001B[1;32mas\u001B[0m \u001B[0me\u001B[0m\u001B[1;33m:\u001B[0m\u001B[1;33m\u001B[0m\u001B[0m\n",
      "\u001B[1;31mConnectionError\u001B[0m: HTTPSConnectionPool(host='xn--80az8a.xn--d1aqf.xn--p1ai', port=443): Max retries exceeded with url: /%D1%81%D0%B5%D1%80%D0%B2%D0%B8%D1%81%D1%8B/api/object/36198 (Caused by NewConnectionError('<requests.packages.urllib3.connection.VerifiedHTTPSConnection object at 0x000002557FCA1048>: Failed to establish a new connection: [WinError 10060] Попытка установить соединение была безуспешной, т.к. от другого компьютера за требуемое время не получен нужный отклик, или было разорвано уже установленное соединение из-за неверного отклика уже подключенного компьютера',))"
     ]
    }
   ],
   "source": [
    "objects_data = []\n",
    "for iter_id_object in tqdm.trange(len(list_id_objects)):\n",
    "    time.sleep(1/4)\n",
    "    rq_obj = rq.get(http_rq_object + str(list_id_objects[iter_id_object]))\n",
    "    if rq_obj.status_code != 200:\n",
    "        print('Возникла ошибка с кодом [' + str(rq_obj.status_code) + ']. Описание ошибки: [' + str(rq_obj.json().get('errcode')) + ']')\n",
    "    objects_data.append((rq_obj.json()).get('data'))\n",
    "len(objects_data)\n",
    "backup_objects_data = objects_data.copy()"
   ]
  },
  {
   "cell_type": "code",
   "execution_count": 11,
   "outputs": [
    {
     "data": {
      "text/plain": "{'address': 'г Уфа, ул Армавирская, литера 2',\n 'conclusion': False,\n 'developer': {'buildObjCnt': 1,\n  'comissObjCnt': 0,\n  'companyGroupId': 7312962001,\n  'devEmail': 'vesna-alt@yandex.ru',\n  'devEmplMainFullNm': 'Насыров Рим Самигуллович',\n  'devFactAddr': 'Респ Башкортостан город Уфа д. 1 В',\n  'devFullCleanNm': 'ЖИЛОЙ КОМПЛЕКС ЮЖНЫЙ',\n  'devId': 6861,\n  'devInn': '0274193308',\n  'devKpp': '027401001',\n  'devLegalAddr': 'Башкортостан Республика, город Уфа, улица Армавирская дом 1 корпус В',\n  'devOgrn': '1140280410357',\n  'devOrgRegRegionCd': 2,\n  'devPhoneNum': '+7(347)289-42-00',\n  'devShortCleanNm': 'ЖК ЮЖНЫЙ',\n  'devShortNm': 'ЖК ЮЖНЫЙ',\n  'devSite': 'gk-y.info',\n  'developerGroupName': 'ЖК Южный',\n  'fundGuarantyFlg': 1,\n  'govFundFlg': 0,\n  'lastRpdId': 505802,\n  'objGuarantyEscrowFlg': 0,\n  'orgForm': {'fullForm': 'Общество с ограниченной ответственностью',\n   'id': 4,\n   'shortForm': 'ООО'},\n  'problObjCnt': 0,\n  'regRegionDesc': 'Башкортостан Республика'},\n 'floorMax': 28,\n 'floorMin': 28,\n 'id': 36036,\n 'isAvailableWantLiveHere': True,\n 'loadDttm': '02-02-2022 01:09',\n 'miniUrl': 'https://xn--80az8a.xn--d1aqf.xn--p1ai/api/ext/file/c72689d0-2537-40e0-a031-48ba5f2cd834',\n 'newBuildingId': 116190,\n 'nonlivFirstFloor': 1,\n 'objCompensFundFlg': 1,\n 'objElemLivingCnt': 272,\n 'objElemParkingCnt': 112,\n 'objElevatorCargoCnt': 2,\n 'objElevatorPassengerCnt': 4,\n 'objElevatorWheelchairCnt': 2,\n 'objEnergyEffShortDesc': 'C',\n 'objFlatCnt': 272,\n 'objFlatSq': '15787.37',\n 'objFloorCnt': 28,\n 'objGreenHouseFlg': 0,\n 'objGuarantyEscrowFlg': 0,\n 'objInfrstrBicycleLaneFlg': 1,\n 'objInfrstrCurbLoweringFlg': 1,\n 'objInfrstrNotObjPrkngCnt': 50,\n 'objInfrstrObjPrkngCnt': 66,\n 'objInfrstrPlaygrndCnt': 1,\n 'objInfrstrRampFlg': 1,\n 'objInfrstrSportGroundCnt': 1,\n 'objInfrstrTrashAreaCnt': 1,\n 'objLivCeilingHeight': '2,7',\n 'objLkClassDesc': 'Типовой',\n 'objLkFinishTypeDesc': 'Без отделки',\n 'objLkFreePlanDesc': 'Есть',\n 'objLkLatitude': '54.6937',\n 'objLkLongitude': '55.9886',\n 'objLkSaleDepEmail': 'vesna-alt@yandex.ru',\n 'objNonlivElemCnt': 70,\n 'objPriceAvg': 65517,\n 'objProblemFlg': 0,\n 'objReady100PercDt': '2021-12-31',\n 'objSquareLiving': 15787.37,\n 'objStatus': 0,\n 'objTransferPlanDt': '31-12-2021 12:00',\n 'objectTransportInfo': [],\n 'objectType': 'normal',\n 'pdId': 323229,\n 'photoRenderDTO': [{'devId': 6861,\n   'knFlg': 1,\n   'loadDttm': '02-02-2022 00:55',\n   'objBuildTypeShortDesc': 'Жилое',\n   'objId': 36036,\n   'objReadyDesc': 'Строится',\n   'objRenderPhotoDttm': '15-06-2020 11:08',\n   'objRenderPhotoHiddenFlg': 0,\n   'objRenderPhotoNm': '42dbe1a1-b36f-45a5-a11e-b65b0bead7aa.jpg',\n   'objRenderPhotoSize': 119945,\n   'objRenderPhotoUrl': 'https://xn--80az8a.xn--d1aqf.xn--p1ai/api/ext/file/c9392170-94a2-4761-b620-dec5f5798ada',\n   'ordNum': 1,\n   'pdId': 323229,\n   'rpdId': 505802},\n  {'devId': 6861,\n   'knFlg': 1,\n   'loadDttm': '02-02-2022 00:55',\n   'objBuildTypeShortDesc': 'Жилое',\n   'objId': 36036,\n   'objReadyDesc': 'Строится',\n   'objRenderPhotoDttm': '09-02-2021 14:11',\n   'objRenderPhotoHiddenFlg': 0,\n   'objRenderPhotoNm': 'WhatsApp_Image_2021-02-02_at_17.29.58.jpeg',\n   'objRenderPhotoSize': 182136,\n   'objRenderPhotoUrl': 'https://xn--80az8a.xn--d1aqf.xn--p1ai/api/ext/file/2e637e3c-d816-40fd-aef6-7baab2864063',\n   'ordNum': 2,\n   'pdId': 323229,\n   'rpdId': 505802},\n  {'devId': 6861,\n   'knFlg': 1,\n   'loadDttm': '02-02-2022 00:55',\n   'objBuildTypeShortDesc': 'Жилое',\n   'objId': 36036,\n   'objReadyDesc': 'Строится',\n   'objRenderPhotoDttm': '09-02-2021 14:11',\n   'objRenderPhotoHiddenFlg': 0,\n   'objRenderPhotoNm': 'WhatsApp_Image_2021-02-03_at_101.081.321.jpeg',\n   'objRenderPhotoSize': 99650,\n   'objRenderPhotoUrl': 'https://xn--80az8a.xn--d1aqf.xn--p1ai/api/ext/file/124d69c6-fddc-47f6-802b-7fb57363224f',\n   'ordNum': 3,\n   'pdId': 323229,\n   'rpdId': 505802},\n  {'devId': 6861,\n   'knFlg': 1,\n   'loadDttm': '02-02-2022 00:55',\n   'objBuildTypeShortDesc': 'Жилое',\n   'objId': 36036,\n   'objReadyDesc': 'Строится',\n   'objRenderPhotoDttm': '09-02-2021 14:11',\n   'objRenderPhotoHiddenFlg': 0,\n   'objRenderPhotoNm': 'WhatsApp_Image_2021-02-03_at_102.072.332.jpeg',\n   'objRenderPhotoSize': 124789,\n   'objRenderPhotoUrl': 'https://xn--80az8a.xn--d1aqf.xn--p1ai/api/ext/file/d422f5a3-612b-420e-b5b5-673c53729417',\n   'ordNum': 4,\n   'pdId': 323229,\n   'rpdId': 505802}],\n 'quartography': {'objLivElem1KCnt': 111,\n  'objLivElem2KCnt': 110,\n  'objLivElem3KCnt': 51,\n  'objLivElem4KCnt': 0,\n  'objLivElemCnt': 272,\n  'objLivElemEntrCnt': 1,\n  'objLivElemEntrFloorAvg': 12},\n 'region': 2,\n 'residentialBuildings': 1,\n 'rpdIssueDttm': '20-09-2021 16:05',\n 'rpdNum': '02-001173',\n 'rpdPdfLink': 'https://xn--80az8a.xn--d1aqf.xn--p1ai/api/ext/file/826debf5-e314-42a9-9b0e-1b77f1a75c39',\n 'soldOutPerc': 1.0,\n 'wallMaterialShortDesc': 'Монолит-кирпич'}"
     },
     "execution_count": 11,
     "metadata": {},
     "output_type": "execute_result"
    }
   ],
   "source": [
    "objects_data[1000]"
   ],
   "metadata": {
    "collapsed": false,
    "pycharm": {
     "name": "#%%\n"
    }
   }
  },
  {
   "cell_type": "code",
   "execution_count": 14,
   "metadata": {
    "pycharm": {
     "name": "#%%\n"
    }
   },
   "outputs": [
    {
     "name": "stdout",
     "output_type": "stream",
     "text": [
      "{'objGreenHouseFlg', 'objProblemFlg', 'loadDttm', 'rpdNum', 'objNonlivElemCnt', 'quartography', 'objInfrstrBicycleLaneFlg', 'pdId', 'objFlatCnt', 'objectTransportInfo', 'nameObj', 'nonlivFirstFloor', 'objLivCeilingHeight', 'objLkLongitude', 'objSquareLiving', 'soldOutPerc', 'objInfrstrObjPrkngCnt', 'generalContractorNm', 'objectType', 'rpdIssueDttm', 'residentialBuildings', 'address', 'objLkLatitude', 'photoRenderDTO', 'id', 'objReady100PercDt', 'rpdPdfLink', 'objGuarantyEscrowFlg', 'objFlatSq', 'objInfrstrCurbLoweringFlg', 'objElevatorCargoCnt', 'objLkSaleDepEmail', 'objStatus', 'objLkClassDesc', 'objElemParkingCnt', 'conclusion', 'objLkFinishTypeDesc', 'objEnergyEffShortDesc', 'objInfrstrPlaygrndCnt', 'objInfrstrRampFlg', 'objElemLivingCnt', 'objCompensFundFlg', 'objTransferPlanDt', 'objLkFreePlanDesc', 'miniUrl', 'objElevatorWheelchairCnt', 'wallMaterialShortDesc', 'newBuildingId', 'isAvailableWantLiveHere', 'floorMin', 'objFloorCnt', 'objInfrstrSportGroundCnt', 'objInfrstrTrashAreaCnt', 'objInfrstrNotObjPrkngCnt', 'floorMax', 'objPriceAvg', 'region', 'objElevatorPassengerCnt', 'developer'}\n",
      "\n",
      "{'metro', 'transportDistIndex'}\n"
     ]
    }
   ],
   "source": [
    "set_first = set(objects_data[0].keys())\n",
    "set_all = set()\n",
    "for test_iter in objects_data:\n",
    "    set_all = set_all ^ set(test_iter.keys())\n",
    "print(set_first)\n",
    "print('')\n",
    "print(set_all - set_first)"
   ]
  },
  {
   "cell_type": "code",
   "execution_count": 15,
   "metadata": {
    "pycharm": {
     "name": "#%%\n"
    }
   },
   "outputs": [
    {
     "name": "stderr",
     "output_type": "stream",
     "text": [
      "100%|██████████| 1071/1071 [00:09<00:00, 107.12it/s]\n"
     ]
    }
   ],
   "source": [
    "df_objects_data = pd.DataFrame()\n",
    "df_objects_photo = pd.DataFrame()\n",
    "for iter_obj in tqdm.trange(len(objects_data)):\n",
    "    object_data = objects_data[iter_obj]\n",
    "    df_objects_data = pd.concat([df_objects_data, pd.DataFrame(\n",
    "    {'id' : object_data.get('id'),\n",
    "        'address' : object_data.get('address'),\n",
    "        'devEvmail' : object_data.get('developer').get('devEvmail'),\n",
    "        'devFactAddr' : object_data.get('developer').get('devFactAddr'),\n",
    "        'devFullCleanNm' : object_data.get('developer').get('devFullCleanNm'),\n",
    "        'devInn' : object_data.get('developer').get('devInn'),\n",
    "        'devKpp' : object_data.get('developer').get('devKpp'),\n",
    "        'devSite' : object_data.get('developer').get('devSite'),\n",
    "        'floorMax' : object_data.get('floorMax'),\n",
    "        'floorMin' : object_data.get('floorMin'),\n",
    "        'generalContractorNm' : object_data.get('generalContractorNm'),\n",
    "        'isAvailableWantLiveHere' : object_data.get('isAvailableWantLiveHere'),\n",
    "        # 'metro': object_data.get('metro', {'name':''}).get('name'),\n",
    "        'metro_station': object_data.get('metro', {'name':''}).get('name'),\n",
    "        'metro_line': object_data.get('metro', {'line':''}).get('line'),\n",
    "        'nonlivFirstFloor' : object_data.get('nonlivFirstFloor'),\n",
    "        'objElemLivingCnt' : object_data.get('objElemLivingCnt'),\n",
    "        'objElemParkingCnt' : object_data.get('objElemParkingCnt'),\n",
    "        'objElevatorCargoCnt' : object_data.get('objElevatorCargoCnt'),\n",
    "        'objElevatorPassengerCnt' : object_data.get('objElevatorPassengerCnt'),\n",
    "        'objElevatorWheelchairCnt' : object_data.get('objElevatorWheelchairCnt'),\n",
    "        'objEnergyEffShortDesc' : object_data.get('objEnergyEffShortDesc'),\n",
    "        'objFlatCnt' : object_data.get('objFlatCnt'),\n",
    "        'objFlatSq' : object_data.get('objFlatSq'),\n",
    "        'objFloorCnt' : object_data.get('objFloorCnt'),\n",
    "        'objGreenHouseFlg' : object_data.get('objGreenHouseFlg'),\n",
    "        'objInfrstrBicycleLaneFlg' : object_data.get('objInfrstrBicycleLaneFlg'),\n",
    "        'objInfrstrCurbLoweringFlg' : object_data.get('objInfrstrCurbLoweringFlg'),\n",
    "        'objInfrstrNotObjPrkngCnt' : object_data.get('objInfrstrNotObjPrkngCnt'),\n",
    "        'objInfrstrObjPrkngCnt' : object_data.get('objInfrstrObjPrkngCnt'),\n",
    "        'objInfrstrPlaygrndCnt' : object_data.get('objInfrstrPlaygrndCnt'),\n",
    "        'objInfrstrRampFlg' : object_data.get('objInfrstrRampFlg'),\n",
    "        'objInfrstrSportGroundCnt' : object_data.get('objInfrstrSportGroundCnt'),\n",
    "        'objInfrstrTrashAreaCnt' : object_data.get('objInfrstrTrashAreaCnt'),\n",
    "        'objLkClassDesc' : object_data.get('objLkClassDesc'),\n",
    "        'objLkFinishTypeDesc' : object_data.get('objLkFinishTypeDesc'),\n",
    "        'objLkFreePlanDesc' : object_data.get('objLkFreePlanDesc'),\n",
    "        'objPriceAvg' : object_data.get('objPriceAvg'),\n",
    "        'objReady100PercDt' : object_data.get('objReady100PercDt'),\n",
    "        'objSquareLiving' : object_data.get('objSquareLiving'),\n",
    "        'objStatus' : object_data.get('objStatus'),\n",
    "        'soldOutPerc' : object_data.get('soldOutPerc'),\n",
    "        'wallMaterialShortDesc' : object_data.get('wallMaterialShortDesc'),\n",
    "        } , index=[iter_obj])])\n",
    "    for iter_foto in range(len(object_data.get('photoRenderDTO'))):\n",
    "        df_objects_photo = pd.concat([df_objects_photo, pd.DataFrame({'foto': object_data.get('photoRenderDTO')[iter_foto].get('objRenderPhotoUrl')}, index=[object_data.get('id')])])\n"
   ]
  },
  {
   "cell_type": "code",
   "execution_count": null,
   "outputs": [],
   "source": [],
   "metadata": {
    "collapsed": false,
    "pycharm": {
     "name": "#%%\n"
    }
   }
  },
  {
   "cell_type": "code",
   "execution_count": 18,
   "outputs": [],
   "source": [
    "df_objects_data.to_excel('objects_data.xlsx')\n",
    "df_objects_data.to_pickle('objects_data.pkl')\n",
    "df_objects_data.to_csv('objects_data.csv', sep=\";\")\n",
    "sql_db = sql.connect('sql_objects_data.db')\n",
    "sql_con = sql_db.cursor()\n",
    "df_objects_data.to_sql('objects', sql_db, if_exists='replace', index=False)\n",
    "sql_con.close()"
   ],
   "metadata": {
    "collapsed": false,
    "pycharm": {
     "name": "#%%\n"
    }
   }
  },
  {
   "cell_type": "code",
   "execution_count": 19,
   "outputs": [],
   "source": [
    "df_objects_photo = (df_objects_photo.reset_index()).rename(columns={'index': 'id'})"
   ],
   "metadata": {
    "collapsed": false,
    "pycharm": {
     "name": "#%%\n"
    }
   }
  },
  {
   "cell_type": "code",
   "execution_count": 21,
   "outputs": [
    {
     "name": "stderr",
     "output_type": "stream",
     "text": [
      "100%|██████████| 50/50 [00:29<00:00,  1.67it/s]\n"
     ]
    },
    {
     "data": {
      "text/plain": "'C:\\\\Users\\\\16706093\\\\PycharmProjects\\\\School_DS'"
     },
     "execution_count": 21,
     "metadata": {},
     "output_type": "execute_result"
    }
   ],
   "source": [
    "dir_name = ''\n",
    "os.mkdir('PhotoObjects')\n",
    "os.chdir('PhotoObjects')\n",
    "# for i in tqdm.trange(len(df_objects_photo)):\n",
    "for i in tqdm.trange(50):\n",
    "    if dir_name != str(df_objects_photo.iloc[i]['id']):\n",
    "        dir_name = str(df_objects_photo.iloc[i]['id'])\n",
    "        os.mkdir(dir_name)\n",
    "    with open(os.getcwd() + '\\\\' + dir_name + '\\\\' + str(i) + '.jpg', 'wb') as f:\n",
    "        f.write((rq.get(df_objects_photo.iloc[i]['foto'])).content)\n",
    "        f.close\n",
    "    time.sleep(1/4)\n",
    "os.chdir(os.path.pardir)\n",
    "os.chdir(os.path.pardir)\n",
    "os.getcwd()"
   ],
   "metadata": {
    "collapsed": false,
    "pycharm": {
     "name": "#%%\n"
    }
   }
  }
 ],
 "metadata": {
  "kernelspec": {
   "display_name": "Python 3",
   "language": "python",
   "name": "python3"
  },
  "language_info": {
   "codemirror_mode": {
    "name": "ipython",
    "version": 3
   },
   "file_extension": ".py",
   "mimetype": "text/x-python",
   "name": "python",
   "nbconvert_exporter": "python",
   "pygments_lexer": "ipython3",
   "version": "3.6.1"
  }
 },
 "nbformat": 4,
 "nbformat_minor": 1
}