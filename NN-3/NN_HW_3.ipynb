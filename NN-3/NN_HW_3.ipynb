{
 "cells": [
  {
   "cell_type": "code",
   "execution_count": 127,
   "metadata": {
    "collapsed": true
   },
   "outputs": [],
   "source": [
    "import matplotlib.pyplot as plt\n",
    "import numpy as np\n",
    "import torch\n",
    "import torch.nn as nn\n",
    "from torchvision import datasets\n",
    "from torch.utils.data import DataLoader\n",
    "import numpy\n",
    "import time\n",
    "import os\n",
    "seed = 42\n",
    "torch.manual_seed(seed)\n",
    "np.random.seed(seed)\n",
    "import random\n",
    "random.seed(seed)"
   ]
  },
  {
   "cell_type": "code",
   "execution_count": 2,
   "outputs": [],
   "source": [
    "data = datasets.MNIST(os.getcwd(), download=False)"
   ],
   "metadata": {
    "collapsed": false,
    "pycharm": {
     "name": "#%%\n"
    }
   }
  },
  {
   "cell_type": "code",
   "execution_count": 3,
   "outputs": [
    {
     "data": {
      "text/plain": "tensor([[-1,  0,  1],\n        [-1,  0,  1],\n        [-1,  0,  1]], dtype=torch.int32)"
     },
     "execution_count": 3,
     "metadata": {},
     "output_type": "execute_result"
    }
   ],
   "source": [
    "torch.tensor(np.array([[-1, 0, 1]]*3))\n",
    "# [[-1, 2, -1]]*3"
   ],
   "metadata": {
    "collapsed": false,
    "pycharm": {
     "name": "#%%\n"
    }
   }
  },
  {
   "cell_type": "code",
   "execution_count": null,
   "outputs": [
    {
     "name": "stdout",
     "output_type": "stream",
     "text": [
      "Mon Apr 11 19:51:12 2022\n",
      "Началась эпоха: 1\n",
      "    001/468: tensor(0.1055, grad_fn=<MseLossBackward0>)\n",
      "    ...\n",
      "    021/468: tensor(0.0510, grad_fn=<MseLossBackward0>)\n",
      "    ...\n"
     ]
    }
   ],
   "source": [
    "\n",
    "#hyper params\n",
    "num_epoch = 1\n",
    "cuda_device = -1\n",
    "batch_size = 128\n",
    "device = f'cuda:{cuda_device}' if cuda_device != -1 else 'cpu'\n",
    "# input_dimension = 28*28\n",
    "# hidden_dimension = 14*14\n",
    "# latent_dimension = 7*7\n",
    "\n",
    "\n",
    "\n",
    "\n",
    "def collate_fn(data):\n",
    "    pics = []\n",
    "    targets = []\n",
    "    # data = [(pic, target), ....]\n",
    "    for item in data:\n",
    "        pics.append(numpy.array(item[0]))\n",
    "        targets.append(item[1])\n",
    "    return {\n",
    "        'data': torch.from_numpy(numpy.array(pics)) / 255,\n",
    "        'target': torch.from_numpy(numpy.array(targets))\n",
    "    }\n",
    "\n",
    "#model\n",
    "class MyMNISTEncoder(nn.Module):\n",
    "    def __init__(self,\n",
    "                 in_channel: int,\n",
    "                 hidden_channel: int,\n",
    "                 ):\n",
    "        super().__init__()\n",
    "        self.conv1 = nn.Conv2d(in_channel, hidden_channel, kernel_size=5, padding=2, stride=1) # 28 x 28\n",
    "        self.pool1 = nn.MaxPool2d(2,2)\n",
    "        self.conv2 = nn.Conv2d(hidden_channel, hidden_channel, kernel_size=3, padding=1, stride=1) # 14 x 14\n",
    "        self.pool2 = nn.MaxPool2d(2,2)\n",
    "        self.conv3 = nn.Conv2d(hidden_channel, 1, kernel_size=3, padding=1, stride=1) # 7 x 7\n",
    "\n",
    "        self.activation = nn.ReLU()\n",
    "\n",
    "    def forward(self, x):\n",
    "        # x = self.conv1(x)\n",
    "        # x = self.avgpool1(x)\n",
    "        # x = self.activation(x)\n",
    "        # x = self.conv2(x)\n",
    "        # x = self.avgpool2(x)\n",
    "        # x = self.activation(x)\n",
    "        # x = self.conv3(x)\n",
    "        # x = self.activation(x)\n",
    "\n",
    "        x = self.activation(self.pool1(self.conv1(x)))\n",
    "        x = self.activation(self.pool2(self.conv2(x)))\n",
    "        x = self.activation(self.conv3(x))\n",
    "\n",
    "        return x\n",
    "\n",
    "class MyMNISTDecoder(nn.Module):\n",
    "    def __init__(self,\n",
    "                 in_channel: int,\n",
    "                 hidden_channel: int,\n",
    "                 ):\n",
    "        super().__init__()\n",
    "        self.conv1 = nn.Conv2d(1, hidden_channel, kernel_size=5, padding=2, stride=1) # 7 x 7\n",
    "        self.unpool1 = nn.UpsamplingNearest2d(scale_factor=2)\n",
    "        self.conv2 = nn.Conv2d(hidden_channel, hidden_channel, kernel_size=3, padding=1, stride=1) # 14 x 14\n",
    "        self.unpool2 = nn.UpsamplingNearest2d(scale_factor=2)\n",
    "        self.conv3 = nn.Conv2d(hidden_channel, in_channel, kernel_size=3, padding=1, stride=1) # 28 x 28\n",
    "\n",
    "        self.activation = nn.ReLU()\n",
    "\n",
    "    def forward(self, x):\n",
    "        # x = self.conv1(x)\n",
    "        # x = self.unpool1(x)\n",
    "        # x = self.activation(x)\n",
    "        # x = self.conv2(x)\n",
    "        # x = self.unpool2(x)\n",
    "        # x = self.activation(x)\n",
    "        x = self.activation(self.unpool1(self.conv1(x)))\n",
    "        x = self.activation(self.unpool2(self.conv2(x)))\n",
    "        # print(x.size())\n",
    "        x = self.activation(self.conv3(x))\n",
    "\n",
    "        return x\n",
    "\n",
    "class MyAutoEncoder(nn.Module):\n",
    "    def __init__(self,\n",
    "                 input_dimension,\n",
    "                 hidden_dimension,\n",
    "                 ):\n",
    "        super().__init__()\n",
    "        self.encoder = MyMNISTEncoder(input_dimension, hidden_dimension)\n",
    "        self.decoder = MyMNISTDecoder(input_dimension, hidden_dimension)\n",
    "\n",
    "    def forward(self, x):\n",
    "        x = self.encoder(x)\n",
    "        x = self.decoder(x)\n",
    "\n",
    "        return x\n",
    "\n",
    "\n",
    "# init model\n",
    "model = MyAutoEncoder(1, 50)\n",
    "model.train()\n",
    "model.to(device)\n",
    "\n",
    "#optimizer\n",
    "optim = torch.optim.Adam(model.parameters(), lr=0.001)\n",
    "\n",
    "#lr scheduler\n",
    "\n",
    "#dataset\n",
    "dataset = datasets.MNIST(os.getcwd(), download=False)\n",
    "\n",
    "#loss\n",
    "loss_func = nn.MSELoss()\n",
    "\n",
    "\n",
    "# train loop\n",
    "time_start = time.time()\n",
    "len_dl = len(DataLoader(dataset=dataset, batch_size=batch_size, shuffle=True, collate_fn=collate_fn, drop_last=True,))\n",
    "print(time.ctime())\n",
    "for epoch in range(num_epoch):\n",
    "    #dataloder\n",
    "    data_loader = DataLoader(dataset=dataset,\n",
    "                             batch_size=batch_size,\n",
    "                             shuffle=True,\n",
    "                             collate_fn=collate_fn,\n",
    "                             drop_last=True,\n",
    "                             )\n",
    "    time_start_epoch = time.time()\n",
    "    print('Началась эпоха: ' + str(epoch+1))\n",
    "    for i, batch in enumerate(data_loader):\n",
    "        data = batch['data'].to(device).unsqueeze(1)\n",
    "        optim.zero_grad()\n",
    "        predict = model(data)\n",
    "        # print(data.size())\n",
    "        # print(predict.size())\n",
    "        loss = loss_func(predict, data)\n",
    "        loss.backward()\n",
    "        optim.step()\n",
    "        if (i <= 0) or (i == 20) or (i == 50) or i == len(data_loader)//2 - 1:\n",
    "            print('    ' + f'{i+1:0{len(str(len_dl))}}' + '/' + str(len_dl) + ': ' + str(loss))\n",
    "            print('    ...')\n",
    "        elif i == len(data_loader) - 1:\n",
    "            print('    ' + f'{i+1:0{len(str(len_dl))}}' + '/' + str(len_dl) + ': ' + str(loss))\n",
    "    print('Эпоха длилась: ' + time.strftime('%H:%M:%S', time.gmtime(time.time() - time_start_epoch)))\n",
    "    print('-------------------------------------------------------')\n",
    "\n",
    "print('Всё обучение заняло: ' + time.strftime('%H:%M:%S', time.gmtime(time.time() - time_start)))\n",
    "\n",
    "\n",
    "id = 784\n",
    "test = dataset.data[id].unsqueeze(0).unsqueeze(0).float() / 255\n",
    "# test.size()\n",
    "predict = model(test)\n",
    "plt.imshow(dataset.data[id].float() / 255)\n",
    "plt.show()\n",
    "plt.imshow(predict[0][0].detach().numpy())\n",
    "plt.show()"
   ],
   "metadata": {
    "collapsed": false,
    "pycharm": {
     "name": "#%%\n",
     "is_executing": true
    }
   }
  },
  {
   "cell_type": "code",
   "execution_count": 105,
   "outputs": [],
   "source": [
    "# id = 32\n",
    "# test = dataset.data[id].unsqueeze(0).unsqueeze(0).float() / 255\n",
    "# # test.size()\n",
    "# predict = model(test)\n",
    "# plt.imshow(dataset.data[id].float() / 255)\n",
    "# plt.show()\n",
    "# plt.imshow(predict[0][0].detach().numpy())\n",
    "# plt.show()"
   ],
   "metadata": {
    "collapsed": false,
    "pycharm": {
     "name": "#%%\n"
    }
   }
  },
  {
   "cell_type": "code",
   "execution_count": 85,
   "outputs": [],
   "source": [
    "# predict[0][0]"
   ],
   "metadata": {
    "collapsed": false,
    "pycharm": {
     "name": "#%%\n"
    }
   }
  }
 ],
 "metadata": {
  "kernelspec": {
   "display_name": "Python 3",
   "language": "python",
   "name": "python3"
  },
  "language_info": {
   "codemirror_mode": {
    "name": "ipython",
    "version": 2
   },
   "file_extension": ".py",
   "mimetype": "text/x-python",
   "name": "python",
   "nbconvert_exporter": "python",
   "pygments_lexer": "ipython2",
   "version": "2.7.6"
  }
 },
 "nbformat": 4,
 "nbformat_minor": 0
}