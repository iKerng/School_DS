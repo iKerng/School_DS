{
 "cells": [
  {
   "cell_type": "markdown",
   "source": [],
   "metadata": {
    "collapsed": false
   }
  },
  {
   "cell_type": "code",
   "execution_count": 1,
   "metadata": {
    "collapsed": true
   },
   "outputs": [],
   "source": [
    "import torch\n",
    "import torch.nn as nn"
   ]
  },
  {
   "cell_type": "markdown",
   "source": [
    "Написать на PyTorch forward и backward полносвязного слоя без использования autograd"
   ],
   "metadata": {
    "collapsed": false
   }
  },
  {
   "cell_type": "code",
   "execution_count": 2,
   "outputs": [],
   "source": [
    "class MyCustomLinear(nn.Module):\n",
    "    def __init__(self, len_input, len_output):\n",
    "        super().__init__()\n",
    "        self.weight = nn.Parameter(torch.rand(len_input, len_output))\n",
    "        self.bias = nn.Parameter(torch.rand(1, len_input))\n",
    "        self.x = None\n",
    "        self.grad = None\n",
    "\n",
    "    def forward(self, x):\n",
    "        x = x @ self.weight + self.bias\n",
    "        return x\n",
    "\n",
    "    def backward(self, grad):\n",
    "        grad = self.weight.t() @ self.grad\n",
    "        return grad"
   ],
   "metadata": {
    "collapsed": false,
    "pycharm": {
     "name": "#%%\n"
    }
   }
  },
  {
   "cell_type": "markdown",
   "source": [
    "Написать 1-2 адаптивных оптимизатора\n",
    "1) Adagrad\n",
    "accumulated += gradient ** 2\n",
    "adapt_lr = lr / sqrt (accumulated)\n",
    "w = w - adapt_lr * gradient"
   ],
   "metadata": {
    "collapsed": false
   }
  },
  {
   "cell_type": "code",
   "execution_count": 3,
   "outputs": [],
   "source": [
    "class MyAdagrad:\n",
    "    def __init__(self, w, lr):\n",
    "        self.lr = lr\n",
    "        self.w = w\n",
    "\n",
    "    def step(self, grad):\n",
    "        accumulated = grad ** 2\n",
    "        adapt_lr = self.lr / (accumulated**0.5)\n",
    "        self.w = self.w - adapt_lr * grad\n",
    "        return self.w"
   ],
   "metadata": {
    "collapsed": false,
    "pycharm": {
     "name": "#%%\n"
    }
   }
  },
  {
   "cell_type": "markdown",
   "source": [
    "2) RMSprop\n",
    "accumulated += rho (0.9 - 0.99) * accumulated + (1- rho) * gradient ** 2\n",
    "adapt_lr = lr / sqrt (accumulated)\n",
    "w = w - adapt_lr * gradient\n",
    "\n",
    "Аккумуляция градиента за последние шаги, а не всегда как в Adagrad"
   ],
   "metadata": {
    "collapsed": false
   }
  },
  {
   "cell_type": "code",
   "execution_count": 4,
   "outputs": [],
   "source": [
    "class MyRMSProp:\n",
    "    def __init__(self, w, lr, rho=0.9):\n",
    "        self.accumulated = 0\n",
    "        self.rho = rho\n",
    "        self.lr = lr\n",
    "        self.w = w\n",
    "        if rho < 0.9 or rho > 0.99: return print('rho  will be >=  0.9 and <= 0.99')\n",
    "\n",
    "    def step(self, grad):\n",
    "        self.accumulated = self.rho * self.accumulated + (1 - self.rho) * grad ** 2\n",
    "        adapt_lr = self.lr / (self.accumulated**0.5)\n",
    "        self.w = self.w - adapt_lr * grad\n",
    "        return self.w"
   ],
   "metadata": {
    "collapsed": false,
    "pycharm": {
     "name": "#%%\n"
    }
   }
  },
  {
   "cell_type": "markdown",
   "source": [
    "Решить задачу нахождения корней квадратного уравнения методом градиентного спуска"
   ],
   "metadata": {
    "collapsed": false
   }
  },
  {
   "cell_type": "code",
   "execution_count": 5,
   "outputs": [],
   "source": [
    "class ZerosOfQuadricFunc:\n",
    "    def __init__(self, a, b, c, x_init, optim, lr):\n",
    "        self.a = a\n",
    "        self.b = b\n",
    "        self.c = c\n",
    "        self.optim = optim\n",
    "        self.lr = lr\n",
    "        self.x_init = x_init\n",
    "        if self.a == 0:\n",
    "            print('Данное уравнение не является квадратным')\n",
    "\n",
    "    def func_str(self):\n",
    "        new_a = self.a\n",
    "        new_b = self.b\n",
    "        new_c = self.c\n",
    "        if abs(self.a) == 1:\n",
    "            if self.a > 0:\n",
    "                new_a = 'x^2 '\n",
    "            else:\n",
    "                new_a = '- x^2 '\n",
    "        else:\n",
    "            new_a = str(new_a) + ' '\n",
    "        if self.b > 0:\n",
    "            if self.b == 1:\n",
    "                new_b = '+ x '\n",
    "            else:\n",
    "                new_b = '+ ' + str(new_b)+'x '\n",
    "        elif self.b < 0:\n",
    "            if self.b == -1:\n",
    "                new_b = '- x '\n",
    "            else:\n",
    "                new_b = '- ' + str(abs(new_b))+'x '\n",
    "        else:\n",
    "            new_b = ''\n",
    "        if self.c > 0:\n",
    "            if self.c == 1:\n",
    "                new_c = '+ 1'\n",
    "            else:\n",
    "                new_c = '+ ' + str(new_c)\n",
    "        elif self.c < 0:\n",
    "            if self.c == -1:\n",
    "                new_c = '- 1'\n",
    "            else:\n",
    "                new_c = '- ' + str(abs(new_c))\n",
    "        else:\n",
    "            new_c = ''\n",
    "        return 'f(x) = ' + new_a + new_b + new_c\n",
    "\n",
    "    def func_val(self, x):\n",
    "        if (type(x) == type(None)) and (self.a == 0) and (self.peak() == None):\n",
    "            return None\n",
    "        else:\n",
    "            y = self.a * x ** 2 + self.b * x + self.c\n",
    "            return y\n",
    "\n",
    "    def grad_func_val(self, x):\n",
    "        if self.a == 0: return [None]\n",
    "        grad_y = 2 * self.a * x + self.b\n",
    "        return grad_y\n",
    "\n",
    "    def peak(self):\n",
    "        if self.a == 0:\n",
    "            return None\n",
    "        else:\n",
    "            x = self.x_init\n",
    "            optim = self.optim(x, self.lr)\n",
    "            if self.grad_func_val(x) == 0:\n",
    "                return x\n",
    "            else:\n",
    "                for i in range(100000):\n",
    "                    x = optim.step([-self.grad_func_val(x) if self.a < 0 else self.grad_func_val(x)][0])\n",
    "                return x\n",
    "\n",
    "    def zeros(self):\n",
    "        if (self.a == 0) or (self.peak() == None):\n",
    "            return [None]\n",
    "        else:\n",
    "            y0 = self.func_val(self.peak())\n",
    "            if self.a < 0:\n",
    "                y0 = - y0\n",
    "            if  y0 > 0.1e-5 or self.a == 0:\n",
    "                print('Корней нет')\n",
    "                return [None]\n",
    "            elif abs(y0) < 0.1e-5:\n",
    "                x0 = self.peak()\n",
    "                return [x0]\n",
    "            else:\n",
    "                def grad_func2_val(x):\n",
    "                    grad_y2 = 2 * (self.a * x ** 2 + self.b * x + self.c) * (2 * self.a * x + self.b)\n",
    "                    return grad_y2\n",
    "                x1 = self.peak() - 10*self.lr\n",
    "                x2 = self.peak() + 10*self.lr\n",
    "                optim = self.optim(x1, self.lr)\n",
    "                for i in range(1000000):\n",
    "                    x1 = optim.step(grad_func2_val(x1))\n",
    "                optim = self.optim(x2, self.lr)\n",
    "                for i in range(1000000):\n",
    "                    x2 = optim.step(grad_func2_val(x2))\n",
    "                return [x1, x2]"
   ],
   "metadata": {
    "collapsed": false,
    "pycharm": {
     "name": "#%%\n"
    }
   }
  },
  {
   "cell_type": "code",
   "execution_count": 6,
   "outputs": [
    {
     "name": "stdout",
     "output_type": "stream",
     "text": [
      "Найдем нули функции: f(x) = x^2 + 3x + 15\n",
      "Координаты точки, из которой идем искать корни  (-9; 69)\n",
      "Вершина в точке с координатами (-1.5; 12.75)\n",
      "Корней нет\n"
     ]
    }
   ],
   "source": [
    "point_start = -9\n",
    "zeros_search = ZerosOfQuadricFunc(a=1, b=3, c=15, x_init=point_start, optim=MyRMSProp, lr=0.001)\n",
    "print('Найдем нули функции: ' + zeros_search.func_str())\n",
    "print('Координаты точки, из которой идем искать корни  (' + str(point_start) + '; ' + str(zeros_search.func_val(point_start)) + ')')\n",
    "print('Вершина в точке с координатами (' + str(zeros_search.peak()) + '; ' + str(zeros_search.func_val(zeros_search.peak())) + ')')\n",
    "zeros = zeros_search.zeros()\n",
    "if zeros[0] != None:\n",
    "    if len(zeros) == 1:\n",
    "        print('Квадратичная функция является полным квадратом суммы или разности')\n",
    "        print('Корень уравнения: ' + str(zeros[0]))\n",
    "    else:\n",
    "        print('Корни уравнения: x1 = ' + str(zeros[0]) + '; x2 = ' + str(zeros[1]))"
   ],
   "metadata": {
    "collapsed": false,
    "pycharm": {
     "name": "#%%\n"
    }
   }
  },
  {
   "cell_type": "code",
   "execution_count": 7,
   "outputs": [
    {
     "name": "stdout",
     "output_type": "stream",
     "text": [
      "Найдем нули функции: f(x) = - x^2 - 2x + 15\n",
      "Координаты точки, из которой идем искать корни  (-1; 16)\n",
      "Вершина в точке с координатами (-1; 16)\n",
      "Корни уравнения: x1 = -5.0; x2 = 3.0\n"
     ]
    }
   ],
   "source": [
    "point_start = -1\n",
    "zeros_search = ZerosOfQuadricFunc(a=-1, b=-2, c=+15, x_init=point_start, optim=MyRMSProp, lr=0.001)\n",
    "print('Найдем нули функции: ' + zeros_search.func_str())\n",
    "print('Координаты точки, из которой идем искать корни  (' + str(point_start) + '; ' + str(zeros_search.func_val(point_start)) + ')')\n",
    "print('Вершина в точке с координатами (' + str(zeros_search.peak()) + '; ' + str(zeros_search.func_val(zeros_search.peak())) + ')')\n",
    "zeros = zeros_search.zeros()\n",
    "if zeros[0] != None:\n",
    "    if len(zeros) == 1:\n",
    "        print('Квадратичная функция является полным квадратом суммы или разности')\n",
    "        print('Корень уравнения: ' + str(zeros[0]))\n",
    "    else:\n",
    "        print('Корни уравнения: x1 = ' + str(zeros[0]) + '; x2 = ' + str(zeros[1]))"
   ],
   "metadata": {
    "collapsed": false,
    "pycharm": {
     "name": "#%%\n"
    }
   }
  },
  {
   "cell_type": "code",
   "execution_count": 8,
   "outputs": [
    {
     "name": "stdout",
     "output_type": "stream",
     "text": [
      "Данное уравнение не является квадратным\n",
      "Найдем нули функции: f(x) = 0 + 3x + 15\n",
      "Координаты точки, из которой идем искать корни  (-9; -12)\n",
      "Вершина в точке с координатами (None; None)\n"
     ]
    }
   ],
   "source": [
    "point_start = -9\n",
    "zeros_search = ZerosOfQuadricFunc(a=0, b=3, c=15, x_init=point_start, optim=MyRMSProp, lr=0.001)\n",
    "print('Найдем нули функции: ' + zeros_search.func_str())\n",
    "print('Координаты точки, из которой идем искать корни  (' + str(point_start) + '; ' + str(zeros_search.func_val(point_start)) + ')')\n",
    "print('Вершина в точке с координатами (' + str(zeros_search.peak()) + '; ' + str(zeros_search.func_val(zeros_search.peak())) + ')')\n",
    "zeros = zeros_search.zeros()\n",
    "if zeros[0] != None:\n",
    "    if len(zeros) == 1:\n",
    "        print('Квадратичная функция является полным квадратом суммы или разности')\n",
    "        print('Корень уравнения: ' + str(zeros[0]))\n",
    "    else:\n",
    "        print('Корни уравнения: x1 = ' + str(zeros[0]) + '; x2 = ' + str(zeros[1]))"
   ],
   "metadata": {
    "collapsed": false,
    "pycharm": {
     "name": "#%%\n"
    }
   }
  },
  {
   "cell_type": "code",
   "execution_count": 9,
   "outputs": [
    {
     "name": "stdout",
     "output_type": "stream",
     "text": [
      "Найдем нули функции: f(x) = - x^2 \n",
      "Координаты точки, из которой идем искать корни  (-9; -81)\n",
      "Вершина в точке с координатами (4.517428098260723e-13; -2.0407156622955491e-25)\n",
      "Квадратичная функция является полным квадратом суммы или разности\n",
      "Корень уравнения: 4.517428098260723e-13\n"
     ]
    }
   ],
   "source": [
    "point_start = -9\n",
    "zeros_search = ZerosOfQuadricFunc(a=-1, b=0, c=0, x_init=point_start, optim=MyAdagrad, lr=0.001)\n",
    "print('Найдем нули функции: ' + zeros_search.func_str())\n",
    "print('Координаты точки, из которой идем искать корни  (' + str(point_start) + '; ' + str(zeros_search.func_val(point_start)) + ')')\n",
    "print('Вершина в точке с координатами (' + str(zeros_search.peak()) + '; ' + str(zeros_search.func_val(zeros_search.peak())) + ')')\n",
    "zeros = zeros_search.zeros()\n",
    "if zeros[0] != None:\n",
    "    if len(zeros) == 1:\n",
    "        print('Квадратичная функция является полным квадратом суммы или разности')\n",
    "        print('Корень уравнения: ' + str(zeros[0]))\n",
    "    else:\n",
    "        print('Корни уравнения: x1 = ' + str(zeros[0]) + '; x2 = ' + str(zeros[1]))"
   ],
   "metadata": {
    "collapsed": false,
    "pycharm": {
     "name": "#%%\n"
    }
   }
  }
 ],
 "metadata": {
  "kernelspec": {
   "display_name": "Python 3",
   "language": "python",
   "name": "python3"
  },
  "language_info": {
   "codemirror_mode": {
    "name": "ipython",
    "version": 2
   },
   "file_extension": ".py",
   "mimetype": "text/x-python",
   "name": "python",
   "nbconvert_exporter": "python",
   "pygments_lexer": "ipython2",
   "version": "2.7.6"
  }
 },
 "nbformat": 4,
 "nbformat_minor": 0
}